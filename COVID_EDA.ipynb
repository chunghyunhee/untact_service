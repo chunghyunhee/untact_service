{
  "nbformat": 4,
  "nbformat_minor": 0,
  "metadata": {
    "colab": {
      "name": "COVID_EDA.ipynb",
      "provenance": []
    },
    "kernelspec": {
      "name": "python3",
      "display_name": "Python 3"
    }
  },
  "cells": [
    {
      "cell_type": "markdown",
      "metadata": {
        "id": "Dl2gNUFIDm8U",
        "colab_type": "text"
      },
      "source": [
        "# content\n",
        "1. 일자별 신규 & 누적 확진자수 확인 ( 전국 )\n",
        "  - 1.1. 일별 확진자수를 기존 데이터에 추가 \n",
        "  - 1.2. 일자별 신규 & 누적 확진자수 \n",
        "  - 1.3. 지역별 확진자수 분포  \n",
        "  - 1.4. 성별/ 나이대별 확진자수\n",
        "2. 연령별 누적 확진자 및 사망자 분석\n",
        "  - 연령별 누적 확진자수 및 누적 사망자수 \n",
        "3. 감염 이유 분석\n",
        "4. 확진자수 기준으로 위험군 선정 \n",
        "  - 기존의 확진자 데이터 기준으로 위험군 선정\n",
        "  - 예측된 확진자 데이터 기준으로 위험군 선정 "
      ]
    },
    {
      "cell_type": "code",
      "metadata": {
        "id": "dros3XDjqjqs",
        "colab_type": "code",
        "colab": {
          "base_uri": "https://localhost:8080/",
          "height": 54
        },
        "outputId": "2f02f860-41fd-4c83-a434-3912ffb4f79f"
      },
      "source": [
        "# module import \n",
        "import pandas as pd\n",
        "import numpy as np\n",
        "import datetime as dt\n",
        "import matplotlib as mpl\n",
        "from matplotlib import pyplot as plt\n",
        "import seaborn as sns\n",
        "import warnings\n",
        "import folium\n",
        "from folium import plugins\n",
        "import plotly.express as px\n",
        "import plotly.offline as pyo\n",
        "import plotly.graph_objs as go\n",
        "from plotly.subplots import make_subplots\n",
        "from IPython.display import display, Image\n",
        "#from selenium import webdriver\n",
        "#from selenium.common.exceptions import NoSuchElementException,StaleElementReferenceException\n",
        "import json\n",
        "import time\n",
        "warnings.filterwarnings(action='ignore')\n",
        "warnings.filterwarnings(\"ignore\", category=DeprecationWarning) \n",
        "\n",
        "%matplotlib inline\n",
        "plt.style.use('seaborn')"
      ],
      "execution_count": 1,
      "outputs": [
        {
          "output_type": "stream",
          "text": [
            "/usr/local/lib/python3.6/dist-packages/statsmodels/tools/_testing.py:19: FutureWarning: pandas.util.testing is deprecated. Use the functions in the public API at pandas.testing instead.\n",
            "  import pandas.util.testing as tm\n"
          ],
          "name": "stderr"
        }
      ]
    },
    {
      "cell_type": "code",
      "metadata": {
        "id": "OHfuoHZq9gon",
        "colab_type": "code",
        "colab": {
          "base_uri": "https://localhost:8080/",
          "height": 17
        },
        "outputId": "143c9261-089b-48b4-e50f-b3bb7e8304a9"
      },
      "source": [
        "import plotly.offline as py\n",
        "py.init_notebook_mode(connected=True)\n",
        "import plotly.graph_objs as go\n",
        "import plotly.io as pio\n",
        "pio.renderers.default = 'colab'\n",
        "from plotly.offline import init_notebook_mode, iplot"
      ],
      "execution_count": 2,
      "outputs": [
        {
          "output_type": "display_data",
          "data": {
            "text/html": [
              "        <script type=\"text/javascript\">\n",
              "        window.PlotlyConfig = {MathJaxConfig: 'local'};\n",
              "        if (window.MathJax) {MathJax.Hub.Config({SVG: {font: \"STIX-Web\"}});}\n",
              "        if (typeof require !== 'undefined') {\n",
              "        require.undef(\"plotly\");\n",
              "        requirejs.config({\n",
              "            paths: {\n",
              "                'plotly': ['https://cdn.plot.ly/plotly-latest.min']\n",
              "            }\n",
              "        });\n",
              "        require(['plotly'], function(Plotly) {\n",
              "            window._Plotly = Plotly;\n",
              "        });\n",
              "        }\n",
              "        </script>\n",
              "        "
            ]
          },
          "metadata": {
            "tags": []
          }
        }
      ]
    },
    {
      "cell_type": "code",
      "metadata": {
        "id": "8lVSObK19BqI",
        "colab_type": "code",
        "colab": {}
      },
      "source": [
        "#!pip install plotly"
      ],
      "execution_count": 3,
      "outputs": []
    },
    {
      "cell_type": "code",
      "metadata": {
        "id": "w0jvXO9nroTI",
        "colab_type": "code",
        "colab": {}
      },
      "source": [
        "pd.set_option('max_columns', 24,'max_rows', 20) \n",
        "plt.style.use('seaborn')\n",
        "plt.rc('font', family='Malgun Gothic') \n",
        "plt.rc('axes', unicode_minus=False)"
      ],
      "execution_count": 4,
      "outputs": []
    },
    {
      "cell_type": "code",
      "metadata": {
        "id": "O8MuchWNrIsG",
        "colab_type": "code",
        "colab": {}
      },
      "source": [
        "#그래프 한글 출력을 위한 코드\n",
        "#!sudo apt-get install -y fonts-nanum\n",
        "#!sudo fc-cache -fv\n",
        "#!rm ~/.cache/matplotlib -rf\n",
        "#!pip install git+https://github.com/python-visualization/branca.git@master"
      ],
      "execution_count": 5,
      "outputs": []
    },
    {
      "cell_type": "markdown",
      "metadata": {
        "id": "FHEWFEsquGWR",
        "colab_type": "text"
      },
      "source": [
        "# 1. 일자별 신규 & 누적 확진자수 ( 전국 )\n",
        "### 1.1. 일별 확진자수를 기존 데이터에 추가 "
      ]
    },
    {
      "cell_type": "code",
      "metadata": {
        "id": "ctFuaCEmryoD",
        "colab_type": "code",
        "colab": {}
      },
      "source": [
        "def make_daily(df):\n",
        "    daily = df.sort_values(['date'], ascending = False)\n",
        "    daily = daily.reset_index()\n",
        "    daily = daily.drop(['index'],axis=1)\n",
        "    \n",
        "    only_case = []\n",
        "\n",
        "    for i in range(len(daily)-1):\n",
        "        only_case.append(daily['confirmed'][i]-daily['confirmed'][i+1])\n",
        "    only_case.append(1)\n",
        "\n",
        "    daily['daily'] = only_case\n",
        "\n",
        "    daily = daily.sort_values(['date'],ascending=True)\n",
        "    daily = daily.reset_index()\n",
        "    daily = daily.drop(['index'],axis=1)\n",
        "    \n",
        "    return daily"
      ],
      "execution_count": 6,
      "outputs": []
    },
    {
      "cell_type": "code",
      "metadata": {
        "id": "70MTz_qiudt2",
        "colab_type": "code",
        "colab": {}
      },
      "source": [
        "# date(날짜), confirmed(누적확진자수) 기준 데이터셋 생성\n",
        "time = pd.read_csv('Time.csv', usecols = ['date', 'confirmed'])\n",
        "\n",
        "# 해당 데이터셋에 일별 확진자수 추가 \n",
        "time = make_daily(time)"
      ],
      "execution_count": 7,
      "outputs": []
    },
    {
      "cell_type": "code",
      "metadata": {
        "id": "UDVH4BJBu7up",
        "colab_type": "code",
        "colab": {
          "base_uri": "https://localhost:8080/",
          "height": 717
        },
        "outputId": "b46bfe9d-aed5-40ea-9a55-9246e273a6eb"
      },
      "source": [
        "fig = go.Figure()\n",
        "fig.add_trace(go.Line(x=time['date'], y = time['confirmed'], name = \"일자별 누적 확진자 수(전국)\", marker_color='#009770', yaxis=\"y\"))\n",
        "fig.add_trace(go.Bar(x=time['date'], y = time['daily'], name = \"일자별 확진자 수(전국)\", marker_color='#E91E63', yaxis=\"y2\"))\n",
        "fig.update_layout(shapes=[dict(fillcolor=\"rgba(211, 211, 211, 0.3)\",line={\"width\": 0}, type=\"rect\",x0=\"2020-02-25\",x1=\"2020-03-09\",xref=\"x\",y0=0,y1=0.95,yref=\"paper\")])\n",
        "fig.update_layout(xaxis=dict(rangeslider=dict(autorange=True, range=[\"2020-01-20\", \"2020-06-30\"],visible=True),type=\"date\"),\n",
        "                  yaxis=dict(anchor=\"x\",autorange=True,domain=[0, 0.5],linecolor=\"#009770\",mirror=True,range=[-60.0858369099, 28.4406294707],showline=True,side=\"right\",\n",
        "                             tickfont={\"color\": \"#009770\"},tickmode=\"auto\",ticks=\"\",titlefont={\"color\": \"#009770\"},type=\"linear\",zeroline=False),\n",
        "                  yaxis2=dict(anchor=\"x\",autorange=True,domain=[0.5, 0.95],linecolor=\"#E91E63\",mirror=True,range=[29.3787777032, 100.621222297],showline=True,side=\"right\",\n",
        "                             tickfont={\"color\": \"#E91E63\"},tickmode=\"auto\",ticks=\"\",titlefont={\"color\": \"#E91E63\"},type=\"linear\",zeroline=False))\n",
        "fig.update_layout(dragmode=\"zoom\", hovermode=\"x\", height=700, template=\"plotly_dark\", title_text = \"일자별 코로나 확진 현황\", margin=dict(t=100, b=100))\n",
        "\n",
        "fig.show()"
      ],
      "execution_count": 8,
      "outputs": [
        {
          "output_type": "display_data",
          "data": {
            "text/html": [
              "<html>\n",
              "<head><meta charset=\"utf-8\" /></head>\n",
              "<body>\n",
              "    <div>\n",
              "            <script src=\"https://cdnjs.cloudflare.com/ajax/libs/mathjax/2.7.5/MathJax.js?config=TeX-AMS-MML_SVG\"></script><script type=\"text/javascript\">if (window.MathJax) {MathJax.Hub.Config({SVG: {font: \"STIX-Web\"}});}</script>\n",
              "                <script type=\"text/javascript\">window.PlotlyConfig = {MathJaxConfig: 'local'};</script>\n",
              "        <script src=\"https://cdn.plot.ly/plotly-latest.min.js\"></script>    \n",
              "            <div id=\"8e565715-0625-438c-adad-bd24c395c942\" class=\"plotly-graph-div\" style=\"height:700px; width:100%;\"></div>\n",
              "            <script type=\"text/javascript\">\n",
              "                \n",
              "                    window.PLOTLYENV=window.PLOTLYENV || {};\n",
              "                    \n",
              "                if (document.getElementById(\"8e565715-0625-438c-adad-bd24c395c942\")) {\n",
              "                    Plotly.newPlot(\n",
              "                        '8e565715-0625-438c-adad-bd24c395c942',\n",
              "                        [{\"marker\": {\"color\": \"#009770\"}, \"name\": \"\\uc77c\\uc790\\ubcc4 \\ub204\\uc801 \\ud655\\uc9c4\\uc790 \\uc218(\\uc804\\uad6d)\", \"type\": \"scatter\", \"x\": [\"2020-01-20\", \"2020-01-21\", \"2020-01-22\", \"2020-01-23\", \"2020-01-24\", \"2020-01-25\", \"2020-01-26\", \"2020-01-27\", \"2020-01-28\", \"2020-01-29\", \"2020-01-30\", \"2020-01-31\", \"2020-02-01\", \"2020-02-02\", \"2020-02-03\", \"2020-02-04\", \"2020-02-05\", \"2020-02-06\", \"2020-02-07\", \"2020-02-08\", \"2020-02-09\", \"2020-02-10\", \"2020-02-11\", \"2020-02-12\", \"2020-02-13\", \"2020-02-14\", \"2020-02-15\", \"2020-02-16\", \"2020-02-17\", \"2020-02-18\", \"2020-02-19\", \"2020-02-20\", \"2020-02-21\", \"2020-02-22\", \"2020-02-23\", \"2020-02-24\", \"2020-02-25\", \"2020-02-26\", \"2020-02-27\", \"2020-02-28\", \"2020-02-29\", \"2020-03-01\", \"2020-03-02\", \"2020-03-03\", \"2020-03-04\", \"2020-03-05\", \"2020-03-06\", \"2020-03-07\", \"2020-03-08\", \"2020-03-09\", \"2020-03-10\", \"2020-03-11\", \"2020-03-12\", \"2020-03-13\", \"2020-03-14\", \"2020-03-15\", \"2020-03-16\", \"2020-03-17\", \"2020-03-18\", \"2020-03-19\", \"2020-03-20\", \"2020-03-21\", \"2020-03-22\", \"2020-03-23\", \"2020-03-24\", \"2020-03-25\", \"2020-03-26\", \"2020-03-27\", \"2020-03-28\", \"2020-03-29\", \"2020-03-30\", \"2020-03-31\", \"2020-04-01\", \"2020-04-02\", \"2020-04-03\", \"2020-04-04\", \"2020-04-05\", \"2020-04-06\", \"2020-04-07\", \"2020-04-08\", \"2020-04-09\", \"2020-04-10\", \"2020-04-11\", \"2020-04-12\", \"2020-04-13\", \"2020-04-14\", \"2020-04-15\", \"2020-04-16\", \"2020-04-17\", \"2020-04-18\", \"2020-04-19\", \"2020-04-20\", \"2020-04-21\", \"2020-04-22\", \"2020-04-23\", \"2020-04-24\", \"2020-04-25\", \"2020-04-26\", \"2020-04-27\", \"2020-04-28\", \"2020-04-29\", \"2020-04-30\", \"2020-05-01\", \"2020-05-02\", \"2020-05-03\", \"2020-05-04\", \"2020-05-05\", \"2020-05-06\", \"2020-05-07\", \"2020-05-08\", \"2020-05-09\", \"2020-05-10\", \"2020-05-11\", \"2020-05-12\", \"2020-05-13\", \"2020-05-14\", \"2020-05-15\", \"2020-05-16\", \"2020-05-17\", \"2020-05-18\", \"2020-05-19\", \"2020-05-20\", \"2020-05-21\", \"2020-05-22\", \"2020-05-23\", \"2020-05-24\", \"2020-05-25\", \"2020-05-26\", \"2020-05-27\", \"2020-05-28\", \"2020-05-29\", \"2020-05-30\", \"2020-05-31\", \"2020-06-01\", \"2020-06-02\", \"2020-06-03\", \"2020-06-04\", \"2020-06-05\", \"2020-06-06\", \"2020-06-07\", \"2020-06-08\", \"2020-06-09\", \"2020-06-10\", \"2020-06-11\", \"2020-06-12\", \"2020-06-13\", \"2020-06-14\", \"2020-06-15\", \"2020-06-16\", \"2020-06-17\", \"2020-06-18\", \"2020-06-19\", \"2020-06-20\", \"2020-06-21\", \"2020-06-22\", \"2020-06-23\", \"2020-06-24\", \"2020-06-25\", \"2020-06-26\", \"2020-06-27\", \"2020-06-28\", \"2020-06-29\", \"2020-06-30\"], \"y\": [1, 1, 1, 1, 2, 2, 3, 4, 4, 4, 6, 11, 12, 15, 15, 16, 18, 23, 24, 24, 27, 27, 28, 28, 28, 28, 28, 29, 30, 31, 51, 104, 204, 433, 602, 833, 977, 1261, 1766, 2337, 3150, 3736, 4212, 4812, 5328, 5766, 6284, 6767, 7134, 7382, 7513, 7755, 7869, 7979, 8086, 8126, 8236, 8320, 8413, 8565, 8652, 8799, 8897, 8961, 9037, 9137, 9241, 9332, 9478, 9583, 9661, 9786, 9887, 9976, 10062, 10156, 10237, 10284, 10331, 10384, 10423, 10450, 10480, 10512, 10537, 10564, 10591, 10613, 10635, 10653, 10661, 10674, 10683, 10694, 10702, 10708, 10718, 10728, 10738, 10752, 10761, 10765, 10774, 10780, 10793, 10801, 10804, 10806, 10810, 10822, 10840, 10874, 10909, 10936, 10962, 10991, 11018, 11037, 11050, 11065, 11078, 11110, 11122, 11142, 11165, 11190, 11206, 11225, 11265, 11344, 11402, 11441, 11468, 11503, 11541, 11590, 11629, 11668, 11719, 11776, 11814, 11852, 11902, 11947, 12003, 12051, 12085, 12121, 12155, 12198, 12257, 12306, 12373, 12421, 12438, 12484, 12535, 12563, 12602, 12653, 12715, 12757, 12800], \"yaxis\": \"y\"}, {\"marker\": {\"color\": \"#E91E63\"}, \"name\": \"\\uc77c\\uc790\\ubcc4 \\ud655\\uc9c4\\uc790 \\uc218(\\uc804\\uad6d)\", \"type\": \"bar\", \"x\": [\"2020-01-20\", \"2020-01-21\", \"2020-01-22\", \"2020-01-23\", \"2020-01-24\", \"2020-01-25\", \"2020-01-26\", \"2020-01-27\", \"2020-01-28\", \"2020-01-29\", \"2020-01-30\", \"2020-01-31\", \"2020-02-01\", \"2020-02-02\", \"2020-02-03\", \"2020-02-04\", \"2020-02-05\", \"2020-02-06\", \"2020-02-07\", \"2020-02-08\", \"2020-02-09\", \"2020-02-10\", \"2020-02-11\", \"2020-02-12\", \"2020-02-13\", \"2020-02-14\", \"2020-02-15\", \"2020-02-16\", \"2020-02-17\", \"2020-02-18\", \"2020-02-19\", \"2020-02-20\", \"2020-02-21\", \"2020-02-22\", \"2020-02-23\", \"2020-02-24\", \"2020-02-25\", \"2020-02-26\", \"2020-02-27\", \"2020-02-28\", \"2020-02-29\", \"2020-03-01\", \"2020-03-02\", \"2020-03-03\", \"2020-03-04\", \"2020-03-05\", \"2020-03-06\", \"2020-03-07\", \"2020-03-08\", \"2020-03-09\", \"2020-03-10\", \"2020-03-11\", \"2020-03-12\", \"2020-03-13\", \"2020-03-14\", \"2020-03-15\", \"2020-03-16\", \"2020-03-17\", \"2020-03-18\", \"2020-03-19\", \"2020-03-20\", \"2020-03-21\", \"2020-03-22\", \"2020-03-23\", \"2020-03-24\", \"2020-03-25\", \"2020-03-26\", \"2020-03-27\", \"2020-03-28\", \"2020-03-29\", \"2020-03-30\", \"2020-03-31\", \"2020-04-01\", \"2020-04-02\", \"2020-04-03\", \"2020-04-04\", \"2020-04-05\", \"2020-04-06\", \"2020-04-07\", \"2020-04-08\", \"2020-04-09\", \"2020-04-10\", \"2020-04-11\", \"2020-04-12\", \"2020-04-13\", \"2020-04-14\", \"2020-04-15\", \"2020-04-16\", \"2020-04-17\", \"2020-04-18\", \"2020-04-19\", \"2020-04-20\", \"2020-04-21\", \"2020-04-22\", \"2020-04-23\", \"2020-04-24\", \"2020-04-25\", \"2020-04-26\", \"2020-04-27\", \"2020-04-28\", \"2020-04-29\", \"2020-04-30\", \"2020-05-01\", \"2020-05-02\", \"2020-05-03\", \"2020-05-04\", \"2020-05-05\", \"2020-05-06\", \"2020-05-07\", \"2020-05-08\", \"2020-05-09\", \"2020-05-10\", \"2020-05-11\", \"2020-05-12\", \"2020-05-13\", \"2020-05-14\", \"2020-05-15\", \"2020-05-16\", \"2020-05-17\", \"2020-05-18\", \"2020-05-19\", \"2020-05-20\", \"2020-05-21\", \"2020-05-22\", \"2020-05-23\", \"2020-05-24\", \"2020-05-25\", \"2020-05-26\", \"2020-05-27\", \"2020-05-28\", \"2020-05-29\", \"2020-05-30\", \"2020-05-31\", \"2020-06-01\", \"2020-06-02\", \"2020-06-03\", \"2020-06-04\", \"2020-06-05\", \"2020-06-06\", \"2020-06-07\", \"2020-06-08\", \"2020-06-09\", \"2020-06-10\", \"2020-06-11\", \"2020-06-12\", \"2020-06-13\", \"2020-06-14\", \"2020-06-15\", \"2020-06-16\", \"2020-06-17\", \"2020-06-18\", \"2020-06-19\", \"2020-06-20\", \"2020-06-21\", \"2020-06-22\", \"2020-06-23\", \"2020-06-24\", \"2020-06-25\", \"2020-06-26\", \"2020-06-27\", \"2020-06-28\", \"2020-06-29\", \"2020-06-30\"], \"y\": [1, 0, 0, 0, 1, 0, 1, 1, 0, 0, 2, 5, 1, 3, 0, 1, 2, 5, 1, 0, 3, 0, 1, 0, 0, 0, 0, 1, 1, 1, 20, 53, 100, 229, 169, 231, 144, 284, 505, 571, 813, 586, 476, 600, 516, 438, 518, 483, 367, 248, 131, 242, 114, 110, 107, 40, 110, 84, 93, 152, 87, 147, 98, 64, 76, 100, 104, 91, 146, 105, 78, 125, 101, 89, 86, 94, 81, 47, 47, 53, 39, 27, 30, 32, 25, 27, 27, 22, 22, 18, 8, 13, 9, 11, 8, 6, 10, 10, 10, 14, 9, 4, 9, 6, 13, 8, 3, 2, 4, 12, 18, 34, 35, 27, 26, 29, 27, 19, 13, 15, 13, 32, 12, 20, 23, 25, 16, 19, 40, 79, 58, 39, 27, 35, 38, 49, 39, 39, 51, 57, 38, 38, 50, 45, 56, 48, 34, 36, 34, 43, 59, 49, 67, 48, 17, 46, 51, 28, 39, 51, 62, 42, 43], \"yaxis\": \"y2\"}],\n",
              "                        {\"dragmode\": \"zoom\", \"height\": 700, \"hovermode\": \"x\", \"margin\": {\"b\": 100, \"t\": 100}, \"shapes\": [{\"fillcolor\": \"rgba(211, 211, 211, 0.3)\", \"line\": {\"width\": 0}, \"type\": \"rect\", \"x0\": \"2020-02-25\", \"x1\": \"2020-03-09\", \"xref\": \"x\", \"y0\": 0, \"y1\": 0.95, \"yref\": \"paper\"}], \"template\": {\"data\": {\"bar\": [{\"error_x\": {\"color\": \"#f2f5fa\"}, \"error_y\": {\"color\": \"#f2f5fa\"}, \"marker\": {\"line\": {\"color\": \"rgb(17,17,17)\", \"width\": 0.5}}, \"type\": \"bar\"}], \"barpolar\": [{\"marker\": {\"line\": {\"color\": \"rgb(17,17,17)\", \"width\": 0.5}}, \"type\": \"barpolar\"}], \"carpet\": [{\"aaxis\": {\"endlinecolor\": \"#A2B1C6\", \"gridcolor\": \"#506784\", \"linecolor\": \"#506784\", \"minorgridcolor\": \"#506784\", \"startlinecolor\": \"#A2B1C6\"}, \"baxis\": {\"endlinecolor\": \"#A2B1C6\", \"gridcolor\": \"#506784\", \"linecolor\": \"#506784\", \"minorgridcolor\": \"#506784\", \"startlinecolor\": \"#A2B1C6\"}, \"type\": \"carpet\"}], \"choropleth\": [{\"colorbar\": {\"outlinewidth\": 0, \"ticks\": \"\"}, \"type\": \"choropleth\"}], \"contour\": [{\"colorbar\": {\"outlinewidth\": 0, \"ticks\": \"\"}, \"colorscale\": [[0.0, \"#0d0887\"], [0.1111111111111111, \"#46039f\"], [0.2222222222222222, \"#7201a8\"], [0.3333333333333333, \"#9c179e\"], [0.4444444444444444, \"#bd3786\"], [0.5555555555555556, \"#d8576b\"], [0.6666666666666666, \"#ed7953\"], [0.7777777777777778, \"#fb9f3a\"], [0.8888888888888888, \"#fdca26\"], [1.0, \"#f0f921\"]], \"type\": \"contour\"}], \"contourcarpet\": [{\"colorbar\": {\"outlinewidth\": 0, \"ticks\": \"\"}, \"type\": \"contourcarpet\"}], \"heatmap\": [{\"colorbar\": {\"outlinewidth\": 0, \"ticks\": \"\"}, \"colorscale\": [[0.0, \"#0d0887\"], [0.1111111111111111, \"#46039f\"], [0.2222222222222222, \"#7201a8\"], [0.3333333333333333, \"#9c179e\"], [0.4444444444444444, \"#bd3786\"], [0.5555555555555556, \"#d8576b\"], [0.6666666666666666, \"#ed7953\"], [0.7777777777777778, \"#fb9f3a\"], [0.8888888888888888, \"#fdca26\"], [1.0, \"#f0f921\"]], \"type\": \"heatmap\"}], \"heatmapgl\": [{\"colorbar\": {\"outlinewidth\": 0, \"ticks\": \"\"}, \"colorscale\": [[0.0, \"#0d0887\"], [0.1111111111111111, \"#46039f\"], [0.2222222222222222, \"#7201a8\"], [0.3333333333333333, \"#9c179e\"], [0.4444444444444444, \"#bd3786\"], [0.5555555555555556, \"#d8576b\"], [0.6666666666666666, \"#ed7953\"], [0.7777777777777778, \"#fb9f3a\"], [0.8888888888888888, \"#fdca26\"], [1.0, \"#f0f921\"]], \"type\": \"heatmapgl\"}], \"histogram\": [{\"marker\": {\"colorbar\": {\"outlinewidth\": 0, \"ticks\": \"\"}}, \"type\": \"histogram\"}], \"histogram2d\": [{\"colorbar\": {\"outlinewidth\": 0, \"ticks\": \"\"}, \"colorscale\": [[0.0, \"#0d0887\"], [0.1111111111111111, \"#46039f\"], [0.2222222222222222, \"#7201a8\"], [0.3333333333333333, \"#9c179e\"], [0.4444444444444444, \"#bd3786\"], [0.5555555555555556, \"#d8576b\"], [0.6666666666666666, \"#ed7953\"], [0.7777777777777778, \"#fb9f3a\"], [0.8888888888888888, \"#fdca26\"], [1.0, \"#f0f921\"]], \"type\": \"histogram2d\"}], \"histogram2dcontour\": [{\"colorbar\": {\"outlinewidth\": 0, \"ticks\": \"\"}, \"colorscale\": [[0.0, \"#0d0887\"], [0.1111111111111111, \"#46039f\"], [0.2222222222222222, \"#7201a8\"], [0.3333333333333333, \"#9c179e\"], [0.4444444444444444, \"#bd3786\"], [0.5555555555555556, \"#d8576b\"], [0.6666666666666666, \"#ed7953\"], [0.7777777777777778, \"#fb9f3a\"], [0.8888888888888888, \"#fdca26\"], [1.0, \"#f0f921\"]], \"type\": \"histogram2dcontour\"}], \"mesh3d\": [{\"colorbar\": {\"outlinewidth\": 0, \"ticks\": \"\"}, \"type\": \"mesh3d\"}], \"parcoords\": [{\"line\": {\"colorbar\": {\"outlinewidth\": 0, \"ticks\": \"\"}}, \"type\": \"parcoords\"}], \"pie\": [{\"automargin\": true, \"type\": \"pie\"}], \"scatter\": [{\"marker\": {\"line\": {\"color\": \"#283442\"}}, \"type\": \"scatter\"}], \"scatter3d\": [{\"line\": {\"colorbar\": {\"outlinewidth\": 0, \"ticks\": \"\"}}, \"marker\": {\"colorbar\": {\"outlinewidth\": 0, \"ticks\": \"\"}}, \"type\": \"scatter3d\"}], \"scattercarpet\": [{\"marker\": {\"colorbar\": {\"outlinewidth\": 0, \"ticks\": \"\"}}, \"type\": \"scattercarpet\"}], \"scattergeo\": [{\"marker\": {\"colorbar\": {\"outlinewidth\": 0, \"ticks\": \"\"}}, \"type\": \"scattergeo\"}], \"scattergl\": [{\"marker\": {\"line\": {\"color\": \"#283442\"}}, \"type\": \"scattergl\"}], \"scattermapbox\": [{\"marker\": {\"colorbar\": {\"outlinewidth\": 0, \"ticks\": \"\"}}, \"type\": \"scattermapbox\"}], \"scatterpolar\": [{\"marker\": {\"colorbar\": {\"outlinewidth\": 0, \"ticks\": \"\"}}, \"type\": \"scatterpolar\"}], \"scatterpolargl\": [{\"marker\": {\"colorbar\": {\"outlinewidth\": 0, \"ticks\": \"\"}}, \"type\": \"scatterpolargl\"}], \"scatterternary\": [{\"marker\": {\"colorbar\": {\"outlinewidth\": 0, \"ticks\": \"\"}}, \"type\": \"scatterternary\"}], \"surface\": [{\"colorbar\": {\"outlinewidth\": 0, \"ticks\": \"\"}, \"colorscale\": [[0.0, \"#0d0887\"], [0.1111111111111111, \"#46039f\"], [0.2222222222222222, \"#7201a8\"], [0.3333333333333333, \"#9c179e\"], [0.4444444444444444, \"#bd3786\"], [0.5555555555555556, \"#d8576b\"], [0.6666666666666666, \"#ed7953\"], [0.7777777777777778, \"#fb9f3a\"], [0.8888888888888888, \"#fdca26\"], [1.0, \"#f0f921\"]], \"type\": \"surface\"}], \"table\": [{\"cells\": {\"fill\": {\"color\": \"#506784\"}, \"line\": {\"color\": \"rgb(17,17,17)\"}}, \"header\": {\"fill\": {\"color\": \"#2a3f5f\"}, \"line\": {\"color\": \"rgb(17,17,17)\"}}, \"type\": \"table\"}]}, \"layout\": {\"annotationdefaults\": {\"arrowcolor\": \"#f2f5fa\", \"arrowhead\": 0, \"arrowwidth\": 1}, \"coloraxis\": {\"colorbar\": {\"outlinewidth\": 0, \"ticks\": \"\"}}, \"colorscale\": {\"diverging\": [[0, \"#8e0152\"], [0.1, \"#c51b7d\"], [0.2, \"#de77ae\"], [0.3, \"#f1b6da\"], [0.4, \"#fde0ef\"], [0.5, \"#f7f7f7\"], [0.6, \"#e6f5d0\"], [0.7, \"#b8e186\"], [0.8, \"#7fbc41\"], [0.9, \"#4d9221\"], [1, \"#276419\"]], \"sequential\": [[0.0, \"#0d0887\"], [0.1111111111111111, \"#46039f\"], [0.2222222222222222, \"#7201a8\"], [0.3333333333333333, \"#9c179e\"], [0.4444444444444444, \"#bd3786\"], [0.5555555555555556, \"#d8576b\"], [0.6666666666666666, \"#ed7953\"], [0.7777777777777778, \"#fb9f3a\"], [0.8888888888888888, \"#fdca26\"], [1.0, \"#f0f921\"]], \"sequentialminus\": [[0.0, \"#0d0887\"], [0.1111111111111111, \"#46039f\"], [0.2222222222222222, \"#7201a8\"], [0.3333333333333333, \"#9c179e\"], [0.4444444444444444, \"#bd3786\"], [0.5555555555555556, \"#d8576b\"], [0.6666666666666666, \"#ed7953\"], [0.7777777777777778, \"#fb9f3a\"], [0.8888888888888888, \"#fdca26\"], [1.0, \"#f0f921\"]]}, \"colorway\": [\"#636efa\", \"#EF553B\", \"#00cc96\", \"#ab63fa\", \"#FFA15A\", \"#19d3f3\", \"#FF6692\", \"#B6E880\", \"#FF97FF\", \"#FECB52\"], \"font\": {\"color\": \"#f2f5fa\"}, \"geo\": {\"bgcolor\": \"rgb(17,17,17)\", \"lakecolor\": \"rgb(17,17,17)\", \"landcolor\": \"rgb(17,17,17)\", \"showlakes\": true, \"showland\": true, \"subunitcolor\": \"#506784\"}, \"hoverlabel\": {\"align\": \"left\"}, \"hovermode\": \"closest\", \"mapbox\": {\"style\": \"dark\"}, \"paper_bgcolor\": \"rgb(17,17,17)\", \"plot_bgcolor\": \"rgb(17,17,17)\", \"polar\": {\"angularaxis\": {\"gridcolor\": \"#506784\", \"linecolor\": \"#506784\", \"ticks\": \"\"}, \"bgcolor\": \"rgb(17,17,17)\", \"radialaxis\": {\"gridcolor\": \"#506784\", \"linecolor\": \"#506784\", \"ticks\": \"\"}}, \"scene\": {\"xaxis\": {\"backgroundcolor\": \"rgb(17,17,17)\", \"gridcolor\": \"#506784\", \"gridwidth\": 2, \"linecolor\": \"#506784\", \"showbackground\": true, \"ticks\": \"\", \"zerolinecolor\": \"#C8D4E3\"}, \"yaxis\": {\"backgroundcolor\": \"rgb(17,17,17)\", \"gridcolor\": \"#506784\", \"gridwidth\": 2, \"linecolor\": \"#506784\", \"showbackground\": true, \"ticks\": \"\", \"zerolinecolor\": \"#C8D4E3\"}, \"zaxis\": {\"backgroundcolor\": \"rgb(17,17,17)\", \"gridcolor\": \"#506784\", \"gridwidth\": 2, \"linecolor\": \"#506784\", \"showbackground\": true, \"ticks\": \"\", \"zerolinecolor\": \"#C8D4E3\"}}, \"shapedefaults\": {\"line\": {\"color\": \"#f2f5fa\"}}, \"sliderdefaults\": {\"bgcolor\": \"#C8D4E3\", \"bordercolor\": \"rgb(17,17,17)\", \"borderwidth\": 1, \"tickwidth\": 0}, \"ternary\": {\"aaxis\": {\"gridcolor\": \"#506784\", \"linecolor\": \"#506784\", \"ticks\": \"\"}, \"baxis\": {\"gridcolor\": \"#506784\", \"linecolor\": \"#506784\", \"ticks\": \"\"}, \"bgcolor\": \"rgb(17,17,17)\", \"caxis\": {\"gridcolor\": \"#506784\", \"linecolor\": \"#506784\", \"ticks\": \"\"}}, \"title\": {\"x\": 0.05}, \"updatemenudefaults\": {\"bgcolor\": \"#506784\", \"borderwidth\": 0}, \"xaxis\": {\"automargin\": true, \"gridcolor\": \"#283442\", \"linecolor\": \"#506784\", \"ticks\": \"\", \"title\": {\"standoff\": 15}, \"zerolinecolor\": \"#283442\", \"zerolinewidth\": 2}, \"yaxis\": {\"automargin\": true, \"gridcolor\": \"#283442\", \"linecolor\": \"#506784\", \"ticks\": \"\", \"title\": {\"standoff\": 15}, \"zerolinecolor\": \"#283442\", \"zerolinewidth\": 2}}}, \"title\": {\"text\": \"\\uc77c\\uc790\\ubcc4 \\ucf54\\ub85c\\ub098 \\ud655\\uc9c4 \\ud604\\ud669\"}, \"xaxis\": {\"rangeslider\": {\"autorange\": true, \"range\": [\"2020-01-20\", \"2020-06-30\"], \"visible\": true}, \"type\": \"date\"}, \"yaxis\": {\"anchor\": \"x\", \"autorange\": true, \"domain\": [0, 0.5], \"linecolor\": \"#009770\", \"mirror\": true, \"range\": [-60.0858369099, 28.4406294707], \"showline\": true, \"side\": \"right\", \"tickfont\": {\"color\": \"#009770\"}, \"tickmode\": \"auto\", \"ticks\": \"\", \"title\": {\"font\": {\"color\": \"#009770\"}}, \"type\": \"linear\", \"zeroline\": false}, \"yaxis2\": {\"anchor\": \"x\", \"autorange\": true, \"domain\": [0.5, 0.95], \"linecolor\": \"#E91E63\", \"mirror\": true, \"range\": [29.3787777032, 100.621222297], \"showline\": true, \"side\": \"right\", \"tickfont\": {\"color\": \"#E91E63\"}, \"tickmode\": \"auto\", \"ticks\": \"\", \"title\": {\"font\": {\"color\": \"#E91E63\"}}, \"type\": \"linear\", \"zeroline\": false}},\n",
              "                        {\"responsive\": true}\n",
              "                    ).then(function(){\n",
              "                            \n",
              "var gd = document.getElementById('8e565715-0625-438c-adad-bd24c395c942');\n",
              "var x = new MutationObserver(function (mutations, observer) {{\n",
              "        var display = window.getComputedStyle(gd).display;\n",
              "        if (!display || display === 'none') {{\n",
              "            console.log([gd, 'removed!']);\n",
              "            Plotly.purge(gd);\n",
              "            observer.disconnect();\n",
              "        }}\n",
              "}});\n",
              "\n",
              "// Listen for the removal of the full notebook cells\n",
              "var notebookContainer = gd.closest('#notebook-container');\n",
              "if (notebookContainer) {{\n",
              "    x.observe(notebookContainer, {childList: true});\n",
              "}}\n",
              "\n",
              "// Listen for the clearing of the current output cell\n",
              "var outputEl = gd.closest('.output');\n",
              "if (outputEl) {{\n",
              "    x.observe(outputEl, {childList: true});\n",
              "}}\n",
              "\n",
              "                        })\n",
              "                };\n",
              "                \n",
              "            </script>\n",
              "        </div>\n",
              "</body>\n",
              "</html>"
            ]
          },
          "metadata": {
            "tags": []
          }
        }
      ]
    },
    {
      "cell_type": "markdown",
      "metadata": {
        "id": "NC6VWNydEBDv",
        "colab_type": "text"
      },
      "source": [
        "2020년 6월 30일 까지의 코로나 데이터를 집계한 결과, 이전 3월에 가장 많은 확진자가 나왓음을 확인할 수 있고, 잠잠하다 다시 2020년 6월부터 다시 재개 되었음을 확인할 수 있었음.  "
      ]
    },
    {
      "cell_type": "markdown",
      "metadata": {
        "id": "-BBHX0OZ0UFX",
        "colab_type": "text"
      },
      "source": [
        "### 1.2. 일자별 신규 & 누적 확진자수 \n",
        "#### 1.2.1. 코로나19 확진자 map"
      ]
    },
    {
      "cell_type": "code",
      "metadata": {
        "id": "42Is_1yCu-v6",
        "colab_type": "code",
        "colab": {}
      },
      "source": [
        "# 각 지역별 확진자 확인 \n",
        "case = pd.read_csv('Case.csv')\n",
        "pv_sum = case.filter(['province', 'confirmed']). groupby(['province']).sum()"
      ],
      "execution_count": 9,
      "outputs": []
    },
    {
      "cell_type": "code",
      "metadata": {
        "id": "NF5K6kk60shk",
        "colab_type": "code",
        "colab": {}
      },
      "source": [
        "pv_sum['lat'] = 0.0\n",
        "pv_sum['lon'] = 0.0"
      ],
      "execution_count": 10,
      "outputs": []
    },
    {
      "cell_type": "code",
      "metadata": {
        "id": "QvnQzBFK0yEq",
        "colab_type": "code",
        "colab": {}
      },
      "source": [
        "# 각 지역별 위경도 표시 (각 지역별 확진자 표기하기 위함)\n",
        "#지역별 위도,경도 추가\n",
        "pv_sum.loc['강원도','lat'] = 38.079\n",
        "pv_sum.loc['강원도','lon'] = 128.284\n",
        "pv_sum.loc['경기도','lat'] = 37.194\n",
        "pv_sum.loc['경기도','lon'] = 127.255\n",
        "pv_sum.loc['경상남도','lat'] = 35.295\n",
        "pv_sum.loc['경상남도','lon'] = 128.389\n",
        "pv_sum.loc['경상북도','lat'] = 36.652\n",
        "pv_sum.loc['경상북도','lon'] = 128.828\n",
        "pv_sum.loc['광주','lat'] = 35.128\n",
        "pv_sum.loc['광주','lon'] = 126.850\n",
        "pv_sum.loc['대구','lat'] = 35.826\n",
        "pv_sum.loc['대구','lon'] = 128.527\n",
        "pv_sum.loc['대전','lat'] = 36.263\n",
        "pv_sum.loc['대전','lon'] = 127.404\n",
        "pv_sum.loc['부산','lat'] = 35.160\n",
        "pv_sum.loc['부산','lon'] = 129.113\n",
        "pv_sum.loc['서울','lat'] = 37.590\n",
        "pv_sum.loc['서울','lon'] = 127.002\n",
        "pv_sum.loc['세종','lat'] = 36.551\n",
        "pv_sum.loc['세종','lon'] = 127.303\n",
        "pv_sum.loc['울산','lat'] = 35.516\n",
        "pv_sum.loc['울산','lon'] = 129.322\n",
        "pv_sum.loc['인천','lat'] = 37.484\n",
        "pv_sum.loc['인천','lon'] = 126.652\n",
        "pv_sum.loc['제주도','lat'] = 33.507\n",
        "pv_sum.loc['제주도','lon'] = 126.525\n",
        "pv_sum.loc['전라남도','lat'] =  34.694\n",
        "pv_sum.loc['전라남도','lon'] = 126.976\n",
        "pv_sum.loc['전라북도','lat'] =  35.774\n",
        "pv_sum.loc['전라북도','lon'] = 127.099\n",
        "pv_sum.loc['충청남도','lat'] = 36.566\n",
        "pv_sum.loc['충청남도','lon'] = 126.617\n",
        "pv_sum.loc['충청북도','lat'] = 36.756\n",
        "pv_sum.loc['충청북도','lon'] = 127.602"
      ],
      "execution_count": 11,
      "outputs": []
    },
    {
      "cell_type": "code",
      "metadata": {
        "id": "OutPzwXk04xz",
        "colab_type": "code",
        "colab": {
          "base_uri": "https://localhost:8080/",
          "height": 992
        },
        "outputId": "1e5afc42-7b8e-41df-ac77-33c5836cb8ea"
      },
      "source": [
        "# folium 시각화\n",
        "m = folium.Map([36.4, 128], zoom_start = 7)\n",
        "\n",
        "for index, row in pv_sum.iterrows():\n",
        "    folium.Circle(\n",
        "        location = (row['lat'],row['lon']), \n",
        "        fill_color='#ff3399',\n",
        "        color = '#E91E63',\n",
        "        radius = row['confirmed']*12\n",
        "    ).add_to(m)\n",
        "m"
      ],
      "execution_count": 12,
      "outputs": [
        {
          "output_type": "execute_result",
          "data": {
            "text/html": [
              "<div style=\"width:100%;\"><div style=\"position:relative;width:100%;height:0;padding-bottom:60%;\"><span style=\"color:#565656\">Make this Notebook Trusted to load map: File -> Trust Notebook</span><iframe src=\"about:blank\" style=\"position:absolute;width:100%;height:100%;left:0;top:0;border:none !important;\" data-html=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 onload=\"this.contentDocument.open();this.contentDocument.write(atob(this.getAttribute('data-html')));this.contentDocument.close();\" allowfullscreen webkitallowfullscreen mozallowfullscreen></iframe></div></div>"
            ],
            "text/plain": [
              "<folium.folium.Map at 0x7ffafe535eb8>"
            ]
          },
          "metadata": {
            "tags": []
          },
          "execution_count": 12
        }
      ]
    },
    {
      "cell_type": "markdown",
      "metadata": {
        "id": "jURzZ6201pJc",
        "colab_type": "text"
      },
      "source": [
        "지역국한이 아니라 전국 지역의 확진자를 확인이 가능하다. \n",
        "\n",
        "### 1.2.2. 지역별 확진자수 분포"
      ]
    },
    {
      "cell_type": "code",
      "metadata": {
        "id": "ob6iVMk41R4N",
        "colab_type": "code",
        "colab": {
          "base_uri": "https://localhost:8080/",
          "height": 542
        },
        "outputId": "d784aa02-408a-449c-a8b7-5afb761ed610"
      },
      "source": [
        "pv_sum = case.filter(['province', 'confirmed']).groupby(['province']).sum().reset_index()\n",
        "data = [go.Pie(labels=pv_sum['province'], values=pv_sum['confirmed'],hole=.3)]\n",
        "fig = go.Figure(data=data)\n",
        "fig.update_layout(\n",
        "    title={'text': \"지역별 확진자 수\", 'y':0.9,'x':0.5,'xanchor': 'center','yanchor': 'top'})\n",
        "fig.update_layout(template='plotly_dark')\n",
        "fig.update_traces(textposition='inside')\n",
        "pyo.iplot(fig)"
      ],
      "execution_count": 13,
      "outputs": [
        {
          "output_type": "display_data",
          "data": {
            "text/html": [
              "<html>\n",
              "<head><meta charset=\"utf-8\" /></head>\n",
              "<body>\n",
              "    <div>\n",
              "            <script src=\"https://cdnjs.cloudflare.com/ajax/libs/mathjax/2.7.5/MathJax.js?config=TeX-AMS-MML_SVG\"></script><script type=\"text/javascript\">if (window.MathJax) {MathJax.Hub.Config({SVG: {font: \"STIX-Web\"}});}</script>\n",
              "                <script type=\"text/javascript\">window.PlotlyConfig = {MathJaxConfig: 'local'};</script>\n",
              "        <script src=\"https://cdn.plot.ly/plotly-latest.min.js\"></script>    \n",
              "            <div id=\"b82e7014-6b71-4191-8590-4224a514433d\" class=\"plotly-graph-div\" style=\"height:525px; width:100%;\"></div>\n",
              "            <script type=\"text/javascript\">\n",
              "                \n",
              "                    window.PLOTLYENV=window.PLOTLYENV || {};\n",
              "                    \n",
              "                if (document.getElementById(\"b82e7014-6b71-4191-8590-4224a514433d\")) {\n",
              "                    Plotly.newPlot(\n",
              "                        'b82e7014-6b71-4191-8590-4224a514433d',\n",
              "                        [{\"hole\": 0.3, \"labels\": [\"\\uac15\\uc6d0\\ub3c4\", \"\\uacbd\\uae30\\ub3c4\", \"\\uacbd\\uc0c1\\ub0a8\\ub3c4\", \"\\uacbd\\uc0c1\\ubd81\\ub3c4\", \"\\uad11\\uc8fc\", \"\\ub300\\uad6c\", \"\\ub300\\uc804\", \"\\ubd80\\uc0b0\", \"\\uc11c\\uc6b8\", \"\\uc138\\uc885\", \"\\uc6b8\\uc0b0\", \"\\uc778\\ucc9c\", \"\\uc804\\ub77c\\ub0a8\\ub3c4\", \"\\uc804\\ub77c\\ubd81\\ub3c4\", \"\\uc81c\\uc8fc\\ub3c4\", \"\\ucda9\\uccad\\ub0a8\\ub3c4\", \"\\ucda9\\uccad\\ubd81\\ub3c4\"], \"textposition\": \"inside\", \"type\": \"pie\", \"values\": [62, 1000, 132, 1324, 43, 6680, 131, 156, 1280, 49, 51, 202, 25, 23, 19, 158, 60]}],\n",
              "                        {\"template\": {\"data\": {\"bar\": [{\"error_x\": {\"color\": \"#f2f5fa\"}, \"error_y\": {\"color\": \"#f2f5fa\"}, \"marker\": {\"line\": {\"color\": \"rgb(17,17,17)\", \"width\": 0.5}}, \"type\": \"bar\"}], \"barpolar\": [{\"marker\": {\"line\": {\"color\": \"rgb(17,17,17)\", \"width\": 0.5}}, \"type\": \"barpolar\"}], \"carpet\": [{\"aaxis\": {\"endlinecolor\": \"#A2B1C6\", \"gridcolor\": \"#506784\", \"linecolor\": \"#506784\", \"minorgridcolor\": \"#506784\", \"startlinecolor\": \"#A2B1C6\"}, \"baxis\": {\"endlinecolor\": \"#A2B1C6\", \"gridcolor\": \"#506784\", \"linecolor\": \"#506784\", \"minorgridcolor\": \"#506784\", \"startlinecolor\": \"#A2B1C6\"}, \"type\": \"carpet\"}], \"choropleth\": [{\"colorbar\": {\"outlinewidth\": 0, \"ticks\": \"\"}, \"type\": \"choropleth\"}], \"contour\": [{\"colorbar\": {\"outlinewidth\": 0, \"ticks\": \"\"}, \"colorscale\": [[0.0, \"#0d0887\"], [0.1111111111111111, \"#46039f\"], [0.2222222222222222, \"#7201a8\"], [0.3333333333333333, \"#9c179e\"], [0.4444444444444444, \"#bd3786\"], [0.5555555555555556, \"#d8576b\"], [0.6666666666666666, \"#ed7953\"], [0.7777777777777778, \"#fb9f3a\"], [0.8888888888888888, \"#fdca26\"], [1.0, \"#f0f921\"]], \"type\": \"contour\"}], \"contourcarpet\": [{\"colorbar\": {\"outlinewidth\": 0, \"ticks\": \"\"}, \"type\": \"contourcarpet\"}], \"heatmap\": [{\"colorbar\": {\"outlinewidth\": 0, \"ticks\": \"\"}, \"colorscale\": [[0.0, \"#0d0887\"], [0.1111111111111111, \"#46039f\"], [0.2222222222222222, \"#7201a8\"], [0.3333333333333333, \"#9c179e\"], [0.4444444444444444, \"#bd3786\"], [0.5555555555555556, \"#d8576b\"], [0.6666666666666666, \"#ed7953\"], [0.7777777777777778, \"#fb9f3a\"], [0.8888888888888888, \"#fdca26\"], [1.0, \"#f0f921\"]], \"type\": \"heatmap\"}], \"heatmapgl\": [{\"colorbar\": {\"outlinewidth\": 0, \"ticks\": \"\"}, \"colorscale\": [[0.0, \"#0d0887\"], [0.1111111111111111, \"#46039f\"], [0.2222222222222222, \"#7201a8\"], [0.3333333333333333, \"#9c179e\"], [0.4444444444444444, \"#bd3786\"], [0.5555555555555556, \"#d8576b\"], [0.6666666666666666, \"#ed7953\"], [0.7777777777777778, \"#fb9f3a\"], [0.8888888888888888, \"#fdca26\"], [1.0, \"#f0f921\"]], \"type\": \"heatmapgl\"}], \"histogram\": [{\"marker\": {\"colorbar\": {\"outlinewidth\": 0, \"ticks\": \"\"}}, \"type\": \"histogram\"}], \"histogram2d\": [{\"colorbar\": {\"outlinewidth\": 0, \"ticks\": \"\"}, \"colorscale\": [[0.0, \"#0d0887\"], [0.1111111111111111, \"#46039f\"], [0.2222222222222222, \"#7201a8\"], [0.3333333333333333, \"#9c179e\"], [0.4444444444444444, \"#bd3786\"], [0.5555555555555556, \"#d8576b\"], [0.6666666666666666, \"#ed7953\"], [0.7777777777777778, \"#fb9f3a\"], [0.8888888888888888, \"#fdca26\"], [1.0, \"#f0f921\"]], \"type\": \"histogram2d\"}], \"histogram2dcontour\": [{\"colorbar\": {\"outlinewidth\": 0, \"ticks\": \"\"}, \"colorscale\": [[0.0, \"#0d0887\"], [0.1111111111111111, \"#46039f\"], [0.2222222222222222, \"#7201a8\"], [0.3333333333333333, \"#9c179e\"], [0.4444444444444444, \"#bd3786\"], [0.5555555555555556, \"#d8576b\"], [0.6666666666666666, \"#ed7953\"], [0.7777777777777778, \"#fb9f3a\"], [0.8888888888888888, \"#fdca26\"], [1.0, \"#f0f921\"]], \"type\": \"histogram2dcontour\"}], \"mesh3d\": [{\"colorbar\": {\"outlinewidth\": 0, \"ticks\": \"\"}, \"type\": \"mesh3d\"}], \"parcoords\": [{\"line\": {\"colorbar\": {\"outlinewidth\": 0, \"ticks\": \"\"}}, \"type\": \"parcoords\"}], \"pie\": [{\"automargin\": true, \"type\": \"pie\"}], \"scatter\": [{\"marker\": {\"line\": {\"color\": \"#283442\"}}, \"type\": \"scatter\"}], \"scatter3d\": [{\"line\": {\"colorbar\": {\"outlinewidth\": 0, \"ticks\": \"\"}}, \"marker\": {\"colorbar\": {\"outlinewidth\": 0, \"ticks\": \"\"}}, \"type\": \"scatter3d\"}], \"scattercarpet\": [{\"marker\": {\"colorbar\": {\"outlinewidth\": 0, \"ticks\": \"\"}}, \"type\": \"scattercarpet\"}], \"scattergeo\": [{\"marker\": {\"colorbar\": {\"outlinewidth\": 0, \"ticks\": \"\"}}, \"type\": \"scattergeo\"}], \"scattergl\": [{\"marker\": {\"line\": {\"color\": \"#283442\"}}, \"type\": \"scattergl\"}], \"scattermapbox\": [{\"marker\": {\"colorbar\": {\"outlinewidth\": 0, \"ticks\": \"\"}}, \"type\": \"scattermapbox\"}], \"scatterpolar\": [{\"marker\": {\"colorbar\": {\"outlinewidth\": 0, \"ticks\": \"\"}}, \"type\": \"scatterpolar\"}], \"scatterpolargl\": [{\"marker\": {\"colorbar\": {\"outlinewidth\": 0, \"ticks\": \"\"}}, \"type\": \"scatterpolargl\"}], \"scatterternary\": [{\"marker\": {\"colorbar\": {\"outlinewidth\": 0, \"ticks\": \"\"}}, \"type\": \"scatterternary\"}], \"surface\": [{\"colorbar\": {\"outlinewidth\": 0, \"ticks\": \"\"}, \"colorscale\": [[0.0, \"#0d0887\"], [0.1111111111111111, \"#46039f\"], [0.2222222222222222, \"#7201a8\"], [0.3333333333333333, \"#9c179e\"], [0.4444444444444444, \"#bd3786\"], [0.5555555555555556, \"#d8576b\"], [0.6666666666666666, \"#ed7953\"], [0.7777777777777778, \"#fb9f3a\"], [0.8888888888888888, \"#fdca26\"], [1.0, \"#f0f921\"]], \"type\": \"surface\"}], \"table\": [{\"cells\": {\"fill\": {\"color\": \"#506784\"}, \"line\": {\"color\": \"rgb(17,17,17)\"}}, \"header\": {\"fill\": {\"color\": \"#2a3f5f\"}, \"line\": {\"color\": \"rgb(17,17,17)\"}}, \"type\": \"table\"}]}, \"layout\": {\"annotationdefaults\": {\"arrowcolor\": \"#f2f5fa\", \"arrowhead\": 0, \"arrowwidth\": 1}, \"coloraxis\": {\"colorbar\": {\"outlinewidth\": 0, \"ticks\": \"\"}}, \"colorscale\": {\"diverging\": [[0, \"#8e0152\"], [0.1, \"#c51b7d\"], [0.2, \"#de77ae\"], [0.3, \"#f1b6da\"], [0.4, \"#fde0ef\"], [0.5, \"#f7f7f7\"], [0.6, \"#e6f5d0\"], [0.7, \"#b8e186\"], [0.8, \"#7fbc41\"], [0.9, \"#4d9221\"], [1, \"#276419\"]], \"sequential\": [[0.0, \"#0d0887\"], [0.1111111111111111, \"#46039f\"], [0.2222222222222222, \"#7201a8\"], [0.3333333333333333, \"#9c179e\"], [0.4444444444444444, \"#bd3786\"], [0.5555555555555556, \"#d8576b\"], [0.6666666666666666, \"#ed7953\"], [0.7777777777777778, \"#fb9f3a\"], [0.8888888888888888, \"#fdca26\"], [1.0, \"#f0f921\"]], \"sequentialminus\": [[0.0, \"#0d0887\"], [0.1111111111111111, \"#46039f\"], [0.2222222222222222, \"#7201a8\"], [0.3333333333333333, \"#9c179e\"], [0.4444444444444444, \"#bd3786\"], [0.5555555555555556, \"#d8576b\"], [0.6666666666666666, \"#ed7953\"], [0.7777777777777778, \"#fb9f3a\"], [0.8888888888888888, \"#fdca26\"], [1.0, \"#f0f921\"]]}, \"colorway\": [\"#636efa\", \"#EF553B\", \"#00cc96\", \"#ab63fa\", \"#FFA15A\", \"#19d3f3\", \"#FF6692\", \"#B6E880\", \"#FF97FF\", \"#FECB52\"], \"font\": {\"color\": \"#f2f5fa\"}, \"geo\": {\"bgcolor\": \"rgb(17,17,17)\", \"lakecolor\": \"rgb(17,17,17)\", \"landcolor\": \"rgb(17,17,17)\", \"showlakes\": true, \"showland\": true, \"subunitcolor\": \"#506784\"}, \"hoverlabel\": {\"align\": \"left\"}, \"hovermode\": \"closest\", \"mapbox\": {\"style\": \"dark\"}, \"paper_bgcolor\": \"rgb(17,17,17)\", \"plot_bgcolor\": \"rgb(17,17,17)\", \"polar\": {\"angularaxis\": {\"gridcolor\": \"#506784\", \"linecolor\": \"#506784\", \"ticks\": \"\"}, \"bgcolor\": \"rgb(17,17,17)\", \"radialaxis\": {\"gridcolor\": \"#506784\", \"linecolor\": \"#506784\", \"ticks\": \"\"}}, \"scene\": {\"xaxis\": {\"backgroundcolor\": \"rgb(17,17,17)\", \"gridcolor\": \"#506784\", \"gridwidth\": 2, \"linecolor\": \"#506784\", \"showbackground\": true, \"ticks\": \"\", \"zerolinecolor\": \"#C8D4E3\"}, \"yaxis\": {\"backgroundcolor\": \"rgb(17,17,17)\", \"gridcolor\": \"#506784\", \"gridwidth\": 2, \"linecolor\": \"#506784\", \"showbackground\": true, \"ticks\": \"\", \"zerolinecolor\": \"#C8D4E3\"}, \"zaxis\": {\"backgroundcolor\": \"rgb(17,17,17)\", \"gridcolor\": \"#506784\", \"gridwidth\": 2, \"linecolor\": \"#506784\", \"showbackground\": true, \"ticks\": \"\", \"zerolinecolor\": \"#C8D4E3\"}}, \"shapedefaults\": {\"line\": {\"color\": \"#f2f5fa\"}}, \"sliderdefaults\": {\"bgcolor\": \"#C8D4E3\", \"bordercolor\": \"rgb(17,17,17)\", \"borderwidth\": 1, \"tickwidth\": 0}, \"ternary\": {\"aaxis\": {\"gridcolor\": \"#506784\", \"linecolor\": \"#506784\", \"ticks\": \"\"}, \"baxis\": {\"gridcolor\": \"#506784\", \"linecolor\": \"#506784\", \"ticks\": \"\"}, \"bgcolor\": \"rgb(17,17,17)\", \"caxis\": {\"gridcolor\": \"#506784\", \"linecolor\": \"#506784\", \"ticks\": \"\"}}, \"title\": {\"x\": 0.05}, \"updatemenudefaults\": {\"bgcolor\": \"#506784\", \"borderwidth\": 0}, \"xaxis\": {\"automargin\": true, \"gridcolor\": \"#283442\", \"linecolor\": \"#506784\", \"ticks\": \"\", \"title\": {\"standoff\": 15}, \"zerolinecolor\": \"#283442\", \"zerolinewidth\": 2}, \"yaxis\": {\"automargin\": true, \"gridcolor\": \"#283442\", \"linecolor\": \"#506784\", \"ticks\": \"\", \"title\": {\"standoff\": 15}, \"zerolinecolor\": \"#283442\", \"zerolinewidth\": 2}}}, \"title\": {\"text\": \"\\uc9c0\\uc5ed\\ubcc4 \\ud655\\uc9c4\\uc790 \\uc218\", \"x\": 0.5, \"xanchor\": \"center\", \"y\": 0.9, \"yanchor\": \"top\"}},\n",
              "                        {\"responsive\": true}\n",
              "                    ).then(function(){\n",
              "                            \n",
              "var gd = document.getElementById('b82e7014-6b71-4191-8590-4224a514433d');\n",
              "var x = new MutationObserver(function (mutations, observer) {{\n",
              "        var display = window.getComputedStyle(gd).display;\n",
              "        if (!display || display === 'none') {{\n",
              "            console.log([gd, 'removed!']);\n",
              "            Plotly.purge(gd);\n",
              "            observer.disconnect();\n",
              "        }}\n",
              "}});\n",
              "\n",
              "// Listen for the removal of the full notebook cells\n",
              "var notebookContainer = gd.closest('#notebook-container');\n",
              "if (notebookContainer) {{\n",
              "    x.observe(notebookContainer, {childList: true});\n",
              "}}\n",
              "\n",
              "// Listen for the clearing of the current output cell\n",
              "var outputEl = gd.closest('.output');\n",
              "if (outputEl) {{\n",
              "    x.observe(outputEl, {childList: true});\n",
              "}}\n",
              "\n",
              "                        })\n",
              "                };\n",
              "                \n",
              "            </script>\n",
              "        </div>\n",
              "</body>\n",
              "</html>"
            ]
          },
          "metadata": {
            "tags": []
          }
        }
      ]
    },
    {
      "cell_type": "markdown",
      "metadata": {
        "id": "7Sp7P_eB2wMU",
        "colab_type": "text"
      },
      "source": [
        "bar plot을 확인하면 대구, 서울, 경북, 경기 순으로 코로나 확진자가 있음을 확인할 수 있다. 대구는 신천지 집단 감염 사태로 인해 확진자가 폭증했는데 이와 인접한 결과이다. 대구 경북 지역을 제외하면 수도권 지역이 가장 많다. \n",
        "\n",
        "### 1.3. 성별 / 나이대별 확진자수 "
      ]
    },
    {
      "cell_type": "code",
      "metadata": {
        "id": "b7g-5wba2oUl",
        "colab_type": "code",
        "colab": {}
      },
      "source": [
        "patientinfo = pd.read_csv('PatientInfo.csv')\n",
        "patientinfo = patientinfo.dropna(subset = ['sex', 'age']) #결측치 제거\n",
        "patientinfo.sort_values(by=['age'], axis=0,inplace=True)"
      ],
      "execution_count": 14,
      "outputs": []
    },
    {
      "cell_type": "code",
      "metadata": {
        "id": "tsaWd3ke4SLe",
        "colab_type": "code",
        "colab": {
          "base_uri": "https://localhost:8080/",
          "height": 542
        },
        "outputId": "690c2637-5528-42e0-a21e-82efeda1a05c"
      },
      "source": [
        "fig = px.histogram(patientinfo, x=\"age\", color=\"sex\", color_discrete_sequence = ['blue', '#E91E63'], marginal = 'violin')\n",
        "fig.update_layout(barmode='stack')\n",
        "fig.update_layout(template = 'plotly_dark')\n",
        "fig.show()"
      ],
      "execution_count": 15,
      "outputs": [
        {
          "output_type": "display_data",
          "data": {
            "text/html": [
              "<html>\n",
              "<head><meta charset=\"utf-8\" /></head>\n",
              "<body>\n",
              "    <div>\n",
              "            <script src=\"https://cdnjs.cloudflare.com/ajax/libs/mathjax/2.7.5/MathJax.js?config=TeX-AMS-MML_SVG\"></script><script type=\"text/javascript\">if (window.MathJax) {MathJax.Hub.Config({SVG: {font: \"STIX-Web\"}});}</script>\n",
              "                <script type=\"text/javascript\">window.PlotlyConfig = {MathJaxConfig: 'local'};</script>\n",
              "        <script src=\"https://cdn.plot.ly/plotly-latest.min.js\"></script>    \n",
              "            <div id=\"c149c5d7-336f-400b-bf27-f711fea8ff9d\" class=\"plotly-graph-div\" style=\"height:525px; width:100%;\"></div>\n",
              "            <script type=\"text/javascript\">\n",
              "                \n",
              "                    window.PLOTLYENV=window.PLOTLYENV || {};\n",
              "                    \n",
              "                if (document.getElementById(\"c149c5d7-336f-400b-bf27-f711fea8ff9d\")) {\n",
              "                    Plotly.newPlot(\n",
              "                        'c149c5d7-336f-400b-bf27-f711fea8ff9d',\n",
              "                        [{\"alignmentgroup\": \"True\", \"bingroup\": \"x\", \"hoverlabel\": {\"namelength\": 0}, \"hovertemplate\": \"sex=male<br>age=%{x}<br>count=%{y}\", \"legendgroup\": \"sex=male\", \"marker\": {\"color\": \"blue\"}, \"name\": \"sex=male\", \"offsetgroup\": \"sex=male\", \"orientation\": \"v\", \"showlegend\": true, \"type\": \"histogram\", \"x\": [\"0s\", \"0s\", \"0s\", \"0s\", \"0s\", \"0s\", \"0s\", \"0s\", \"0s\", \"0s\", \"0s\", \"0s\", \"0s\", \"0s\", \"0s\", \"0s\", \"0s\", \"0s\", \"0s\", \"0s\", \"0s\", \"0s\", \"0s\", \"0s\", \"0s\", \"0s\", \"0s\", \"0s\", \"0s\", \"0s\", \"0s\", \"0s\", \"0s\", \"0s\", \"0s\", \"0s\", \"0s\", \"0s\", \"10s\", \"10s\", \"10s\", \"10s\", \"10s\", \"10s\", \"10s\", \"10s\", \"10s\", \"10s\", \"10s\", \"10s\", \"10s\", \"10s\", \"10s\", \"10s\", \"10s\", \"10s\", \"10s\", \"10s\", \"10s\", \"10s\", \"10s\", \"10s\", \"10s\", \"10s\", \"10s\", \"10s\", \"10s\", \"10s\", \"10s\", \"10s\", \"10s\", \"10s\", \"10s\", \"10s\", \"10s\", \"10s\", \"10s\", \"10s\", \"10s\", \"10s\", \"10s\", \"10s\", \"10s\", \"10s\", \"10s\", \"10s\", \"10s\", \"10s\", \"10s\", \"10s\", \"10s\", \"10s\", \"10s\", \"10s\", \"10s\", \"10s\", \"10s\", \"10s\", \"10s\", \"10s\", \"10s\", \"10s\", \"10s\", \"10s\", \"10s\", \"10s\", \"10s\", \"10s\", \"10s\", \"10s\", \"10s\", \"10s\", \"10s\", \"10s\", \"10s\", \"10s\", \"10s\", \"10s\", \"10s\", \"10s\", \"10s\", \"10s\", \"10s\", \"10s\", \"10s\", \"10s\", \"10s\", \"10s\", \"10s\", \"10s\", \"10s\", \"10s\", \"10s\", \"10s\", \"10s\", \"10s\", \"10s\", \"10s\", \"10s\", \"10s\", \"10s\", \"10s\", \"10s\", \"10s\", \"10s\", \"10s\", \"10s\", \"10s\", \"20s\", \"20s\", \"20s\", \"20s\", \"20s\", \"20s\", \"20s\", \"20s\", \"20s\", \"20s\", \"20s\", \"20s\", \"20s\", \"20s\", \"20s\", \"20s\", \"20s\", \"20s\", \"20s\", \"20s\", \"20s\", \"20s\", \"20s\", \"20s\", \"20s\", \"20s\", \"20s\", \"20s\", \"20s\", \"20s\", \"20s\", \"20s\", \"20s\", \"20s\", \"20s\", \"20s\", \"20s\", \"20s\", \"20s\", \"20s\", \"20s\", \"20s\", \"20s\", \"20s\", \"20s\", \"20s\", \"20s\", \"20s\", \"20s\", \"20s\", \"20s\", \"20s\", \"20s\", \"20s\", \"20s\", \"20s\", \"20s\", \"20s\", \"20s\", \"20s\", \"20s\", \"20s\", \"20s\", \"20s\", \"20s\", \"20s\", \"20s\", \"20s\", \"20s\", \"20s\", \"20s\", \"20s\", \"20s\", \"20s\", \"20s\", \"20s\", \"20s\", \"20s\", \"20s\", \"20s\", \"20s\", \"20s\", \"20s\", \"20s\", \"20s\", \"20s\", \"20s\", \"20s\", \"20s\", \"20s\", \"20s\", \"20s\", \"20s\", \"20s\", \"20s\", \"20s\", \"20s\", \"20s\", \"20s\", \"20s\", \"20s\", \"20s\", \"20s\", \"20s\", \"20s\", \"20s\", \"20s\", \"20s\", \"20s\", \"20s\", \"20s\", \"20s\", \"20s\", \"20s\", \"20s\", \"20s\", \"20s\", \"20s\", \"20s\", \"20s\", \"20s\", \"20s\", \"20s\", \"20s\", \"20s\", \"20s\", \"20s\", \"20s\", \"20s\", \"20s\", \"20s\", \"20s\", \"20s\", \"20s\", \"20s\", \"20s\", \"20s\", \"20s\", \"20s\", \"20s\", \"20s\", \"20s\", \"20s\", \"20s\", \"20s\", \"20s\", \"20s\", \"20s\", \"20s\", \"20s\", \"20s\", \"20s\", \"20s\", \"20s\", \"20s\", \"20s\", \"20s\", \"20s\", \"20s\", \"20s\", \"20s\", \"20s\", \"20s\", \"20s\", \"20s\", \"20s\", \"20s\", \"20s\", \"20s\", \"20s\", \"20s\", \"20s\", \"20s\", \"20s\", \"20s\", \"20s\", \"20s\", \"20s\", \"20s\", \"20s\", \"20s\", \"20s\", \"20s\", \"20s\", \"20s\", \"20s\", \"20s\", \"20s\", \"20s\", \"20s\", \"20s\", \"20s\", \"20s\", \"20s\", \"20s\", \"20s\", \"20s\", \"20s\", \"20s\", \"20s\", \"20s\", \"20s\", \"20s\", \"20s\", \"20s\", \"20s\", \"20s\", \"20s\", \"20s\", \"20s\", \"20s\", \"20s\", \"20s\", \"20s\", \"20s\", \"20s\", \"20s\", \"20s\", \"20s\", \"20s\", \"20s\", \"20s\", \"20s\", \"20s\", \"20s\", \"20s\", \"20s\", \"20s\", \"20s\", \"20s\", \"20s\", \"20s\", \"20s\", \"20s\", \"20s\", \"20s\", \"20s\", \"20s\", \"20s\", \"20s\", \"20s\", \"20s\", \"20s\", \"20s\", \"20s\", \"20s\", \"20s\", \"20s\", \"20s\", \"20s\", \"20s\", \"20s\", \"20s\", \"20s\", \"20s\", \"20s\", \"20s\", \"20s\", \"20s\", \"20s\", \"20s\", \"20s\", \"20s\", \"20s\", \"20s\", \"20s\", \"20s\", \"20s\", \"20s\", \"20s\", \"20s\", \"20s\", \"20s\", \"20s\", \"20s\", \"20s\", \"20s\", \"20s\", \"20s\", \"20s\", \"20s\", \"20s\", \"20s\", \"20s\", \"20s\", \"20s\", \"20s\", \"20s\", \"20s\", \"20s\", \"20s\", \"20s\", \"20s\", \"20s\", \"20s\", \"20s\", \"20s\", \"20s\", \"20s\", \"20s\", \"20s\", \"20s\", \"20s\", \"20s\", \"20s\", \"20s\", \"20s\", \"20s\", \"20s\", \"20s\", \"20s\", \"20s\", \"20s\", \"20s\", \"20s\", \"20s\", \"20s\", \"20s\", \"20s\", \"20s\", \"20s\", \"20s\", \"20s\", \"20s\", \"20s\", \"20s\", \"20s\", \"20s\", \"20s\", \"20s\", \"20s\", \"20s\", \"20s\", \"20s\", \"20s\", \"20s\", \"20s\", \"20s\", \"20s\", \"20s\", \"20s\", \"20s\", \"20s\", \"20s\", \"20s\", \"20s\", \"20s\", \"20s\", \"20s\", \"20s\", \"20s\", \"20s\", \"20s\", \"20s\", \"20s\", \"20s\", \"20s\", \"20s\", \"20s\", \"20s\", \"20s\", \"20s\", \"20s\", \"20s\", \"20s\", \"20s\", \"20s\", \"20s\", \"20s\", \"20s\", \"20s\", \"20s\", \"20s\", \"20s\", \"20s\", \"20s\", \"20s\", \"20s\", \"20s\", \"20s\", \"20s\", \"20s\", \"20s\", \"20s\", \"20s\", \"20s\", \"20s\", \"20s\", \"20s\", \"20s\", \"20s\", \"20s\", \"20s\", \"20s\", \"20s\", \"20s\", \"20s\", \"20s\", \"20s\", \"20s\", \"20s\", \"20s\", \"20s\", \"20s\", \"20s\", \"20s\", \"20s\", \"20s\", \"20s\", \"20s\", \"20s\", \"20s\", \"20s\", \"20s\", \"20s\", \"20s\", \"20s\", \"20s\", \"20s\", \"20s\", \"20s\", \"20s\", \"20s\", \"20s\", \"20s\", \"20s\", \"20s\", \"20s\", \"20s\", \"20s\", \"20s\", \"20s\", \"20s\", \"20s\", \"20s\", \"20s\", \"20s\", \"20s\", \"20s\", \"20s\", \"30s\", \"30s\", \"30s\", \"30s\", \"30s\", \"30s\", \"30s\", \"30s\", \"30s\", \"30s\", \"30s\", \"30s\", \"30s\", \"30s\", \"30s\", \"30s\", \"30s\", \"30s\", \"30s\", \"30s\", \"30s\", \"30s\", \"30s\", \"30s\", \"30s\", \"30s\", \"30s\", \"30s\", \"30s\", \"30s\", \"30s\", \"30s\", \"30s\", \"30s\", \"30s\", \"30s\", \"30s\", \"30s\", \"30s\", \"30s\", \"30s\", \"30s\", \"30s\", \"30s\", \"30s\", \"30s\", \"30s\", \"30s\", \"30s\", \"30s\", \"30s\", \"30s\", \"30s\", \"30s\", \"30s\", \"30s\", \"30s\", \"30s\", \"30s\", \"30s\", \"30s\", \"30s\", \"30s\", \"30s\", \"30s\", \"30s\", \"30s\", \"30s\", \"30s\", \"30s\", \"30s\", \"30s\", \"30s\", \"30s\", \"30s\", \"30s\", \"30s\", \"30s\", \"30s\", \"30s\", \"30s\", \"30s\", \"30s\", \"30s\", \"30s\", \"30s\", \"30s\", \"30s\", \"30s\", \"30s\", \"30s\", \"30s\", \"30s\", \"30s\", \"30s\", \"30s\", \"30s\", \"30s\", \"30s\", \"30s\", \"30s\", \"30s\", \"30s\", \"30s\", \"30s\", \"30s\", \"30s\", \"30s\", \"30s\", \"30s\", \"30s\", \"30s\", \"30s\", \"30s\", \"30s\", \"30s\", \"30s\", \"30s\", \"30s\", \"30s\", \"30s\", \"30s\", \"30s\", \"30s\", \"30s\", \"30s\", \"30s\", \"30s\", \"30s\", \"30s\", \"30s\", \"30s\", \"30s\", \"30s\", \"30s\", \"30s\", \"30s\", \"30s\", \"30s\", \"30s\", \"30s\", \"30s\", \"30s\", \"30s\", \"30s\", \"30s\", \"30s\", \"30s\", \"30s\", \"30s\", \"30s\", \"30s\", \"30s\", \"30s\", \"30s\", \"30s\", \"30s\", \"30s\", \"30s\", \"30s\", \"30s\", \"30s\", \"30s\", \"30s\", \"30s\", \"30s\", \"30s\", \"30s\", \"30s\", \"30s\", \"30s\", \"30s\", \"30s\", \"30s\", \"30s\", \"30s\", \"30s\", \"30s\", \"30s\", \"30s\", \"30s\", \"30s\", \"30s\", \"30s\", \"30s\", \"30s\", \"30s\", \"30s\", \"30s\", \"30s\", \"30s\", \"30s\", \"30s\", \"30s\", \"30s\", \"30s\", \"30s\", \"30s\", \"30s\", \"30s\", \"30s\", \"30s\", \"30s\", \"30s\", \"30s\", \"30s\", \"30s\", \"30s\", \"30s\", \"30s\", \"30s\", \"30s\", \"30s\", \"30s\", \"30s\", \"30s\", \"30s\", \"30s\", \"30s\", \"30s\", \"30s\", \"30s\", \"30s\", \"30s\", \"30s\", \"30s\", \"30s\", \"30s\", \"30s\", \"30s\", \"30s\", \"30s\", \"30s\", \"30s\", \"30s\", \"30s\", \"30s\", \"30s\", \"30s\", \"30s\", \"30s\", \"30s\", \"30s\", \"30s\", \"30s\", \"30s\", \"30s\", \"30s\", \"30s\", \"30s\", \"30s\", \"30s\", \"30s\", \"30s\", \"30s\", \"30s\", \"30s\", \"30s\", \"30s\", \"30s\", \"30s\", \"30s\", \"30s\", \"30s\", \"30s\", \"30s\", \"30s\", \"30s\", \"30s\", \"30s\", \"30s\", \"30s\", \"30s\", \"30s\", \"30s\", \"30s\", \"30s\", \"30s\", \"30s\", \"30s\", \"30s\", \"40s\", \"40s\", \"40s\", \"40s\", \"40s\", \"40s\", \"40s\", \"40s\", \"40s\", \"40s\", \"40s\", \"40s\", \"40s\", \"40s\", \"40s\", \"40s\", \"40s\", \"40s\", \"40s\", \"40s\", \"40s\", \"40s\", \"40s\", \"40s\", \"40s\", \"40s\", \"40s\", \"40s\", \"40s\", \"40s\", \"40s\", \"40s\", \"40s\", \"40s\", \"40s\", \"40s\", \"40s\", \"40s\", \"40s\", \"40s\", \"40s\", \"40s\", \"40s\", \"40s\", \"40s\", \"40s\", \"40s\", \"40s\", \"40s\", \"40s\", \"40s\", \"40s\", \"40s\", \"40s\", \"40s\", \"40s\", \"40s\", \"40s\", \"40s\", \"40s\", \"40s\", \"40s\", \"40s\", \"40s\", \"40s\", \"40s\", \"40s\", \"40s\", \"40s\", \"40s\", \"40s\", \"40s\", \"40s\", \"40s\", \"40s\", \"40s\", \"40s\", \"40s\", \"40s\", \"40s\", \"40s\", \"40s\", \"40s\", \"40s\", \"40s\", \"40s\", \"40s\", \"40s\", \"40s\", \"40s\", \"40s\", \"40s\", \"40s\", \"40s\", \"40s\", \"40s\", \"40s\", \"40s\", \"40s\", \"40s\", \"40s\", \"40s\", \"40s\", \"40s\", \"40s\", \"40s\", \"40s\", \"40s\", \"40s\", \"40s\", \"40s\", \"40s\", \"40s\", \"40s\", \"40s\", \"40s\", \"40s\", \"40s\", \"40s\", \"40s\", \"40s\", \"40s\", \"40s\", \"40s\", \"40s\", \"40s\", \"40s\", \"40s\", \"40s\", \"40s\", \"40s\", \"40s\", \"40s\", \"40s\", \"40s\", \"40s\", \"40s\", \"40s\", \"40s\", \"40s\", \"40s\", \"40s\", \"40s\", \"40s\", \"40s\", \"40s\", \"40s\", \"40s\", \"40s\", \"40s\", \"40s\", \"40s\", \"40s\", \"40s\", \"40s\", \"40s\", \"40s\", \"40s\", \"40s\", \"40s\", \"40s\", \"40s\", \"40s\", \"40s\", \"40s\", \"40s\", \"40s\", \"40s\", \"40s\", \"40s\", \"40s\", \"40s\", \"40s\", \"40s\", \"40s\", \"40s\", \"40s\", \"40s\", \"40s\", \"40s\", \"40s\", \"40s\", \"40s\", \"40s\", \"40s\", \"40s\", \"40s\", \"40s\", \"40s\", \"40s\", \"40s\", \"40s\", \"40s\", \"40s\", \"40s\", \"40s\", \"40s\", \"40s\", \"40s\", \"40s\", \"40s\", \"40s\", \"40s\", \"40s\", \"40s\", \"40s\", \"40s\", \"40s\", \"40s\", \"40s\", \"50s\", \"50s\", \"50s\", \"50s\", \"50s\", \"50s\", \"50s\", \"50s\", \"50s\", \"50s\", \"50s\", \"50s\", \"50s\", \"50s\", \"50s\", \"50s\", \"50s\", \"50s\", \"50s\", \"50s\", \"50s\", \"50s\", \"50s\", \"50s\", \"50s\", \"50s\", \"50s\", \"50s\", \"50s\", \"50s\", \"50s\", \"50s\", \"50s\", \"50s\", \"50s\", \"50s\", \"50s\", \"50s\", \"50s\", \"50s\", \"50s\", \"50s\", \"50s\", \"50s\", \"50s\", \"50s\", \"50s\", \"50s\", \"50s\", \"50s\", \"50s\", \"50s\", \"50s\", \"50s\", \"50s\", \"50s\", \"50s\", \"50s\", \"50s\", \"50s\", \"50s\", \"50s\", \"50s\", \"50s\", \"50s\", \"50s\", \"50s\", \"50s\", \"50s\", \"50s\", \"50s\", \"50s\", \"50s\", \"50s\", \"50s\", \"50s\", \"50s\", \"50s\", \"50s\", \"50s\", \"50s\", \"50s\", \"50s\", \"50s\", \"50s\", \"50s\", \"50s\", \"50s\", \"50s\", \"50s\", \"50s\", \"50s\", \"50s\", \"50s\", \"50s\", \"50s\", \"50s\", \"50s\", \"50s\", \"50s\", \"50s\", \"50s\", \"50s\", \"50s\", \"50s\", \"50s\", \"50s\", \"50s\", \"50s\", \"50s\", \"50s\", \"50s\", \"50s\", \"50s\", \"50s\", \"50s\", \"50s\", \"50s\", \"50s\", \"50s\", \"50s\", \"50s\", \"50s\", \"50s\", \"50s\", \"50s\", \"50s\", \"50s\", \"50s\", \"50s\", \"50s\", \"50s\", \"50s\", \"50s\", \"50s\", \"50s\", \"50s\", \"50s\", \"50s\", \"50s\", \"50s\", \"50s\", \"50s\", \"50s\", \"50s\", \"50s\", \"50s\", \"50s\", \"50s\", \"50s\", \"50s\", \"50s\", \"50s\", \"50s\", \"50s\", \"50s\", \"50s\", \"50s\", \"50s\", \"50s\", \"50s\", \"50s\", \"50s\", \"50s\", \"50s\", \"50s\", \"50s\", \"50s\", \"50s\", \"50s\", \"50s\", \"50s\", \"50s\", \"50s\", \"50s\", \"50s\", \"50s\", \"50s\", \"50s\", \"50s\", \"50s\", \"50s\", \"50s\", \"50s\", \"50s\", \"50s\", \"50s\", \"50s\", \"50s\", \"50s\", \"50s\", \"50s\", \"50s\", \"50s\", \"50s\", \"50s\", \"50s\", \"50s\", \"50s\", \"50s\", \"50s\", \"50s\", \"50s\", \"50s\", \"50s\", \"50s\", \"50s\", \"50s\", \"50s\", \"50s\", \"50s\", \"50s\", \"50s\", \"50s\", \"50s\", \"50s\", \"50s\", \"50s\", \"50s\", \"50s\", \"50s\", \"50s\", \"50s\", \"50s\", \"50s\", \"50s\", \"50s\", \"50s\", \"50s\", \"50s\", \"50s\", \"50s\", \"50s\", \"50s\", \"50s\", \"50s\", \"50s\", \"50s\", \"50s\", \"50s\", \"50s\", \"50s\", \"50s\", \"50s\", \"50s\", \"50s\", \"50s\", \"50s\", \"50s\", \"50s\", \"50s\", \"50s\", \"50s\", \"50s\", \"50s\", \"50s\", \"50s\", \"50s\", \"50s\", \"50s\", \"50s\", \"50s\", \"50s\", \"60s\", \"60s\", \"60s\", \"60s\", \"60s\", \"60s\", \"60s\", \"60s\", \"60s\", \"60s\", \"60s\", \"60s\", \"60s\", \"60s\", \"60s\", \"60s\", \"60s\", \"60s\", \"60s\", \"60s\", \"60s\", \"60s\", \"60s\", \"60s\", \"60s\", \"60s\", \"60s\", \"60s\", \"60s\", \"60s\", \"60s\", \"60s\", \"60s\", \"60s\", \"60s\", \"60s\", \"60s\", \"60s\", \"60s\", \"60s\", \"60s\", \"60s\", \"60s\", \"60s\", \"60s\", \"60s\", \"60s\", \"60s\", \"60s\", \"60s\", \"60s\", \"60s\", \"60s\", \"60s\", \"60s\", \"60s\", \"60s\", \"60s\", \"60s\", \"60s\", \"60s\", \"60s\", \"60s\", \"60s\", \"60s\", \"60s\", \"60s\", \"60s\", \"60s\", \"60s\", \"60s\", \"60s\", \"60s\", \"60s\", \"60s\", \"60s\", \"60s\", \"60s\", \"60s\", \"60s\", \"60s\", \"60s\", \"60s\", \"60s\", \"60s\", \"60s\", \"60s\", \"60s\", \"60s\", \"60s\", \"60s\", \"60s\", \"60s\", \"60s\", \"60s\", \"60s\", \"60s\", \"60s\", \"60s\", \"60s\", \"60s\", \"60s\", \"60s\", \"60s\", \"60s\", \"60s\", \"60s\", \"60s\", \"60s\", \"60s\", \"60s\", \"60s\", \"60s\", \"60s\", \"60s\", \"60s\", \"60s\", \"60s\", \"60s\", \"60s\", \"60s\", \"60s\", \"60s\", \"60s\", \"60s\", \"60s\", \"60s\", \"60s\", \"60s\", \"60s\", \"60s\", \"60s\", \"60s\", \"60s\", \"60s\", \"60s\", \"60s\", \"60s\", \"60s\", \"60s\", \"60s\", \"60s\", \"60s\", \"60s\", \"60s\", \"60s\", \"60s\", \"60s\", \"60s\", \"60s\", \"60s\", \"60s\", \"60s\", \"60s\", \"60s\", \"60s\", \"60s\", \"60s\", \"60s\", \"60s\", \"60s\", \"60s\", \"60s\", \"60s\", \"60s\", \"60s\", \"60s\", \"60s\", \"60s\", \"60s\", \"60s\", \"60s\", \"60s\", \"60s\", \"60s\", \"60s\", \"60s\", \"60s\", \"60s\", \"60s\", \"60s\", \"60s\", \"60s\", \"60s\", \"60s\", \"60s\", \"60s\", \"60s\", \"60s\", \"60s\", \"60s\", \"60s\", \"60s\", \"60s\", \"60s\", \"60s\", \"60s\", \"60s\", \"60s\", \"60s\", \"60s\", \"60s\", \"60s\", \"60s\", \"60s\", \"60s\", \"60s\", \"60s\", \"60s\", \"60s\", \"60s\", \"60s\", \"70s\", \"70s\", \"70s\", \"70s\", \"70s\", \"70s\", \"70s\", \"70s\", \"70s\", \"70s\", \"70s\", \"70s\", \"70s\", \"70s\", \"70s\", \"70s\", \"70s\", \"70s\", \"70s\", \"70s\", \"70s\", \"70s\", \"70s\", \"70s\", \"70s\", \"70s\", \"70s\", \"70s\", \"70s\", \"70s\", \"70s\", \"70s\", \"70s\", \"70s\", \"70s\", \"70s\", \"70s\", \"70s\", \"70s\", \"70s\", \"70s\", \"70s\", \"70s\", \"70s\", \"70s\", \"70s\", \"70s\", \"70s\", \"70s\", \"70s\", \"70s\", \"70s\", \"70s\", \"70s\", \"70s\", \"70s\", \"70s\", \"70s\", \"70s\", \"70s\", \"70s\", \"70s\", \"70s\", \"70s\", \"70s\", \"70s\", \"70s\", \"70s\", \"70s\", \"70s\", \"70s\", \"70s\", \"70s\", \"70s\", \"70s\", \"70s\", \"70s\", \"70s\", \"70s\", \"70s\", \"70s\", \"70s\", \"70s\", \"70s\", \"70s\", \"70s\", \"70s\", \"70s\", \"80s\", \"80s\", \"80s\", \"80s\", \"80s\", \"80s\", \"80s\", \"80s\", \"80s\", \"80s\", \"80s\", \"80s\", \"80s\", \"80s\", \"80s\", \"80s\", \"80s\", \"80s\", \"80s\", \"80s\", \"80s\", \"80s\", \"80s\", \"80s\", \"80s\", \"80s\", \"80s\", \"80s\", \"80s\", \"80s\", \"80s\", \"80s\", \"80s\", \"80s\", \"80s\", \"80s\", \"80s\", \"80s\", \"80s\", \"80s\", \"80s\", \"80s\", \"80s\", \"80s\", \"80s\", \"80s\", \"80s\", \"80s\", \"80s\", \"80s\", \"80s\", \"80s\", \"80s\", \"80s\", \"80s\", \"80s\", \"90s\", \"90s\", \"90s\", \"90s\", \"90s\", \"90s\", \"90s\", \"90s\", \"90s\", \"90s\", \"90s\", \"90s\", \"90s\", \"90s\", \"90s\", \"90s\"], \"xaxis\": \"x\", \"yaxis\": \"y\"}, {\"alignmentgroup\": \"True\", \"hoverlabel\": {\"namelength\": 0}, \"hovertemplate\": \"sex=male<br>age=%{x}\", \"legendgroup\": \"sex=male\", \"marker\": {\"color\": \"blue\"}, \"name\": \"sex=male\", \"offsetgroup\": \"sex=male\", \"scalegroup\": \"x\", \"showlegend\": false, \"type\": \"violin\", \"x\": [\"0s\", \"0s\", \"0s\", \"0s\", \"0s\", \"0s\", \"0s\", \"0s\", \"0s\", \"0s\", \"0s\", \"0s\", \"0s\", \"0s\", \"0s\", \"0s\", \"0s\", \"0s\", \"0s\", \"0s\", \"0s\", \"0s\", \"0s\", \"0s\", \"0s\", \"0s\", \"0s\", \"0s\", \"0s\", \"0s\", \"0s\", \"0s\", \"0s\", \"0s\", \"0s\", \"0s\", \"0s\", \"0s\", \"10s\", \"10s\", \"10s\", \"10s\", \"10s\", \"10s\", \"10s\", \"10s\", \"10s\", \"10s\", \"10s\", \"10s\", \"10s\", \"10s\", \"10s\", \"10s\", \"10s\", \"10s\", \"10s\", \"10s\", \"10s\", \"10s\", \"10s\", \"10s\", \"10s\", \"10s\", \"10s\", \"10s\", \"10s\", \"10s\", \"10s\", \"10s\", \"10s\", \"10s\", \"10s\", \"10s\", \"10s\", \"10s\", \"10s\", \"10s\", \"10s\", \"10s\", \"10s\", \"10s\", \"10s\", \"10s\", \"10s\", \"10s\", \"10s\", \"10s\", \"10s\", \"10s\", \"10s\", \"10s\", \"10s\", \"10s\", \"10s\", \"10s\", \"10s\", \"10s\", \"10s\", \"10s\", \"10s\", \"10s\", \"10s\", \"10s\", \"10s\", \"10s\", \"10s\", \"10s\", \"10s\", \"10s\", \"10s\", \"10s\", \"10s\", \"10s\", \"10s\", \"10s\", \"10s\", \"10s\", \"10s\", \"10s\", \"10s\", \"10s\", \"10s\", \"10s\", \"10s\", \"10s\", \"10s\", \"10s\", \"10s\", \"10s\", \"10s\", \"10s\", \"10s\", \"10s\", \"10s\", \"10s\", \"10s\", \"10s\", \"10s\", \"10s\", \"10s\", \"10s\", \"10s\", \"10s\", \"10s\", \"10s\", \"10s\", \"10s\", \"20s\", \"20s\", \"20s\", \"20s\", \"20s\", \"20s\", \"20s\", \"20s\", \"20s\", \"20s\", \"20s\", \"20s\", \"20s\", \"20s\", \"20s\", \"20s\", \"20s\", \"20s\", \"20s\", \"20s\", \"20s\", \"20s\", \"20s\", \"20s\", \"20s\", \"20s\", \"20s\", \"20s\", \"20s\", \"20s\", \"20s\", \"20s\", \"20s\", \"20s\", \"20s\", \"20s\", \"20s\", \"20s\", \"20s\", \"20s\", \"20s\", \"20s\", \"20s\", \"20s\", \"20s\", \"20s\", \"20s\", \"20s\", \"20s\", \"20s\", \"20s\", \"20s\", \"20s\", \"20s\", \"20s\", \"20s\", \"20s\", \"20s\", \"20s\", \"20s\", \"20s\", \"20s\", \"20s\", \"20s\", \"20s\", \"20s\", \"20s\", \"20s\", \"20s\", \"20s\", \"20s\", \"20s\", \"20s\", \"20s\", \"20s\", \"20s\", \"20s\", \"20s\", \"20s\", \"20s\", \"20s\", \"20s\", \"20s\", \"20s\", \"20s\", \"20s\", \"20s\", \"20s\", \"20s\", \"20s\", \"20s\", \"20s\", \"20s\", \"20s\", \"20s\", \"20s\", \"20s\", \"20s\", \"20s\", \"20s\", \"20s\", \"20s\", \"20s\", \"20s\", \"20s\", \"20s\", \"20s\", \"20s\", \"20s\", \"20s\", \"20s\", \"20s\", \"20s\", \"20s\", \"20s\", \"20s\", \"20s\", \"20s\", \"20s\", \"20s\", \"20s\", \"20s\", \"20s\", \"20s\", \"20s\", \"20s\", \"20s\", \"20s\", \"20s\", \"20s\", \"20s\", \"20s\", \"20s\", \"20s\", \"20s\", \"20s\", \"20s\", \"20s\", \"20s\", \"20s\", \"20s\", \"20s\", \"20s\", \"20s\", \"20s\", \"20s\", \"20s\", \"20s\", \"20s\", \"20s\", \"20s\", \"20s\", \"20s\", \"20s\", \"20s\", \"20s\", \"20s\", \"20s\", \"20s\", \"20s\", \"20s\", \"20s\", \"20s\", \"20s\", \"20s\", \"20s\", \"20s\", \"20s\", \"20s\", \"20s\", \"20s\", \"20s\", \"20s\", \"20s\", \"20s\", \"20s\", \"20s\", \"20s\", \"20s\", \"20s\", \"20s\", \"20s\", \"20s\", \"20s\", \"20s\", \"20s\", \"20s\", \"20s\", \"20s\", \"20s\", \"20s\", \"20s\", \"20s\", \"20s\", \"20s\", \"20s\", \"20s\", \"20s\", \"20s\", \"20s\", \"20s\", \"20s\", \"20s\", \"20s\", \"20s\", \"20s\", \"20s\", \"20s\", \"20s\", \"20s\", \"20s\", \"20s\", \"20s\", \"20s\", \"20s\", \"20s\", \"20s\", \"20s\", \"20s\", \"20s\", \"20s\", \"20s\", \"20s\", \"20s\", \"20s\", \"20s\", \"20s\", \"20s\", \"20s\", \"20s\", \"20s\", \"20s\", \"20s\", \"20s\", \"20s\", \"20s\", \"20s\", \"20s\", \"20s\", \"20s\", \"20s\", \"20s\", \"20s\", \"20s\", \"20s\", \"20s\", \"20s\", \"20s\", \"20s\", \"20s\", \"20s\", \"20s\", \"20s\", \"20s\", \"20s\", \"20s\", \"20s\", \"20s\", \"20s\", \"20s\", \"20s\", \"20s\", \"20s\", \"20s\", \"20s\", \"20s\", \"20s\", \"20s\", \"20s\", \"20s\", \"20s\", \"20s\", \"20s\", \"20s\", \"20s\", \"20s\", \"20s\", \"20s\", \"20s\", \"20s\", \"20s\", \"20s\", \"20s\", \"20s\", \"20s\", \"20s\", \"20s\", \"20s\", \"20s\", \"20s\", \"20s\", \"20s\", \"20s\", \"20s\", \"20s\", \"20s\", \"20s\", \"20s\", \"20s\", \"20s\", \"20s\", \"20s\", \"20s\", \"20s\", \"20s\", \"20s\", \"20s\", \"20s\", \"20s\", \"20s\", \"20s\", \"20s\", \"20s\", \"20s\", \"20s\", \"20s\", \"20s\", \"20s\", \"20s\", \"20s\", \"20s\", \"20s\", \"20s\", \"20s\", \"20s\", \"20s\", \"20s\", \"20s\", \"20s\", \"20s\", \"20s\", \"20s\", \"20s\", \"20s\", \"20s\", \"20s\", \"20s\", \"20s\", \"20s\", \"20s\", \"20s\", \"20s\", \"20s\", \"20s\", \"20s\", \"20s\", \"20s\", \"20s\", \"20s\", \"20s\", \"20s\", \"20s\", \"20s\", \"20s\", \"20s\", \"20s\", \"20s\", \"20s\", \"20s\", \"20s\", \"20s\", \"20s\", \"20s\", \"20s\", \"20s\", \"20s\", \"20s\", \"20s\", \"20s\", \"20s\", \"20s\", \"20s\", \"20s\", \"20s\", \"20s\", \"20s\", \"20s\", \"20s\", \"20s\", \"20s\", \"20s\", \"20s\", \"20s\", \"20s\", \"20s\", \"20s\", \"20s\", \"20s\", \"20s\", \"20s\", \"20s\", \"20s\", \"20s\", \"20s\", \"20s\", \"20s\", \"20s\", \"20s\", \"20s\", \"20s\", \"20s\", \"20s\", \"20s\", \"20s\", \"20s\", \"20s\", \"20s\", \"20s\", \"20s\", \"20s\", \"20s\", \"20s\", \"20s\", \"20s\", \"20s\", \"20s\", \"20s\", \"20s\", \"20s\", \"20s\", \"20s\", \"20s\", \"20s\", \"20s\", \"20s\", \"20s\", \"20s\", \"20s\", \"20s\", \"20s\", \"20s\", \"20s\", \"20s\", \"20s\", \"20s\", \"20s\", \"20s\", \"20s\", \"20s\", \"20s\", \"30s\", \"30s\", \"30s\", \"30s\", \"30s\", \"30s\", \"30s\", \"30s\", \"30s\", \"30s\", \"30s\", \"30s\", \"30s\", \"30s\", \"30s\", \"30s\", \"30s\", \"30s\", \"30s\", \"30s\", \"30s\", \"30s\", \"30s\", \"30s\", \"30s\", \"30s\", \"30s\", \"30s\", \"30s\", \"30s\", \"30s\", \"30s\", \"30s\", \"30s\", \"30s\", \"30s\", \"30s\", \"30s\", \"30s\", \"30s\", \"30s\", \"30s\", \"30s\", \"30s\", \"30s\", \"30s\", \"30s\", \"30s\", \"30s\", \"30s\", \"30s\", \"30s\", \"30s\", \"30s\", \"30s\", \"30s\", \"30s\", \"30s\", \"30s\", \"30s\", \"30s\", \"30s\", \"30s\", \"30s\", \"30s\", \"30s\", \"30s\", \"30s\", \"30s\", \"30s\", \"30s\", \"30s\", \"30s\", \"30s\", \"30s\", \"30s\", \"30s\", \"30s\", \"30s\", \"30s\", \"30s\", \"30s\", \"30s\", \"30s\", \"30s\", \"30s\", \"30s\", \"30s\", \"30s\", \"30s\", \"30s\", \"30s\", \"30s\", \"30s\", \"30s\", \"30s\", \"30s\", \"30s\", \"30s\", \"30s\", \"30s\", \"30s\", \"30s\", \"30s\", \"30s\", \"30s\", \"30s\", \"30s\", \"30s\", \"30s\", \"30s\", \"30s\", \"30s\", \"30s\", \"30s\", \"30s\", \"30s\", \"30s\", \"30s\", \"30s\", \"30s\", \"30s\", \"30s\", \"30s\", \"30s\", \"30s\", \"30s\", \"30s\", \"30s\", \"30s\", \"30s\", \"30s\", \"30s\", \"30s\", \"30s\", \"30s\", \"30s\", \"30s\", \"30s\", \"30s\", \"30s\", \"30s\", \"30s\", \"30s\", \"30s\", \"30s\", \"30s\", \"30s\", \"30s\", \"30s\", \"30s\", \"30s\", \"30s\", \"30s\", \"30s\", \"30s\", \"30s\", \"30s\", \"30s\", \"30s\", \"30s\", \"30s\", \"30s\", \"30s\", \"30s\", \"30s\", \"30s\", \"30s\", \"30s\", \"30s\", \"30s\", \"30s\", \"30s\", \"30s\", \"30s\", \"30s\", \"30s\", \"30s\", \"30s\", \"30s\", \"30s\", \"30s\", \"30s\", \"30s\", \"30s\", \"30s\", \"30s\", \"30s\", \"30s\", \"30s\", \"30s\", \"30s\", \"30s\", \"30s\", \"30s\", \"30s\", \"30s\", \"30s\", \"30s\", \"30s\", \"30s\", \"30s\", \"30s\", \"30s\", \"30s\", \"30s\", \"30s\", \"30s\", \"30s\", \"30s\", \"30s\", \"30s\", \"30s\", \"30s\", \"30s\", \"30s\", \"30s\", \"30s\", \"30s\", \"30s\", \"30s\", \"30s\", \"30s\", \"30s\", \"30s\", \"30s\", \"30s\", \"30s\", \"30s\", \"30s\", \"30s\", \"30s\", \"30s\", \"30s\", \"30s\", \"30s\", \"30s\", \"30s\", \"30s\", \"30s\", \"30s\", \"30s\", \"30s\", \"30s\", \"30s\", \"30s\", \"30s\", \"30s\", \"30s\", \"30s\", \"30s\", \"30s\", \"30s\", \"30s\", \"30s\", \"30s\", \"30s\", \"30s\", \"30s\", \"30s\", \"30s\", \"30s\", \"30s\", \"30s\", \"30s\", \"30s\", \"30s\", \"30s\", \"30s\", \"30s\", \"30s\", \"30s\", \"30s\", \"30s\", \"30s\", \"30s\", \"30s\", \"30s\", \"30s\", \"30s\", \"30s\", \"40s\", \"40s\", \"40s\", \"40s\", \"40s\", \"40s\", \"40s\", \"40s\", \"40s\", \"40s\", \"40s\", \"40s\", \"40s\", \"40s\", \"40s\", \"40s\", \"40s\", \"40s\", \"40s\", \"40s\", \"40s\", \"40s\", \"40s\", \"40s\", \"40s\", \"40s\", \"40s\", \"40s\", \"40s\", \"40s\", \"40s\", \"40s\", \"40s\", \"40s\", \"40s\", \"40s\", \"40s\", \"40s\", \"40s\", \"40s\", \"40s\", \"40s\", \"40s\", \"40s\", \"40s\", \"40s\", \"40s\", \"40s\", \"40s\", \"40s\", \"40s\", \"40s\", \"40s\", \"40s\", \"40s\", \"40s\", \"40s\", \"40s\", \"40s\", \"40s\", \"40s\", \"40s\", \"40s\", \"40s\", \"40s\", \"40s\", \"40s\", \"40s\", \"40s\", \"40s\", \"40s\", \"40s\", \"40s\", \"40s\", \"40s\", \"40s\", \"40s\", \"40s\", \"40s\", \"40s\", \"40s\", \"40s\", \"40s\", \"40s\", \"40s\", \"40s\", \"40s\", \"40s\", \"40s\", \"40s\", \"40s\", \"40s\", \"40s\", \"40s\", \"40s\", \"40s\", \"40s\", \"40s\", \"40s\", \"40s\", \"40s\", \"40s\", \"40s\", \"40s\", \"40s\", \"40s\", \"40s\", \"40s\", \"40s\", \"40s\", \"40s\", \"40s\", \"40s\", \"40s\", \"40s\", \"40s\", \"40s\", \"40s\", \"40s\", \"40s\", \"40s\", \"40s\", \"40s\", \"40s\", \"40s\", \"40s\", \"40s\", \"40s\", \"40s\", \"40s\", \"40s\", \"40s\", \"40s\", \"40s\", \"40s\", \"40s\", \"40s\", \"40s\", \"40s\", \"40s\", \"40s\", \"40s\", \"40s\", \"40s\", \"40s\", \"40s\", \"40s\", \"40s\", \"40s\", \"40s\", \"40s\", \"40s\", \"40s\", \"40s\", \"40s\", \"40s\", \"40s\", \"40s\", \"40s\", \"40s\", \"40s\", \"40s\", \"40s\", \"40s\", \"40s\", \"40s\", \"40s\", \"40s\", \"40s\", \"40s\", \"40s\", \"40s\", \"40s\", \"40s\", \"40s\", \"40s\", \"40s\", \"40s\", \"40s\", \"40s\", \"40s\", \"40s\", \"40s\", \"40s\", \"40s\", \"40s\", \"40s\", \"40s\", \"40s\", \"40s\", \"40s\", \"40s\", \"40s\", \"40s\", \"40s\", \"40s\", \"40s\", \"40s\", \"40s\", \"40s\", \"40s\", \"40s\", \"40s\", \"40s\", \"40s\", \"40s\", \"40s\", \"40s\", \"40s\", \"40s\", \"50s\", \"50s\", \"50s\", \"50s\", \"50s\", \"50s\", \"50s\", \"50s\", \"50s\", \"50s\", \"50s\", \"50s\", \"50s\", \"50s\", \"50s\", \"50s\", \"50s\", \"50s\", \"50s\", \"50s\", \"50s\", \"50s\", \"50s\", \"50s\", \"50s\", \"50s\", \"50s\", \"50s\", \"50s\", \"50s\", \"50s\", \"50s\", \"50s\", \"50s\", \"50s\", \"50s\", \"50s\", \"50s\", \"50s\", \"50s\", \"50s\", \"50s\", \"50s\", \"50s\", \"50s\", \"50s\", \"50s\", \"50s\", \"50s\", \"50s\", \"50s\", \"50s\", \"50s\", \"50s\", \"50s\", \"50s\", \"50s\", \"50s\", \"50s\", \"50s\", \"50s\", \"50s\", \"50s\", \"50s\", \"50s\", \"50s\", \"50s\", \"50s\", \"50s\", \"50s\", \"50s\", \"50s\", \"50s\", \"50s\", \"50s\", \"50s\", \"50s\", \"50s\", \"50s\", \"50s\", \"50s\", \"50s\", \"50s\", \"50s\", \"50s\", \"50s\", \"50s\", \"50s\", \"50s\", \"50s\", \"50s\", \"50s\", \"50s\", \"50s\", \"50s\", \"50s\", \"50s\", \"50s\", \"50s\", \"50s\", \"50s\", \"50s\", \"50s\", \"50s\", \"50s\", \"50s\", \"50s\", \"50s\", \"50s\", \"50s\", \"50s\", \"50s\", \"50s\", \"50s\", \"50s\", \"50s\", \"50s\", \"50s\", \"50s\", \"50s\", \"50s\", \"50s\", \"50s\", \"50s\", \"50s\", \"50s\", \"50s\", \"50s\", \"50s\", \"50s\", \"50s\", \"50s\", \"50s\", \"50s\", \"50s\", \"50s\", \"50s\", \"50s\", \"50s\", \"50s\", \"50s\", \"50s\", \"50s\", \"50s\", \"50s\", \"50s\", \"50s\", \"50s\", \"50s\", \"50s\", \"50s\", \"50s\", \"50s\", \"50s\", \"50s\", \"50s\", \"50s\", \"50s\", \"50s\", \"50s\", \"50s\", \"50s\", \"50s\", \"50s\", \"50s\", \"50s\", \"50s\", \"50s\", \"50s\", \"50s\", \"50s\", \"50s\", \"50s\", \"50s\", \"50s\", \"50s\", \"50s\", \"50s\", \"50s\", \"50s\", \"50s\", \"50s\", \"50s\", \"50s\", \"50s\", \"50s\", \"50s\", \"50s\", \"50s\", \"50s\", \"50s\", \"50s\", \"50s\", \"50s\", \"50s\", \"50s\", \"50s\", \"50s\", \"50s\", \"50s\", \"50s\", \"50s\", \"50s\", \"50s\", \"50s\", \"50s\", \"50s\", \"50s\", \"50s\", \"50s\", \"50s\", \"50s\", \"50s\", \"50s\", \"50s\", \"50s\", \"50s\", \"50s\", \"50s\", \"50s\", \"50s\", \"50s\", \"50s\", \"50s\", \"50s\", \"50s\", \"50s\", \"50s\", \"50s\", \"50s\", \"50s\", \"50s\", \"50s\", \"50s\", \"50s\", \"50s\", \"50s\", \"50s\", \"50s\", \"50s\", \"50s\", \"50s\", \"50s\", \"50s\", \"50s\", \"50s\", \"50s\", \"50s\", \"50s\", \"50s\", \"50s\", \"50s\", \"50s\", \"50s\", \"50s\", \"50s\", \"50s\", \"50s\", \"50s\", \"50s\", \"50s\", \"50s\", \"50s\", \"60s\", \"60s\", \"60s\", \"60s\", \"60s\", \"60s\", \"60s\", \"60s\", \"60s\", \"60s\", \"60s\", \"60s\", \"60s\", \"60s\", \"60s\", \"60s\", \"60s\", \"60s\", \"60s\", \"60s\", \"60s\", \"60s\", \"60s\", \"60s\", \"60s\", \"60s\", \"60s\", \"60s\", \"60s\", \"60s\", \"60s\", \"60s\", \"60s\", \"60s\", \"60s\", \"60s\", \"60s\", \"60s\", \"60s\", \"60s\", \"60s\", \"60s\", \"60s\", \"60s\", \"60s\", \"60s\", \"60s\", \"60s\", \"60s\", \"60s\", \"60s\", \"60s\", \"60s\", \"60s\", \"60s\", \"60s\", \"60s\", \"60s\", \"60s\", \"60s\", \"60s\", \"60s\", \"60s\", \"60s\", \"60s\", \"60s\", \"60s\", \"60s\", \"60s\", \"60s\", \"60s\", \"60s\", \"60s\", \"60s\", \"60s\", \"60s\", \"60s\", \"60s\", \"60s\", \"60s\", \"60s\", \"60s\", \"60s\", \"60s\", \"60s\", \"60s\", \"60s\", \"60s\", \"60s\", \"60s\", \"60s\", \"60s\", \"60s\", \"60s\", \"60s\", \"60s\", \"60s\", \"60s\", \"60s\", \"60s\", \"60s\", \"60s\", \"60s\", \"60s\", \"60s\", \"60s\", \"60s\", \"60s\", \"60s\", \"60s\", \"60s\", \"60s\", \"60s\", \"60s\", \"60s\", \"60s\", \"60s\", \"60s\", \"60s\", \"60s\", \"60s\", \"60s\", \"60s\", \"60s\", \"60s\", \"60s\", \"60s\", \"60s\", \"60s\", \"60s\", \"60s\", \"60s\", \"60s\", \"60s\", \"60s\", \"60s\", \"60s\", \"60s\", \"60s\", \"60s\", \"60s\", \"60s\", \"60s\", \"60s\", \"60s\", \"60s\", \"60s\", \"60s\", \"60s\", \"60s\", \"60s\", \"60s\", \"60s\", \"60s\", \"60s\", \"60s\", \"60s\", \"60s\", \"60s\", \"60s\", \"60s\", \"60s\", \"60s\", \"60s\", \"60s\", \"60s\", \"60s\", \"60s\", \"60s\", \"60s\", \"60s\", \"60s\", \"60s\", \"60s\", \"60s\", \"60s\", \"60s\", \"60s\", \"60s\", \"60s\", \"60s\", \"60s\", \"60s\", \"60s\", \"60s\", \"60s\", \"60s\", \"60s\", \"60s\", \"60s\", \"60s\", \"60s\", \"60s\", \"60s\", \"60s\", \"60s\", \"60s\", \"60s\", \"60s\", \"60s\", \"60s\", \"60s\", \"60s\", \"60s\", \"60s\", \"60s\", \"60s\", \"60s\", \"60s\", \"60s\", \"60s\", \"60s\", \"70s\", \"70s\", \"70s\", \"70s\", \"70s\", \"70s\", \"70s\", \"70s\", \"70s\", \"70s\", \"70s\", \"70s\", \"70s\", \"70s\", \"70s\", \"70s\", \"70s\", \"70s\", \"70s\", \"70s\", \"70s\", \"70s\", \"70s\", \"70s\", \"70s\", \"70s\", \"70s\", \"70s\", \"70s\", \"70s\", \"70s\", \"70s\", \"70s\", \"70s\", \"70s\", \"70s\", \"70s\", \"70s\", \"70s\", \"70s\", \"70s\", \"70s\", \"70s\", \"70s\", \"70s\", \"70s\", \"70s\", \"70s\", \"70s\", \"70s\", \"70s\", \"70s\", \"70s\", \"70s\", \"70s\", \"70s\", \"70s\", \"70s\", \"70s\", \"70s\", \"70s\", \"70s\", \"70s\", \"70s\", \"70s\", \"70s\", \"70s\", \"70s\", \"70s\", \"70s\", \"70s\", \"70s\", \"70s\", \"70s\", \"70s\", \"70s\", \"70s\", \"70s\", \"70s\", \"70s\", \"70s\", \"70s\", \"70s\", \"70s\", \"70s\", \"70s\", \"70s\", \"70s\", \"80s\", \"80s\", \"80s\", \"80s\", \"80s\", \"80s\", \"80s\", \"80s\", \"80s\", \"80s\", \"80s\", \"80s\", \"80s\", \"80s\", \"80s\", \"80s\", \"80s\", \"80s\", \"80s\", \"80s\", \"80s\", \"80s\", \"80s\", \"80s\", \"80s\", \"80s\", \"80s\", \"80s\", \"80s\", \"80s\", \"80s\", \"80s\", \"80s\", \"80s\", \"80s\", \"80s\", \"80s\", \"80s\", \"80s\", \"80s\", \"80s\", \"80s\", \"80s\", \"80s\", \"80s\", \"80s\", \"80s\", \"80s\", \"80s\", \"80s\", \"80s\", \"80s\", \"80s\", \"80s\", \"80s\", \"80s\", \"90s\", \"90s\", \"90s\", \"90s\", \"90s\", \"90s\", \"90s\", \"90s\", \"90s\", \"90s\", \"90s\", \"90s\", \"90s\", \"90s\", \"90s\", \"90s\"], \"xaxis\": \"x2\", \"yaxis\": \"y2\"}, {\"alignmentgroup\": \"True\", \"bingroup\": \"x\", \"hoverlabel\": {\"namelength\": 0}, \"hovertemplate\": \"sex=female<br>age=%{x}<br>count=%{y}\", \"legendgroup\": \"sex=female\", \"marker\": {\"color\": \"#E91E63\"}, \"name\": \"sex=female\", \"offsetgroup\": \"sex=female\", \"orientation\": \"v\", \"showlegend\": true, \"type\": \"histogram\", \"x\": [\"0s\", \"0s\", \"0s\", \"0s\", \"0s\", \"0s\", \"0s\", \"0s\", \"0s\", \"0s\", \"0s\", \"0s\", \"0s\", \"0s\", \"0s\", \"0s\", \"0s\", \"0s\", \"0s\", \"0s\", \"0s\", \"0s\", \"0s\", \"0s\", \"0s\", \"0s\", \"0s\", \"0s\", \"100s\", \"10s\", \"10s\", \"10s\", \"10s\", \"10s\", \"10s\", \"10s\", \"10s\", \"10s\", \"10s\", \"10s\", \"10s\", \"10s\", \"10s\", \"10s\", \"10s\", \"10s\", \"10s\", \"10s\", \"10s\", \"10s\", \"10s\", \"10s\", \"10s\", \"10s\", \"10s\", \"10s\", \"10s\", \"10s\", \"10s\", \"10s\", \"10s\", \"10s\", \"10s\", \"10s\", \"10s\", \"10s\", \"10s\", \"10s\", \"10s\", \"10s\", \"10s\", \"10s\", \"10s\", \"10s\", \"10s\", \"10s\", \"10s\", \"10s\", \"10s\", \"10s\", \"10s\", \"10s\", \"10s\", \"10s\", \"10s\", \"10s\", \"10s\", \"10s\", \"10s\", \"10s\", \"10s\", \"10s\", \"10s\", \"10s\", \"10s\", \"10s\", \"10s\", \"20s\", \"20s\", \"20s\", \"20s\", \"20s\", \"20s\", \"20s\", \"20s\", \"20s\", \"20s\", \"20s\", \"20s\", \"20s\", \"20s\", \"20s\", \"20s\", \"20s\", \"20s\", \"20s\", \"20s\", \"20s\", \"20s\", \"20s\", \"20s\", \"20s\", \"20s\", \"20s\", \"20s\", \"20s\", \"20s\", \"20s\", \"20s\", \"20s\", \"20s\", \"20s\", \"20s\", \"20s\", \"20s\", \"20s\", \"20s\", \"20s\", \"20s\", \"20s\", \"20s\", \"20s\", \"20s\", \"20s\", \"20s\", \"20s\", \"20s\", \"20s\", \"20s\", \"20s\", \"20s\", \"20s\", \"20s\", \"20s\", \"20s\", \"20s\", \"20s\", \"20s\", \"20s\", \"20s\", \"20s\", \"20s\", \"20s\", \"20s\", \"20s\", \"20s\", \"20s\", \"20s\", \"20s\", \"20s\", \"20s\", \"20s\", \"20s\", \"20s\", \"20s\", \"20s\", \"20s\", \"20s\", \"20s\", \"20s\", \"20s\", \"20s\", \"20s\", \"20s\", \"20s\", \"20s\", \"20s\", \"20s\", \"20s\", \"20s\", \"20s\", \"20s\", \"20s\", \"20s\", \"20s\", \"20s\", \"20s\", \"20s\", \"20s\", \"20s\", \"20s\", \"20s\", \"20s\", \"20s\", \"20s\", \"20s\", \"20s\", \"20s\", \"20s\", \"20s\", \"20s\", \"20s\", \"20s\", \"20s\", \"20s\", \"20s\", \"20s\", \"20s\", \"20s\", \"20s\", \"20s\", \"20s\", \"20s\", \"20s\", \"20s\", \"20s\", \"20s\", \"20s\", \"20s\", \"20s\", \"20s\", \"20s\", \"20s\", \"20s\", \"20s\", \"20s\", \"20s\", \"20s\", \"20s\", \"20s\", \"20s\", \"20s\", \"20s\", \"20s\", \"20s\", \"20s\", \"20s\", \"20s\", \"20s\", \"20s\", \"20s\", \"20s\", \"20s\", \"20s\", \"20s\", \"20s\", \"20s\", \"20s\", \"20s\", \"20s\", \"20s\", \"20s\", \"20s\", \"20s\", \"20s\", \"20s\", \"20s\", \"20s\", \"20s\", \"20s\", \"20s\", \"20s\", \"20s\", \"20s\", \"20s\", \"20s\", \"20s\", \"20s\", \"20s\", \"20s\", \"20s\", \"20s\", \"20s\", \"20s\", \"20s\", \"20s\", \"20s\", \"20s\", \"20s\", \"20s\", \"20s\", \"20s\", \"20s\", \"20s\", \"20s\", \"20s\", \"20s\", \"20s\", \"20s\", \"20s\", \"20s\", \"20s\", \"20s\", \"20s\", \"20s\", \"20s\", \"20s\", \"20s\", \"20s\", \"20s\", \"20s\", \"20s\", \"20s\", \"20s\", \"20s\", \"20s\", \"20s\", \"20s\", \"20s\", \"20s\", \"20s\", \"20s\", \"20s\", \"20s\", \"20s\", \"20s\", \"20s\", \"20s\", \"20s\", \"20s\", \"20s\", \"20s\", \"20s\", \"20s\", \"20s\", \"20s\", \"20s\", \"20s\", \"20s\", \"20s\", \"20s\", \"20s\", \"20s\", \"20s\", \"20s\", \"20s\", \"20s\", \"20s\", \"20s\", \"20s\", \"20s\", \"20s\", \"20s\", \"20s\", \"20s\", \"20s\", \"20s\", \"20s\", \"20s\", \"20s\", \"20s\", \"20s\", \"20s\", \"20s\", \"20s\", \"20s\", \"20s\", \"20s\", \"20s\", \"20s\", \"20s\", \"20s\", \"20s\", \"20s\", \"20s\", \"20s\", \"20s\", \"20s\", \"20s\", \"20s\", \"20s\", \"20s\", \"20s\", \"20s\", \"20s\", \"20s\", \"20s\", \"20s\", \"20s\", \"20s\", \"20s\", \"20s\", \"20s\", \"20s\", \"20s\", \"20s\", \"20s\", \"20s\", \"20s\", \"20s\", \"20s\", \"20s\", \"20s\", \"20s\", \"20s\", \"20s\", \"20s\", \"20s\", \"20s\", \"20s\", \"20s\", \"20s\", \"20s\", \"20s\", \"20s\", \"20s\", \"20s\", \"20s\", \"20s\", \"20s\", \"20s\", \"20s\", \"20s\", \"20s\", \"20s\", \"20s\", \"20s\", \"20s\", \"20s\", \"20s\", \"20s\", \"20s\", \"20s\", \"20s\", \"20s\", \"20s\", \"20s\", \"20s\", \"20s\", \"20s\", \"20s\", \"20s\", \"20s\", \"20s\", \"20s\", \"20s\", \"20s\", \"20s\", \"20s\", \"20s\", \"20s\", \"20s\", \"20s\", \"20s\", \"20s\", \"20s\", \"20s\", \"20s\", \"20s\", \"20s\", \"20s\", \"20s\", \"20s\", \"20s\", \"20s\", \"20s\", \"20s\", \"20s\", \"20s\", \"20s\", \"20s\", \"20s\", \"20s\", \"20s\", \"20s\", \"20s\", \"20s\", \"20s\", \"20s\", \"20s\", \"20s\", \"20s\", \"20s\", \"20s\", \"20s\", \"20s\", \"20s\", \"20s\", \"20s\", \"20s\", \"20s\", \"20s\", \"20s\", \"20s\", \"20s\", \"20s\", \"20s\", \"20s\", \"20s\", \"20s\", \"20s\", \"20s\", \"20s\", \"20s\", \"20s\", \"20s\", \"20s\", \"20s\", \"20s\", \"20s\", \"20s\", \"20s\", \"20s\", \"20s\", \"20s\", \"20s\", \"20s\", \"20s\", \"20s\", \"20s\", \"20s\", \"20s\", \"20s\", \"20s\", \"20s\", \"20s\", \"20s\", \"20s\", \"20s\", \"20s\", \"20s\", \"20s\", \"20s\", \"20s\", \"20s\", \"20s\", \"20s\", \"20s\", \"20s\", \"20s\", \"20s\", \"20s\", \"20s\", \"20s\", \"20s\", \"20s\", \"20s\", \"20s\", \"20s\", \"20s\", \"20s\", \"20s\", \"20s\", \"20s\", \"30s\", \"30s\", \"30s\", \"30s\", \"30s\", \"30s\", \"30s\", \"30s\", \"30s\", \"30s\", \"30s\", \"30s\", \"30s\", \"30s\", \"30s\", \"30s\", \"30s\", \"30s\", \"30s\", \"30s\", \"30s\", \"30s\", \"30s\", \"30s\", \"30s\", \"30s\", \"30s\", \"30s\", \"30s\", \"30s\", \"30s\", \"30s\", \"30s\", \"30s\", \"30s\", \"30s\", \"30s\", \"30s\", \"30s\", \"30s\", \"30s\", \"30s\", \"30s\", \"30s\", \"30s\", \"30s\", \"30s\", \"30s\", \"30s\", \"30s\", \"30s\", \"30s\", \"30s\", \"30s\", \"30s\", \"30s\", \"30s\", \"30s\", \"30s\", \"30s\", \"30s\", \"30s\", \"30s\", \"30s\", \"30s\", \"30s\", \"30s\", \"30s\", \"30s\", \"30s\", \"30s\", \"30s\", \"30s\", \"30s\", \"30s\", \"30s\", \"30s\", \"30s\", \"30s\", \"30s\", \"30s\", \"30s\", \"30s\", \"30s\", \"30s\", \"30s\", \"30s\", \"30s\", \"30s\", \"30s\", \"30s\", \"30s\", \"30s\", \"30s\", \"30s\", \"30s\", \"30s\", \"30s\", \"30s\", \"30s\", \"30s\", \"30s\", \"30s\", \"30s\", \"30s\", \"30s\", \"30s\", \"30s\", \"30s\", \"30s\", \"30s\", \"30s\", \"30s\", \"30s\", \"30s\", \"30s\", \"30s\", \"30s\", \"30s\", \"30s\", \"30s\", \"30s\", \"30s\", \"30s\", \"30s\", \"30s\", \"30s\", \"30s\", \"30s\", \"30s\", \"30s\", \"30s\", \"30s\", \"30s\", \"30s\", \"30s\", \"30s\", \"30s\", \"30s\", \"30s\", \"30s\", \"30s\", \"30s\", \"30s\", \"30s\", \"30s\", \"30s\", \"30s\", \"30s\", \"30s\", \"30s\", \"30s\", \"30s\", \"30s\", \"30s\", \"30s\", \"30s\", \"30s\", \"30s\", \"30s\", \"30s\", \"30s\", \"30s\", \"30s\", \"30s\", \"30s\", \"30s\", \"30s\", \"30s\", \"30s\", \"30s\", \"30s\", \"30s\", \"30s\", \"30s\", \"30s\", \"30s\", \"30s\", \"30s\", \"30s\", \"30s\", \"30s\", \"30s\", \"30s\", \"30s\", \"30s\", \"30s\", \"30s\", \"30s\", \"30s\", \"30s\", \"30s\", \"30s\", \"30s\", \"30s\", \"30s\", \"30s\", \"30s\", \"30s\", \"30s\", \"30s\", \"30s\", \"30s\", \"30s\", \"30s\", \"30s\", \"30s\", \"30s\", \"30s\", \"30s\", \"30s\", \"30s\", \"30s\", \"30s\", \"30s\", \"30s\", \"30s\", \"30s\", \"30s\", \"30s\", \"30s\", \"30s\", \"30s\", \"30s\", \"30s\", \"30s\", \"30s\", \"30s\", \"30s\", \"30s\", \"30s\", \"30s\", \"30s\", \"30s\", \"30s\", \"30s\", \"30s\", \"30s\", \"30s\", \"30s\", \"30s\", \"30s\", \"40s\", \"40s\", \"40s\", \"40s\", \"40s\", \"40s\", \"40s\", \"40s\", \"40s\", \"40s\", \"40s\", \"40s\", \"40s\", \"40s\", \"40s\", \"40s\", \"40s\", \"40s\", \"40s\", \"40s\", \"40s\", \"40s\", \"40s\", \"40s\", \"40s\", \"40s\", \"40s\", \"40s\", \"40s\", \"40s\", \"40s\", \"40s\", \"40s\", \"40s\", \"40s\", \"40s\", \"40s\", \"40s\", \"40s\", \"40s\", \"40s\", \"40s\", \"40s\", \"40s\", \"40s\", \"40s\", \"40s\", \"40s\", \"40s\", \"40s\", \"40s\", \"40s\", \"40s\", \"40s\", \"40s\", \"40s\", \"40s\", \"40s\", \"40s\", \"40s\", \"40s\", \"40s\", \"40s\", \"40s\", \"40s\", \"40s\", \"40s\", \"40s\", \"40s\", \"40s\", \"40s\", \"40s\", \"40s\", \"40s\", \"40s\", \"40s\", \"40s\", \"40s\", \"40s\", \"40s\", \"40s\", \"40s\", \"40s\", \"40s\", \"40s\", \"40s\", \"40s\", \"40s\", \"40s\", \"40s\", \"40s\", \"40s\", \"40s\", \"40s\", \"40s\", \"40s\", \"40s\", \"40s\", \"40s\", \"40s\", \"40s\", \"40s\", \"40s\", \"40s\", \"40s\", \"40s\", \"40s\", \"40s\", \"40s\", \"40s\", \"40s\", \"40s\", \"40s\", \"40s\", \"40s\", \"40s\", \"40s\", \"40s\", \"40s\", \"40s\", \"40s\", \"40s\", \"40s\", \"40s\", \"40s\", \"40s\", \"40s\", \"40s\", \"40s\", \"40s\", \"40s\", \"40s\", \"40s\", \"40s\", \"40s\", \"40s\", \"40s\", \"40s\", \"40s\", \"40s\", \"40s\", \"40s\", \"40s\", \"40s\", \"40s\", \"40s\", \"40s\", \"40s\", \"40s\", \"40s\", \"40s\", \"40s\", \"40s\", \"40s\", \"40s\", \"40s\", \"40s\", \"40s\", \"40s\", \"40s\", \"40s\", \"40s\", \"40s\", \"40s\", \"40s\", \"40s\", \"40s\", \"40s\", \"40s\", \"40s\", \"40s\", \"40s\", \"40s\", \"40s\", \"40s\", \"40s\", \"40s\", \"40s\", \"40s\", \"40s\", \"40s\", \"40s\", \"40s\", \"40s\", \"40s\", \"40s\", \"40s\", \"40s\", \"40s\", \"40s\", \"40s\", \"40s\", \"40s\", \"40s\", \"40s\", \"40s\", \"40s\", \"40s\", \"40s\", \"40s\", \"40s\", \"40s\", \"40s\", \"40s\", \"40s\", \"40s\", \"40s\", \"40s\", \"40s\", \"40s\", \"40s\", \"40s\", \"40s\", \"40s\", \"40s\", \"40s\", \"40s\", \"40s\", \"40s\", \"40s\", \"40s\", \"40s\", \"40s\", \"40s\", \"40s\", \"40s\", \"40s\", \"40s\", \"40s\", \"40s\", \"40s\", \"40s\", \"40s\", \"40s\", \"40s\", \"40s\", \"40s\", \"40s\", \"40s\", \"40s\", \"40s\", \"40s\", \"40s\", \"40s\", \"40s\", \"40s\", \"40s\", \"40s\", \"40s\", \"40s\", \"40s\", \"40s\", \"40s\", \"40s\", \"40s\", \"40s\", \"40s\", \"40s\", \"40s\", \"40s\", \"40s\", \"40s\", \"40s\", \"40s\", \"40s\", \"40s\", \"40s\", \"40s\", \"40s\", \"40s\", \"40s\", \"40s\", \"40s\", \"40s\", \"40s\", \"40s\", \"40s\", \"40s\", \"40s\", \"40s\", \"40s\", \"40s\", \"40s\", \"40s\", \"40s\", \"40s\", \"40s\", \"40s\", \"40s\", \"40s\", \"40s\", \"40s\", \"40s\", \"40s\", \"40s\", \"40s\", \"40s\", \"40s\", \"40s\", \"40s\", \"40s\", \"40s\", \"40s\", \"40s\", \"40s\", \"40s\", \"40s\", \"50s\", \"50s\", \"50s\", \"50s\", \"50s\", \"50s\", \"50s\", \"50s\", \"50s\", \"50s\", \"50s\", \"50s\", \"50s\", \"50s\", \"50s\", \"50s\", \"50s\", \"50s\", \"50s\", \"50s\", \"50s\", \"50s\", \"50s\", \"50s\", \"50s\", \"50s\", \"50s\", \"50s\", \"50s\", \"50s\", \"50s\", \"50s\", \"50s\", \"50s\", \"50s\", \"50s\", \"50s\", \"50s\", \"50s\", \"50s\", \"50s\", \"50s\", \"50s\", \"50s\", \"50s\", \"50s\", \"50s\", \"50s\", \"50s\", \"50s\", \"50s\", \"50s\", \"50s\", \"50s\", \"50s\", \"50s\", \"50s\", \"50s\", \"50s\", \"50s\", \"50s\", \"50s\", \"50s\", \"50s\", \"50s\", \"50s\", \"50s\", \"50s\", \"50s\", \"50s\", \"50s\", \"50s\", \"50s\", \"50s\", \"50s\", \"50s\", \"50s\", \"50s\", \"50s\", \"50s\", \"50s\", \"50s\", \"50s\", \"50s\", \"50s\", \"50s\", \"50s\", \"50s\", \"50s\", \"50s\", \"50s\", \"50s\", \"50s\", \"50s\", \"50s\", \"50s\", \"50s\", \"50s\", \"50s\", \"50s\", \"50s\", \"50s\", \"50s\", \"50s\", \"50s\", \"50s\", \"50s\", \"50s\", \"50s\", \"50s\", \"50s\", \"50s\", \"50s\", \"50s\", \"50s\", \"50s\", \"50s\", \"50s\", \"50s\", \"50s\", \"50s\", \"50s\", \"50s\", \"50s\", \"50s\", \"50s\", \"50s\", \"50s\", \"50s\", \"50s\", \"50s\", \"50s\", \"50s\", \"50s\", \"50s\", \"50s\", \"50s\", \"50s\", \"50s\", \"50s\", \"50s\", \"50s\", \"50s\", \"50s\", \"50s\", \"50s\", \"50s\", \"50s\", \"50s\", \"50s\", \"50s\", \"50s\", \"50s\", \"50s\", \"50s\", \"50s\", \"50s\", \"50s\", \"50s\", \"50s\", \"50s\", \"50s\", \"50s\", \"50s\", \"50s\", \"50s\", \"50s\", \"50s\", \"50s\", \"50s\", \"50s\", \"50s\", \"50s\", \"50s\", \"50s\", \"50s\", \"50s\", \"50s\", \"50s\", \"50s\", \"50s\", \"50s\", \"50s\", \"50s\", \"50s\", \"50s\", \"50s\", \"50s\", \"50s\", \"50s\", \"50s\", \"50s\", \"50s\", \"50s\", \"50s\", \"50s\", \"50s\", \"50s\", \"50s\", \"50s\", \"50s\", \"50s\", \"50s\", \"50s\", \"50s\", \"50s\", \"50s\", \"50s\", \"50s\", \"50s\", \"50s\", \"50s\", \"50s\", \"50s\", \"50s\", \"50s\", \"50s\", \"50s\", \"50s\", \"50s\", \"50s\", \"50s\", \"50s\", \"50s\", \"50s\", \"50s\", \"50s\", \"50s\", \"50s\", \"50s\", \"50s\", \"50s\", \"50s\", \"50s\", \"50s\", \"50s\", \"50s\", \"50s\", \"50s\", \"50s\", \"50s\", \"50s\", \"50s\", \"50s\", \"50s\", \"50s\", \"50s\", \"50s\", \"50s\", \"50s\", \"50s\", \"50s\", \"50s\", \"50s\", \"50s\", \"50s\", \"50s\", \"50s\", \"50s\", \"50s\", \"50s\", \"50s\", \"50s\", \"50s\", \"50s\", \"50s\", \"50s\", \"50s\", \"50s\", \"50s\", \"50s\", \"50s\", \"50s\", \"50s\", \"50s\", \"50s\", \"50s\", \"50s\", \"50s\", \"50s\", \"50s\", \"50s\", \"50s\", \"50s\", \"50s\", \"50s\", \"50s\", \"50s\", \"50s\", \"50s\", \"50s\", \"50s\", \"50s\", \"50s\", \"50s\", \"50s\", \"50s\", \"50s\", \"50s\", \"50s\", \"50s\", \"50s\", \"50s\", \"50s\", \"50s\", \"50s\", \"50s\", \"50s\", \"50s\", \"50s\", \"50s\", \"50s\", \"50s\", \"50s\", \"50s\", \"50s\", \"50s\", \"50s\", \"50s\", \"50s\", \"50s\", \"50s\", \"50s\", \"50s\", \"50s\", \"50s\", \"50s\", \"50s\", \"50s\", \"50s\", \"50s\", \"50s\", \"50s\", \"50s\", \"50s\", \"50s\", \"50s\", \"50s\", \"50s\", \"50s\", \"50s\", \"50s\", \"50s\", \"50s\", \"50s\", \"50s\", \"50s\", \"50s\", \"50s\", \"50s\", \"50s\", \"50s\", \"50s\", \"50s\", \"50s\", \"50s\", \"50s\", \"50s\", \"50s\", \"50s\", \"50s\", \"50s\", \"50s\", \"50s\", \"50s\", \"50s\", \"50s\", \"50s\", \"50s\", \"50s\", \"50s\", \"50s\", \"50s\", \"50s\", \"50s\", \"50s\", \"50s\", \"50s\", \"50s\", \"50s\", \"50s\", \"50s\", \"50s\", \"50s\", \"50s\", \"50s\", \"50s\", \"50s\", \"50s\", \"50s\", \"50s\", \"50s\", \"50s\", \"50s\", \"50s\", \"50s\", \"50s\", \"50s\", \"50s\", \"50s\", \"50s\", \"50s\", \"50s\", \"50s\", \"60s\", \"60s\", \"60s\", \"60s\", \"60s\", \"60s\", \"60s\", \"60s\", \"60s\", \"60s\", \"60s\", \"60s\", \"60s\", \"60s\", \"60s\", \"60s\", \"60s\", \"60s\", \"60s\", \"60s\", \"60s\", \"60s\", \"60s\", \"60s\", \"60s\", \"60s\", \"60s\", \"60s\", \"60s\", \"60s\", \"60s\", \"60s\", \"60s\", \"60s\", \"60s\", \"60s\", \"60s\", \"60s\", \"60s\", \"60s\", \"60s\", \"60s\", \"60s\", \"60s\", \"60s\", \"60s\", \"60s\", \"60s\", \"60s\", \"60s\", \"60s\", \"60s\", \"60s\", \"60s\", \"60s\", \"60s\", \"60s\", \"60s\", \"60s\", \"60s\", \"60s\", \"60s\", \"60s\", \"60s\", \"60s\", \"60s\", \"60s\", \"60s\", \"60s\", \"60s\", \"60s\", \"60s\", \"60s\", \"60s\", \"60s\", \"60s\", \"60s\", \"60s\", \"60s\", \"60s\", \"60s\", \"60s\", \"60s\", \"60s\", \"60s\", \"60s\", \"60s\", \"60s\", \"60s\", \"60s\", \"60s\", \"60s\", \"60s\", \"60s\", \"60s\", \"60s\", \"60s\", \"60s\", \"60s\", \"60s\", \"60s\", \"60s\", \"60s\", \"60s\", \"60s\", \"60s\", \"60s\", \"60s\", \"60s\", \"60s\", \"60s\", \"60s\", \"60s\", \"60s\", \"60s\", \"60s\", \"60s\", \"60s\", \"60s\", \"60s\", \"60s\", \"60s\", \"60s\", \"60s\", \"60s\", \"60s\", \"60s\", \"60s\", \"60s\", \"60s\", \"60s\", \"60s\", \"60s\", \"60s\", \"60s\", \"60s\", \"60s\", \"60s\", \"60s\", \"60s\", \"60s\", \"60s\", \"60s\", \"60s\", \"60s\", \"60s\", \"60s\", \"60s\", \"60s\", \"60s\", \"60s\", \"60s\", \"60s\", \"60s\", \"60s\", \"60s\", \"60s\", \"60s\", \"60s\", \"60s\", \"60s\", \"60s\", \"60s\", \"60s\", \"60s\", \"60s\", \"60s\", \"60s\", \"60s\", \"60s\", \"60s\", \"60s\", \"60s\", \"60s\", \"60s\", \"60s\", \"60s\", \"60s\", \"60s\", \"60s\", \"60s\", \"60s\", \"60s\", \"60s\", \"60s\", \"60s\", \"60s\", \"60s\", \"60s\", \"60s\", \"60s\", \"60s\", \"60s\", \"60s\", \"60s\", \"60s\", \"60s\", \"60s\", \"60s\", \"60s\", \"60s\", \"60s\", \"60s\", \"60s\", \"60s\", \"60s\", \"60s\", \"60s\", \"60s\", \"60s\", \"60s\", \"60s\", \"60s\", \"60s\", \"60s\", \"60s\", \"60s\", \"60s\", \"60s\", \"60s\", \"60s\", \"60s\", \"60s\", \"60s\", \"60s\", \"60s\", \"60s\", \"60s\", \"60s\", \"60s\", \"60s\", \"60s\", \"60s\", \"60s\", \"60s\", \"60s\", \"60s\", \"60s\", \"60s\", \"60s\", \"60s\", \"60s\", \"60s\", \"60s\", \"60s\", \"60s\", \"60s\", \"60s\", \"60s\", \"60s\", \"60s\", \"60s\", \"60s\", \"60s\", \"60s\", \"60s\", \"60s\", \"60s\", \"60s\", \"60s\", \"60s\", \"60s\", \"60s\", \"60s\", \"60s\", \"60s\", \"60s\", \"60s\", \"60s\", \"60s\", \"70s\", \"70s\", \"70s\", \"70s\", \"70s\", \"70s\", \"70s\", \"70s\", \"70s\", \"70s\", \"70s\", \"70s\", \"70s\", \"70s\", \"70s\", \"70s\", \"70s\", \"70s\", \"70s\", \"70s\", \"70s\", \"70s\", \"70s\", \"70s\", \"70s\", \"70s\", \"70s\", \"70s\", \"70s\", \"70s\", \"70s\", \"70s\", \"70s\", \"70s\", \"70s\", \"70s\", \"70s\", \"70s\", \"70s\", \"70s\", \"70s\", \"70s\", \"70s\", \"70s\", \"70s\", \"70s\", \"70s\", \"70s\", \"70s\", \"70s\", \"70s\", \"70s\", \"70s\", \"70s\", \"70s\", \"70s\", \"70s\", \"70s\", \"70s\", \"70s\", \"70s\", \"70s\", \"70s\", \"70s\", \"70s\", \"70s\", \"70s\", \"70s\", \"70s\", \"70s\", \"70s\", \"70s\", \"70s\", \"70s\", \"70s\", \"70s\", \"70s\", \"70s\", \"70s\", \"70s\", \"70s\", \"70s\", \"70s\", \"70s\", \"70s\", \"70s\", \"70s\", \"70s\", \"70s\", \"70s\", \"70s\", \"70s\", \"70s\", \"70s\", \"70s\", \"70s\", \"70s\", \"70s\", \"70s\", \"70s\", \"70s\", \"70s\", \"70s\", \"70s\", \"70s\", \"70s\", \"70s\", \"70s\", \"70s\", \"70s\", \"70s\", \"70s\", \"70s\", \"70s\", \"70s\", \"70s\", \"70s\", \"70s\", \"70s\", \"70s\", \"70s\", \"70s\", \"70s\", \"70s\", \"70s\", \"70s\", \"70s\", \"70s\", \"70s\", \"70s\", \"70s\", \"70s\", \"70s\", \"70s\", \"70s\", \"70s\", \"70s\", \"70s\", \"70s\", \"70s\", \"70s\", \"70s\", \"70s\", \"70s\", \"80s\", \"80s\", \"80s\", \"80s\", \"80s\", \"80s\", \"80s\", \"80s\", \"80s\", \"80s\", \"80s\", \"80s\", \"80s\", \"80s\", \"80s\", \"80s\", \"80s\", \"80s\", \"80s\", \"80s\", \"80s\", \"80s\", \"80s\", \"80s\", \"80s\", \"80s\", \"80s\", \"80s\", \"80s\", \"80s\", \"80s\", \"80s\", \"80s\", \"80s\", \"80s\", \"80s\", \"80s\", \"80s\", \"80s\", \"80s\", \"80s\", \"80s\", \"80s\", \"80s\", \"80s\", \"80s\", \"80s\", \"80s\", \"80s\", \"80s\", \"80s\", \"80s\", \"80s\", \"80s\", \"80s\", \"80s\", \"80s\", \"80s\", \"80s\", \"80s\", \"80s\", \"80s\", \"80s\", \"80s\", \"80s\", \"80s\", \"80s\", \"80s\", \"80s\", \"80s\", \"80s\", \"80s\", \"80s\", \"80s\", \"80s\", \"80s\", \"80s\", \"80s\", \"80s\", \"80s\", \"80s\", \"80s\", \"80s\", \"80s\", \"80s\", \"80s\", \"80s\", \"80s\", \"80s\", \"80s\", \"80s\", \"80s\", \"80s\", \"80s\", \"80s\", \"80s\", \"80s\", \"80s\", \"80s\", \"80s\", \"80s\", \"80s\", \"80s\", \"80s\", \"80s\", \"80s\", \"80s\", \"80s\", \"80s\", \"80s\", \"80s\", \"80s\", \"80s\", \"80s\", \"90s\", \"90s\", \"90s\", \"90s\", \"90s\", \"90s\", \"90s\", \"90s\", \"90s\", \"90s\", \"90s\", \"90s\", \"90s\", \"90s\", \"90s\", \"90s\", \"90s\", \"90s\", \"90s\", \"90s\", \"90s\", \"90s\", \"90s\", \"90s\", \"90s\", \"90s\", \"90s\", \"90s\", \"90s\", \"90s\", \"90s\", \"90s\", \"90s\"], \"xaxis\": \"x\", \"yaxis\": \"y\"}, {\"alignmentgroup\": \"True\", \"hoverlabel\": {\"namelength\": 0}, \"hovertemplate\": \"sex=female<br>age=%{x}\", \"legendgroup\": \"sex=female\", \"marker\": {\"color\": \"#E91E63\"}, \"name\": \"sex=female\", \"offsetgroup\": \"sex=female\", \"scalegroup\": \"x\", \"showlegend\": false, \"type\": \"violin\", \"x\": [\"0s\", \"0s\", \"0s\", \"0s\", \"0s\", \"0s\", \"0s\", \"0s\", \"0s\", \"0s\", \"0s\", \"0s\", \"0s\", \"0s\", \"0s\", \"0s\", \"0s\", \"0s\", \"0s\", \"0s\", \"0s\", \"0s\", \"0s\", \"0s\", \"0s\", \"0s\", \"0s\", \"0s\", \"100s\", \"10s\", \"10s\", \"10s\", \"10s\", \"10s\", \"10s\", \"10s\", \"10s\", \"10s\", \"10s\", \"10s\", \"10s\", \"10s\", \"10s\", \"10s\", \"10s\", \"10s\", \"10s\", \"10s\", \"10s\", \"10s\", \"10s\", \"10s\", \"10s\", \"10s\", \"10s\", \"10s\", \"10s\", \"10s\", \"10s\", \"10s\", \"10s\", \"10s\", \"10s\", \"10s\", \"10s\", \"10s\", \"10s\", \"10s\", \"10s\", \"10s\", \"10s\", \"10s\", \"10s\", \"10s\", \"10s\", \"10s\", \"10s\", \"10s\", \"10s\", \"10s\", \"10s\", \"10s\", \"10s\", \"10s\", \"10s\", \"10s\", \"10s\", \"10s\", \"10s\", \"10s\", \"10s\", \"10s\", \"10s\", \"10s\", \"10s\", \"10s\", \"10s\", \"20s\", \"20s\", \"20s\", \"20s\", \"20s\", \"20s\", \"20s\", \"20s\", \"20s\", \"20s\", \"20s\", \"20s\", \"20s\", \"20s\", \"20s\", \"20s\", \"20s\", \"20s\", \"20s\", \"20s\", \"20s\", \"20s\", \"20s\", \"20s\", \"20s\", \"20s\", \"20s\", \"20s\", \"20s\", \"20s\", \"20s\", \"20s\", \"20s\", \"20s\", \"20s\", \"20s\", \"20s\", \"20s\", \"20s\", \"20s\", \"20s\", \"20s\", \"20s\", \"20s\", \"20s\", \"20s\", \"20s\", \"20s\", \"20s\", \"20s\", \"20s\", \"20s\", \"20s\", \"20s\", \"20s\", \"20s\", \"20s\", \"20s\", \"20s\", \"20s\", \"20s\", \"20s\", \"20s\", \"20s\", \"20s\", \"20s\", \"20s\", \"20s\", \"20s\", \"20s\", \"20s\", \"20s\", \"20s\", \"20s\", \"20s\", \"20s\", \"20s\", \"20s\", \"20s\", \"20s\", \"20s\", \"20s\", \"20s\", \"20s\", \"20s\", \"20s\", \"20s\", \"20s\", \"20s\", \"20s\", \"20s\", \"20s\", \"20s\", \"20s\", \"20s\", \"20s\", \"20s\", \"20s\", \"20s\", \"20s\", \"20s\", \"20s\", \"20s\", \"20s\", \"20s\", \"20s\", \"20s\", \"20s\", \"20s\", \"20s\", \"20s\", \"20s\", \"20s\", \"20s\", \"20s\", \"20s\", \"20s\", \"20s\", \"20s\", \"20s\", \"20s\", \"20s\", \"20s\", \"20s\", \"20s\", \"20s\", \"20s\", \"20s\", \"20s\", \"20s\", \"20s\", \"20s\", \"20s\", \"20s\", \"20s\", \"20s\", \"20s\", \"20s\", \"20s\", \"20s\", \"20s\", \"20s\", \"20s\", \"20s\", \"20s\", \"20s\", \"20s\", \"20s\", \"20s\", \"20s\", \"20s\", \"20s\", \"20s\", \"20s\", \"20s\", \"20s\", \"20s\", \"20s\", \"20s\", \"20s\", \"20s\", \"20s\", \"20s\", \"20s\", \"20s\", \"20s\", \"20s\", \"20s\", \"20s\", \"20s\", \"20s\", \"20s\", \"20s\", \"20s\", \"20s\", \"20s\", \"20s\", \"20s\", \"20s\", \"20s\", \"20s\", \"20s\", \"20s\", \"20s\", \"20s\", \"20s\", \"20s\", \"20s\", \"20s\", \"20s\", \"20s\", \"20s\", \"20s\", \"20s\", \"20s\", \"20s\", \"20s\", \"20s\", \"20s\", \"20s\", \"20s\", \"20s\", \"20s\", \"20s\", \"20s\", \"20s\", \"20s\", \"20s\", \"20s\", \"20s\", \"20s\", \"20s\", \"20s\", \"20s\", \"20s\", \"20s\", \"20s\", \"20s\", \"20s\", \"20s\", \"20s\", \"20s\", \"20s\", \"20s\", \"20s\", \"20s\", \"20s\", \"20s\", \"20s\", \"20s\", \"20s\", \"20s\", \"20s\", \"20s\", \"20s\", \"20s\", \"20s\", \"20s\", \"20s\", \"20s\", \"20s\", \"20s\", \"20s\", \"20s\", \"20s\", \"20s\", \"20s\", \"20s\", \"20s\", \"20s\", \"20s\", \"20s\", \"20s\", \"20s\", \"20s\", \"20s\", \"20s\", \"20s\", \"20s\", \"20s\", \"20s\", \"20s\", \"20s\", \"20s\", \"20s\", \"20s\", \"20s\", \"20s\", \"20s\", \"20s\", \"20s\", \"20s\", \"20s\", \"20s\", \"20s\", \"20s\", \"20s\", \"20s\", \"20s\", \"20s\", \"20s\", \"20s\", \"20s\", \"20s\", \"20s\", \"20s\", \"20s\", \"20s\", \"20s\", \"20s\", \"20s\", \"20s\", \"20s\", \"20s\", \"20s\", \"20s\", \"20s\", \"20s\", \"20s\", \"20s\", \"20s\", \"20s\", \"20s\", \"20s\", \"20s\", \"20s\", \"20s\", \"20s\", \"20s\", \"20s\", \"20s\", \"20s\", \"20s\", \"20s\", \"20s\", \"20s\", \"20s\", \"20s\", \"20s\", \"20s\", \"20s\", \"20s\", \"20s\", \"20s\", \"20s\", \"20s\", \"20s\", \"20s\", \"20s\", \"20s\", \"20s\", \"20s\", \"20s\", \"20s\", \"20s\", \"20s\", \"20s\", \"20s\", \"20s\", \"20s\", \"20s\", \"20s\", \"20s\", \"20s\", \"20s\", \"20s\", \"20s\", \"20s\", \"20s\", \"20s\", \"20s\", \"20s\", \"20s\", \"20s\", \"20s\", \"20s\", \"20s\", \"20s\", \"20s\", \"20s\", \"20s\", \"20s\", \"20s\", \"20s\", \"20s\", \"20s\", \"20s\", \"20s\", \"20s\", \"20s\", \"20s\", \"20s\", \"20s\", \"20s\", \"20s\", \"20s\", \"20s\", \"20s\", \"20s\", \"20s\", \"20s\", \"20s\", \"20s\", \"20s\", \"20s\", \"20s\", \"20s\", \"20s\", \"20s\", \"20s\", \"20s\", \"20s\", \"20s\", \"20s\", \"20s\", \"20s\", \"20s\", \"20s\", \"20s\", \"20s\", \"20s\", \"20s\", \"20s\", \"20s\", \"20s\", \"20s\", \"20s\", \"20s\", \"20s\", \"20s\", \"20s\", \"20s\", \"20s\", \"20s\", \"20s\", \"20s\", \"20s\", \"20s\", \"20s\", \"20s\", \"20s\", \"20s\", \"20s\", \"20s\", \"20s\", \"20s\", \"20s\", \"20s\", \"20s\", \"20s\", \"20s\", \"20s\", \"20s\", \"20s\", \"20s\", \"20s\", \"20s\", \"20s\", \"20s\", \"20s\", \"20s\", \"20s\", \"20s\", \"20s\", \"20s\", \"20s\", \"20s\", \"20s\", \"20s\", \"20s\", \"20s\", \"20s\", \"20s\", \"20s\", \"20s\", \"20s\", \"20s\", \"30s\", \"30s\", \"30s\", \"30s\", \"30s\", \"30s\", \"30s\", \"30s\", \"30s\", \"30s\", \"30s\", \"30s\", \"30s\", \"30s\", \"30s\", \"30s\", \"30s\", \"30s\", \"30s\", \"30s\", \"30s\", \"30s\", \"30s\", \"30s\", \"30s\", \"30s\", \"30s\", \"30s\", \"30s\", \"30s\", \"30s\", \"30s\", \"30s\", \"30s\", \"30s\", \"30s\", \"30s\", \"30s\", \"30s\", \"30s\", \"30s\", \"30s\", \"30s\", \"30s\", \"30s\", \"30s\", \"30s\", \"30s\", \"30s\", \"30s\", \"30s\", \"30s\", \"30s\", \"30s\", \"30s\", \"30s\", \"30s\", \"30s\", \"30s\", \"30s\", \"30s\", \"30s\", \"30s\", \"30s\", \"30s\", \"30s\", \"30s\", \"30s\", \"30s\", \"30s\", \"30s\", \"30s\", \"30s\", \"30s\", \"30s\", \"30s\", \"30s\", \"30s\", \"30s\", \"30s\", \"30s\", \"30s\", \"30s\", \"30s\", \"30s\", \"30s\", \"30s\", \"30s\", \"30s\", \"30s\", \"30s\", \"30s\", \"30s\", \"30s\", \"30s\", \"30s\", \"30s\", \"30s\", \"30s\", \"30s\", \"30s\", \"30s\", \"30s\", \"30s\", \"30s\", \"30s\", \"30s\", \"30s\", \"30s\", \"30s\", \"30s\", \"30s\", \"30s\", \"30s\", \"30s\", \"30s\", \"30s\", \"30s\", \"30s\", \"30s\", \"30s\", \"30s\", \"30s\", \"30s\", \"30s\", \"30s\", \"30s\", \"30s\", \"30s\", \"30s\", \"30s\", \"30s\", \"30s\", \"30s\", \"30s\", \"30s\", \"30s\", \"30s\", \"30s\", \"30s\", \"30s\", \"30s\", \"30s\", \"30s\", \"30s\", \"30s\", \"30s\", \"30s\", \"30s\", \"30s\", \"30s\", \"30s\", \"30s\", \"30s\", \"30s\", \"30s\", \"30s\", \"30s\", \"30s\", \"30s\", \"30s\", \"30s\", \"30s\", \"30s\", \"30s\", \"30s\", \"30s\", \"30s\", \"30s\", \"30s\", \"30s\", \"30s\", \"30s\", \"30s\", \"30s\", \"30s\", \"30s\", \"30s\", \"30s\", \"30s\", \"30s\", \"30s\", \"30s\", \"30s\", \"30s\", \"30s\", \"30s\", \"30s\", \"30s\", \"30s\", \"30s\", \"30s\", \"30s\", \"30s\", \"30s\", \"30s\", \"30s\", \"30s\", \"30s\", \"30s\", \"30s\", \"30s\", \"30s\", \"30s\", \"30s\", \"30s\", \"30s\", \"30s\", \"30s\", \"30s\", \"30s\", \"30s\", \"30s\", \"30s\", \"30s\", \"30s\", \"30s\", \"30s\", \"30s\", \"30s\", \"30s\", \"30s\", \"30s\", \"30s\", \"30s\", \"30s\", \"30s\", \"30s\", \"30s\", \"30s\", \"30s\", \"30s\", \"30s\", \"30s\", \"30s\", \"30s\", \"30s\", \"30s\", \"30s\", \"30s\", \"30s\", \"30s\", \"40s\", \"40s\", \"40s\", \"40s\", \"40s\", \"40s\", \"40s\", \"40s\", \"40s\", \"40s\", \"40s\", \"40s\", \"40s\", \"40s\", \"40s\", \"40s\", \"40s\", \"40s\", \"40s\", \"40s\", \"40s\", \"40s\", \"40s\", \"40s\", \"40s\", \"40s\", \"40s\", \"40s\", \"40s\", \"40s\", \"40s\", \"40s\", \"40s\", \"40s\", \"40s\", \"40s\", \"40s\", \"40s\", \"40s\", \"40s\", \"40s\", \"40s\", \"40s\", \"40s\", \"40s\", \"40s\", \"40s\", \"40s\", \"40s\", \"40s\", \"40s\", \"40s\", \"40s\", \"40s\", \"40s\", \"40s\", \"40s\", \"40s\", \"40s\", \"40s\", \"40s\", \"40s\", \"40s\", \"40s\", \"40s\", \"40s\", \"40s\", \"40s\", \"40s\", \"40s\", \"40s\", \"40s\", \"40s\", \"40s\", \"40s\", \"40s\", \"40s\", \"40s\", \"40s\", \"40s\", \"40s\", \"40s\", \"40s\", \"40s\", \"40s\", \"40s\", \"40s\", \"40s\", \"40s\", \"40s\", \"40s\", \"40s\", \"40s\", \"40s\", \"40s\", \"40s\", \"40s\", \"40s\", \"40s\", \"40s\", \"40s\", \"40s\", \"40s\", \"40s\", \"40s\", \"40s\", \"40s\", \"40s\", \"40s\", \"40s\", \"40s\", \"40s\", \"40s\", \"40s\", \"40s\", \"40s\", \"40s\", \"40s\", \"40s\", \"40s\", \"40s\", \"40s\", \"40s\", \"40s\", \"40s\", \"40s\", \"40s\", \"40s\", \"40s\", \"40s\", \"40s\", \"40s\", \"40s\", \"40s\", \"40s\", \"40s\", \"40s\", \"40s\", \"40s\", \"40s\", \"40s\", \"40s\", \"40s\", \"40s\", \"40s\", \"40s\", \"40s\", \"40s\", \"40s\", \"40s\", \"40s\", \"40s\", \"40s\", \"40s\", \"40s\", \"40s\", \"40s\", \"40s\", \"40s\", \"40s\", \"40s\", \"40s\", \"40s\", \"40s\", \"40s\", \"40s\", \"40s\", \"40s\", \"40s\", \"40s\", \"40s\", \"40s\", \"40s\", \"40s\", \"40s\", \"40s\", \"40s\", \"40s\", \"40s\", \"40s\", \"40s\", \"40s\", \"40s\", \"40s\", \"40s\", \"40s\", \"40s\", \"40s\", \"40s\", \"40s\", \"40s\", \"40s\", \"40s\", \"40s\", \"40s\", \"40s\", \"40s\", \"40s\", \"40s\", \"40s\", \"40s\", \"40s\", \"40s\", \"40s\", \"40s\", \"40s\", \"40s\", \"40s\", \"40s\", \"40s\", \"40s\", \"40s\", \"40s\", \"40s\", \"40s\", \"40s\", \"40s\", \"40s\", \"40s\", \"40s\", \"40s\", \"40s\", \"40s\", \"40s\", \"40s\", \"40s\", \"40s\", \"40s\", \"40s\", \"40s\", \"40s\", \"40s\", \"40s\", \"40s\", \"40s\", \"40s\", \"40s\", \"40s\", \"40s\", \"40s\", \"40s\", \"40s\", \"40s\", \"40s\", \"40s\", \"40s\", \"40s\", \"40s\", \"40s\", \"40s\", \"40s\", \"40s\", \"40s\", \"40s\", \"40s\", \"40s\", \"40s\", \"40s\", \"40s\", \"40s\", \"40s\", \"40s\", \"40s\", \"40s\", \"40s\", \"40s\", \"40s\", \"40s\", \"40s\", \"40s\", \"40s\", \"40s\", \"40s\", \"40s\", \"40s\", \"40s\", \"40s\", \"40s\", \"40s\", \"40s\", \"40s\", \"40s\", \"40s\", \"40s\", \"40s\", \"40s\", \"40s\", \"40s\", \"40s\", \"40s\", \"40s\", \"40s\", \"40s\", \"40s\", \"40s\", \"40s\", \"40s\", \"40s\", \"40s\", \"40s\", \"40s\", \"40s\", \"40s\", \"40s\", \"40s\", \"40s\", \"40s\", \"50s\", \"50s\", \"50s\", \"50s\", \"50s\", \"50s\", \"50s\", \"50s\", \"50s\", \"50s\", \"50s\", \"50s\", \"50s\", \"50s\", \"50s\", \"50s\", \"50s\", \"50s\", \"50s\", \"50s\", \"50s\", \"50s\", \"50s\", \"50s\", \"50s\", \"50s\", \"50s\", \"50s\", \"50s\", \"50s\", \"50s\", \"50s\", \"50s\", \"50s\", \"50s\", \"50s\", \"50s\", \"50s\", \"50s\", \"50s\", \"50s\", \"50s\", \"50s\", \"50s\", \"50s\", \"50s\", \"50s\", \"50s\", \"50s\", \"50s\", \"50s\", \"50s\", \"50s\", \"50s\", \"50s\", \"50s\", \"50s\", \"50s\", \"50s\", \"50s\", \"50s\", \"50s\", \"50s\", \"50s\", \"50s\", \"50s\", \"50s\", \"50s\", \"50s\", \"50s\", \"50s\", \"50s\", \"50s\", \"50s\", \"50s\", \"50s\", \"50s\", \"50s\", \"50s\", \"50s\", \"50s\", \"50s\", \"50s\", \"50s\", \"50s\", \"50s\", \"50s\", \"50s\", \"50s\", \"50s\", \"50s\", \"50s\", \"50s\", \"50s\", \"50s\", \"50s\", \"50s\", \"50s\", \"50s\", \"50s\", \"50s\", \"50s\", \"50s\", \"50s\", \"50s\", \"50s\", \"50s\", \"50s\", \"50s\", \"50s\", \"50s\", \"50s\", \"50s\", \"50s\", \"50s\", \"50s\", \"50s\", \"50s\", \"50s\", \"50s\", \"50s\", \"50s\", \"50s\", \"50s\", \"50s\", \"50s\", \"50s\", \"50s\", \"50s\", \"50s\", \"50s\", \"50s\", \"50s\", \"50s\", \"50s\", \"50s\", \"50s\", \"50s\", \"50s\", \"50s\", \"50s\", \"50s\", \"50s\", \"50s\", \"50s\", \"50s\", \"50s\", \"50s\", \"50s\", \"50s\", \"50s\", \"50s\", \"50s\", \"50s\", \"50s\", \"50s\", \"50s\", \"50s\", \"50s\", \"50s\", \"50s\", \"50s\", \"50s\", \"50s\", \"50s\", \"50s\", \"50s\", \"50s\", \"50s\", \"50s\", \"50s\", \"50s\", \"50s\", \"50s\", \"50s\", \"50s\", \"50s\", \"50s\", \"50s\", \"50s\", \"50s\", \"50s\", \"50s\", \"50s\", \"50s\", \"50s\", \"50s\", \"50s\", \"50s\", \"50s\", \"50s\", \"50s\", \"50s\", \"50s\", \"50s\", \"50s\", \"50s\", \"50s\", \"50s\", \"50s\", \"50s\", \"50s\", \"50s\", \"50s\", \"50s\", \"50s\", \"50s\", \"50s\", \"50s\", \"50s\", \"50s\", \"50s\", \"50s\", \"50s\", \"50s\", \"50s\", \"50s\", \"50s\", \"50s\", \"50s\", \"50s\", \"50s\", \"50s\", \"50s\", \"50s\", \"50s\", \"50s\", \"50s\", \"50s\", \"50s\", \"50s\", \"50s\", \"50s\", \"50s\", \"50s\", \"50s\", \"50s\", \"50s\", \"50s\", \"50s\", \"50s\", \"50s\", \"50s\", \"50s\", \"50s\", \"50s\", \"50s\", \"50s\", \"50s\", \"50s\", \"50s\", \"50s\", \"50s\", \"50s\", \"50s\", \"50s\", \"50s\", \"50s\", \"50s\", \"50s\", \"50s\", \"50s\", \"50s\", \"50s\", \"50s\", \"50s\", \"50s\", \"50s\", \"50s\", \"50s\", \"50s\", \"50s\", \"50s\", \"50s\", \"50s\", \"50s\", \"50s\", \"50s\", \"50s\", \"50s\", \"50s\", \"50s\", \"50s\", \"50s\", \"50s\", \"50s\", \"50s\", \"50s\", \"50s\", \"50s\", \"50s\", \"50s\", \"50s\", \"50s\", \"50s\", \"50s\", \"50s\", \"50s\", \"50s\", \"50s\", \"50s\", \"50s\", \"50s\", \"50s\", \"50s\", \"50s\", \"50s\", \"50s\", \"50s\", \"50s\", \"50s\", \"50s\", \"50s\", \"50s\", \"50s\", \"50s\", \"50s\", \"50s\", \"50s\", \"50s\", \"50s\", \"50s\", \"50s\", \"50s\", \"50s\", \"50s\", \"50s\", \"50s\", \"50s\", \"50s\", \"50s\", \"50s\", \"50s\", \"50s\", \"50s\", \"50s\", \"50s\", \"50s\", \"50s\", \"50s\", \"50s\", \"50s\", \"50s\", \"50s\", \"50s\", \"50s\", \"50s\", \"50s\", \"50s\", \"50s\", \"50s\", \"50s\", \"50s\", \"50s\", \"50s\", \"50s\", \"50s\", \"50s\", \"50s\", \"50s\", \"50s\", \"50s\", \"50s\", \"50s\", \"50s\", \"50s\", \"50s\", \"50s\", \"50s\", \"50s\", \"50s\", \"50s\", \"50s\", \"50s\", \"50s\", \"50s\", \"50s\", \"50s\", \"50s\", \"50s\", \"50s\", \"50s\", \"50s\", \"50s\", \"50s\", \"50s\", \"50s\", \"50s\", \"50s\", \"50s\", \"50s\", \"50s\", \"50s\", \"50s\", \"50s\", \"50s\", \"50s\", \"50s\", \"50s\", \"50s\", \"50s\", \"50s\", \"50s\", \"50s\", \"60s\", \"60s\", \"60s\", \"60s\", \"60s\", \"60s\", \"60s\", \"60s\", \"60s\", \"60s\", \"60s\", \"60s\", \"60s\", \"60s\", \"60s\", \"60s\", \"60s\", \"60s\", \"60s\", \"60s\", \"60s\", \"60s\", \"60s\", \"60s\", \"60s\", \"60s\", \"60s\", \"60s\", \"60s\", \"60s\", \"60s\", \"60s\", \"60s\", \"60s\", \"60s\", \"60s\", \"60s\", \"60s\", \"60s\", \"60s\", \"60s\", \"60s\", \"60s\", \"60s\", \"60s\", \"60s\", \"60s\", \"60s\", \"60s\", \"60s\", \"60s\", \"60s\", \"60s\", \"60s\", \"60s\", \"60s\", \"60s\", \"60s\", \"60s\", \"60s\", \"60s\", \"60s\", \"60s\", \"60s\", \"60s\", \"60s\", \"60s\", \"60s\", \"60s\", \"60s\", \"60s\", \"60s\", \"60s\", \"60s\", \"60s\", \"60s\", \"60s\", \"60s\", \"60s\", \"60s\", \"60s\", \"60s\", \"60s\", \"60s\", \"60s\", \"60s\", \"60s\", \"60s\", \"60s\", \"60s\", \"60s\", \"60s\", \"60s\", \"60s\", \"60s\", \"60s\", \"60s\", \"60s\", \"60s\", \"60s\", \"60s\", \"60s\", \"60s\", \"60s\", \"60s\", \"60s\", \"60s\", \"60s\", \"60s\", \"60s\", \"60s\", \"60s\", \"60s\", \"60s\", \"60s\", \"60s\", \"60s\", \"60s\", \"60s\", \"60s\", \"60s\", \"60s\", \"60s\", \"60s\", \"60s\", \"60s\", \"60s\", \"60s\", \"60s\", \"60s\", \"60s\", \"60s\", \"60s\", \"60s\", \"60s\", \"60s\", \"60s\", \"60s\", \"60s\", \"60s\", \"60s\", \"60s\", \"60s\", \"60s\", \"60s\", \"60s\", \"60s\", \"60s\", \"60s\", \"60s\", \"60s\", \"60s\", \"60s\", \"60s\", \"60s\", \"60s\", \"60s\", \"60s\", \"60s\", \"60s\", \"60s\", \"60s\", \"60s\", \"60s\", \"60s\", \"60s\", \"60s\", \"60s\", \"60s\", \"60s\", \"60s\", \"60s\", \"60s\", \"60s\", \"60s\", \"60s\", \"60s\", \"60s\", \"60s\", \"60s\", \"60s\", \"60s\", \"60s\", \"60s\", \"60s\", \"60s\", \"60s\", \"60s\", \"60s\", \"60s\", \"60s\", \"60s\", \"60s\", \"60s\", \"60s\", \"60s\", \"60s\", \"60s\", \"60s\", \"60s\", \"60s\", \"60s\", \"60s\", \"60s\", \"60s\", \"60s\", \"60s\", \"60s\", \"60s\", \"60s\", \"60s\", \"60s\", \"60s\", \"60s\", \"60s\", \"60s\", \"60s\", \"60s\", \"60s\", \"60s\", \"60s\", \"60s\", \"60s\", \"60s\", \"60s\", \"60s\", \"60s\", \"60s\", \"60s\", \"60s\", \"60s\", \"60s\", \"60s\", \"60s\", \"60s\", \"60s\", \"60s\", \"60s\", \"60s\", \"60s\", \"60s\", \"60s\", \"60s\", \"60s\", \"60s\", \"60s\", \"60s\", \"60s\", \"60s\", \"60s\", \"60s\", \"60s\", \"60s\", \"60s\", \"60s\", \"60s\", \"60s\", \"60s\", \"60s\", \"60s\", \"60s\", \"60s\", \"60s\", \"60s\", \"60s\", \"60s\", \"60s\", \"60s\", \"60s\", \"60s\", \"70s\", \"70s\", \"70s\", \"70s\", \"70s\", \"70s\", \"70s\", \"70s\", \"70s\", \"70s\", \"70s\", \"70s\", \"70s\", \"70s\", \"70s\", \"70s\", \"70s\", \"70s\", \"70s\", \"70s\", \"70s\", \"70s\", \"70s\", \"70s\", \"70s\", \"70s\", \"70s\", \"70s\", \"70s\", \"70s\", \"70s\", \"70s\", \"70s\", \"70s\", \"70s\", \"70s\", \"70s\", \"70s\", \"70s\", \"70s\", \"70s\", \"70s\", \"70s\", \"70s\", \"70s\", \"70s\", \"70s\", \"70s\", \"70s\", \"70s\", \"70s\", \"70s\", \"70s\", \"70s\", \"70s\", \"70s\", \"70s\", \"70s\", \"70s\", \"70s\", \"70s\", \"70s\", \"70s\", \"70s\", \"70s\", \"70s\", \"70s\", \"70s\", \"70s\", \"70s\", \"70s\", \"70s\", \"70s\", \"70s\", \"70s\", \"70s\", \"70s\", \"70s\", \"70s\", \"70s\", \"70s\", \"70s\", \"70s\", \"70s\", \"70s\", \"70s\", \"70s\", \"70s\", \"70s\", \"70s\", \"70s\", \"70s\", \"70s\", \"70s\", \"70s\", \"70s\", \"70s\", \"70s\", \"70s\", \"70s\", \"70s\", \"70s\", \"70s\", \"70s\", \"70s\", \"70s\", \"70s\", \"70s\", \"70s\", \"70s\", \"70s\", \"70s\", \"70s\", \"70s\", \"70s\", \"70s\", \"70s\", \"70s\", \"70s\", \"70s\", \"70s\", \"70s\", \"70s\", \"70s\", \"70s\", \"70s\", \"70s\", \"70s\", \"70s\", \"70s\", \"70s\", \"70s\", \"70s\", \"70s\", \"70s\", \"70s\", \"70s\", \"70s\", \"70s\", \"70s\", \"70s\", \"70s\", \"70s\", \"70s\", \"80s\", \"80s\", \"80s\", \"80s\", \"80s\", \"80s\", \"80s\", \"80s\", \"80s\", \"80s\", \"80s\", \"80s\", \"80s\", \"80s\", \"80s\", \"80s\", \"80s\", \"80s\", \"80s\", \"80s\", \"80s\", \"80s\", \"80s\", \"80s\", \"80s\", \"80s\", \"80s\", \"80s\", \"80s\", \"80s\", \"80s\", \"80s\", \"80s\", \"80s\", \"80s\", \"80s\", \"80s\", \"80s\", \"80s\", \"80s\", \"80s\", \"80s\", \"80s\", \"80s\", \"80s\", \"80s\", \"80s\", \"80s\", \"80s\", \"80s\", \"80s\", \"80s\", \"80s\", \"80s\", \"80s\", \"80s\", \"80s\", \"80s\", \"80s\", \"80s\", \"80s\", \"80s\", \"80s\", \"80s\", \"80s\", \"80s\", \"80s\", \"80s\", \"80s\", \"80s\", \"80s\", \"80s\", \"80s\", \"80s\", \"80s\", \"80s\", \"80s\", \"80s\", \"80s\", \"80s\", \"80s\", \"80s\", \"80s\", \"80s\", \"80s\", \"80s\", \"80s\", \"80s\", \"80s\", \"80s\", \"80s\", \"80s\", \"80s\", \"80s\", \"80s\", \"80s\", \"80s\", \"80s\", \"80s\", \"80s\", \"80s\", \"80s\", \"80s\", \"80s\", \"80s\", \"80s\", \"80s\", \"80s\", \"80s\", \"80s\", \"80s\", \"80s\", \"80s\", \"80s\", \"90s\", \"90s\", \"90s\", \"90s\", \"90s\", \"90s\", \"90s\", \"90s\", \"90s\", \"90s\", \"90s\", \"90s\", \"90s\", \"90s\", \"90s\", \"90s\", \"90s\", \"90s\", \"90s\", \"90s\", \"90s\", \"90s\", \"90s\", \"90s\", \"90s\", \"90s\", \"90s\", \"90s\", \"90s\", \"90s\", \"90s\", \"90s\", \"90s\"], \"xaxis\": \"x2\", \"yaxis\": \"y2\"}],\n",
              "                        {\"barmode\": \"stack\", \"legend\": {\"tracegroupgap\": 0}, \"margin\": {\"t\": 60}, \"template\": {\"data\": {\"bar\": [{\"error_x\": {\"color\": \"#f2f5fa\"}, \"error_y\": {\"color\": \"#f2f5fa\"}, \"marker\": {\"line\": {\"color\": \"rgb(17,17,17)\", \"width\": 0.5}}, \"type\": \"bar\"}], \"barpolar\": [{\"marker\": {\"line\": {\"color\": \"rgb(17,17,17)\", \"width\": 0.5}}, \"type\": \"barpolar\"}], \"carpet\": [{\"aaxis\": {\"endlinecolor\": \"#A2B1C6\", \"gridcolor\": \"#506784\", \"linecolor\": \"#506784\", \"minorgridcolor\": \"#506784\", \"startlinecolor\": \"#A2B1C6\"}, \"baxis\": {\"endlinecolor\": \"#A2B1C6\", \"gridcolor\": \"#506784\", \"linecolor\": \"#506784\", \"minorgridcolor\": \"#506784\", \"startlinecolor\": \"#A2B1C6\"}, \"type\": \"carpet\"}], \"choropleth\": [{\"colorbar\": {\"outlinewidth\": 0, \"ticks\": \"\"}, \"type\": \"choropleth\"}], \"contour\": [{\"colorbar\": {\"outlinewidth\": 0, \"ticks\": \"\"}, \"colorscale\": [[0.0, \"#0d0887\"], [0.1111111111111111, \"#46039f\"], [0.2222222222222222, \"#7201a8\"], [0.3333333333333333, \"#9c179e\"], [0.4444444444444444, \"#bd3786\"], [0.5555555555555556, \"#d8576b\"], [0.6666666666666666, \"#ed7953\"], [0.7777777777777778, \"#fb9f3a\"], [0.8888888888888888, \"#fdca26\"], [1.0, \"#f0f921\"]], \"type\": \"contour\"}], \"contourcarpet\": [{\"colorbar\": {\"outlinewidth\": 0, \"ticks\": \"\"}, \"type\": \"contourcarpet\"}], \"heatmap\": [{\"colorbar\": {\"outlinewidth\": 0, \"ticks\": \"\"}, \"colorscale\": [[0.0, \"#0d0887\"], [0.1111111111111111, \"#46039f\"], [0.2222222222222222, \"#7201a8\"], [0.3333333333333333, \"#9c179e\"], [0.4444444444444444, \"#bd3786\"], [0.5555555555555556, \"#d8576b\"], [0.6666666666666666, \"#ed7953\"], [0.7777777777777778, \"#fb9f3a\"], [0.8888888888888888, \"#fdca26\"], [1.0, \"#f0f921\"]], \"type\": \"heatmap\"}], \"heatmapgl\": [{\"colorbar\": {\"outlinewidth\": 0, \"ticks\": \"\"}, \"colorscale\": [[0.0, \"#0d0887\"], [0.1111111111111111, \"#46039f\"], [0.2222222222222222, \"#7201a8\"], [0.3333333333333333, \"#9c179e\"], [0.4444444444444444, \"#bd3786\"], [0.5555555555555556, \"#d8576b\"], [0.6666666666666666, \"#ed7953\"], [0.7777777777777778, \"#fb9f3a\"], [0.8888888888888888, \"#fdca26\"], [1.0, \"#f0f921\"]], \"type\": \"heatmapgl\"}], \"histogram\": [{\"marker\": {\"colorbar\": {\"outlinewidth\": 0, \"ticks\": \"\"}}, \"type\": \"histogram\"}], \"histogram2d\": [{\"colorbar\": {\"outlinewidth\": 0, \"ticks\": \"\"}, \"colorscale\": [[0.0, \"#0d0887\"], [0.1111111111111111, \"#46039f\"], [0.2222222222222222, \"#7201a8\"], [0.3333333333333333, \"#9c179e\"], [0.4444444444444444, \"#bd3786\"], [0.5555555555555556, \"#d8576b\"], [0.6666666666666666, \"#ed7953\"], [0.7777777777777778, \"#fb9f3a\"], [0.8888888888888888, \"#fdca26\"], [1.0, \"#f0f921\"]], \"type\": \"histogram2d\"}], \"histogram2dcontour\": [{\"colorbar\": {\"outlinewidth\": 0, \"ticks\": \"\"}, \"colorscale\": [[0.0, \"#0d0887\"], [0.1111111111111111, \"#46039f\"], [0.2222222222222222, \"#7201a8\"], [0.3333333333333333, \"#9c179e\"], [0.4444444444444444, \"#bd3786\"], [0.5555555555555556, \"#d8576b\"], [0.6666666666666666, \"#ed7953\"], [0.7777777777777778, \"#fb9f3a\"], [0.8888888888888888, \"#fdca26\"], [1.0, \"#f0f921\"]], \"type\": \"histogram2dcontour\"}], \"mesh3d\": [{\"colorbar\": {\"outlinewidth\": 0, \"ticks\": \"\"}, \"type\": \"mesh3d\"}], \"parcoords\": [{\"line\": {\"colorbar\": {\"outlinewidth\": 0, \"ticks\": \"\"}}, \"type\": \"parcoords\"}], \"pie\": [{\"automargin\": true, \"type\": \"pie\"}], \"scatter\": [{\"marker\": {\"line\": {\"color\": \"#283442\"}}, \"type\": \"scatter\"}], \"scatter3d\": [{\"line\": {\"colorbar\": {\"outlinewidth\": 0, \"ticks\": \"\"}}, \"marker\": {\"colorbar\": {\"outlinewidth\": 0, \"ticks\": \"\"}}, \"type\": \"scatter3d\"}], \"scattercarpet\": [{\"marker\": {\"colorbar\": {\"outlinewidth\": 0, \"ticks\": \"\"}}, \"type\": \"scattercarpet\"}], \"scattergeo\": [{\"marker\": {\"colorbar\": {\"outlinewidth\": 0, \"ticks\": \"\"}}, \"type\": \"scattergeo\"}], \"scattergl\": [{\"marker\": {\"line\": {\"color\": \"#283442\"}}, \"type\": \"scattergl\"}], \"scattermapbox\": [{\"marker\": {\"colorbar\": {\"outlinewidth\": 0, \"ticks\": \"\"}}, \"type\": \"scattermapbox\"}], \"scatterpolar\": [{\"marker\": {\"colorbar\": {\"outlinewidth\": 0, \"ticks\": \"\"}}, \"type\": \"scatterpolar\"}], \"scatterpolargl\": [{\"marker\": {\"colorbar\": {\"outlinewidth\": 0, \"ticks\": \"\"}}, \"type\": \"scatterpolargl\"}], \"scatterternary\": [{\"marker\": {\"colorbar\": {\"outlinewidth\": 0, \"ticks\": \"\"}}, \"type\": \"scatterternary\"}], \"surface\": [{\"colorbar\": {\"outlinewidth\": 0, \"ticks\": \"\"}, \"colorscale\": [[0.0, \"#0d0887\"], [0.1111111111111111, \"#46039f\"], [0.2222222222222222, \"#7201a8\"], [0.3333333333333333, \"#9c179e\"], [0.4444444444444444, \"#bd3786\"], [0.5555555555555556, \"#d8576b\"], [0.6666666666666666, \"#ed7953\"], [0.7777777777777778, \"#fb9f3a\"], [0.8888888888888888, \"#fdca26\"], [1.0, \"#f0f921\"]], \"type\": \"surface\"}], \"table\": [{\"cells\": {\"fill\": {\"color\": \"#506784\"}, \"line\": {\"color\": \"rgb(17,17,17)\"}}, \"header\": {\"fill\": {\"color\": \"#2a3f5f\"}, \"line\": {\"color\": \"rgb(17,17,17)\"}}, \"type\": \"table\"}]}, \"layout\": {\"annotationdefaults\": {\"arrowcolor\": \"#f2f5fa\", \"arrowhead\": 0, \"arrowwidth\": 1}, \"coloraxis\": {\"colorbar\": {\"outlinewidth\": 0, \"ticks\": \"\"}}, \"colorscale\": {\"diverging\": [[0, \"#8e0152\"], [0.1, \"#c51b7d\"], [0.2, \"#de77ae\"], [0.3, \"#f1b6da\"], [0.4, \"#fde0ef\"], [0.5, \"#f7f7f7\"], [0.6, \"#e6f5d0\"], [0.7, \"#b8e186\"], [0.8, \"#7fbc41\"], [0.9, \"#4d9221\"], [1, \"#276419\"]], \"sequential\": [[0.0, \"#0d0887\"], [0.1111111111111111, \"#46039f\"], [0.2222222222222222, \"#7201a8\"], [0.3333333333333333, \"#9c179e\"], [0.4444444444444444, \"#bd3786\"], [0.5555555555555556, \"#d8576b\"], [0.6666666666666666, \"#ed7953\"], [0.7777777777777778, \"#fb9f3a\"], [0.8888888888888888, \"#fdca26\"], [1.0, \"#f0f921\"]], \"sequentialminus\": [[0.0, \"#0d0887\"], [0.1111111111111111, \"#46039f\"], [0.2222222222222222, \"#7201a8\"], [0.3333333333333333, \"#9c179e\"], [0.4444444444444444, \"#bd3786\"], [0.5555555555555556, \"#d8576b\"], [0.6666666666666666, \"#ed7953\"], [0.7777777777777778, \"#fb9f3a\"], [0.8888888888888888, \"#fdca26\"], [1.0, \"#f0f921\"]]}, \"colorway\": [\"#636efa\", \"#EF553B\", \"#00cc96\", \"#ab63fa\", \"#FFA15A\", \"#19d3f3\", \"#FF6692\", \"#B6E880\", \"#FF97FF\", \"#FECB52\"], \"font\": {\"color\": \"#f2f5fa\"}, \"geo\": {\"bgcolor\": \"rgb(17,17,17)\", \"lakecolor\": \"rgb(17,17,17)\", \"landcolor\": \"rgb(17,17,17)\", \"showlakes\": true, \"showland\": true, \"subunitcolor\": \"#506784\"}, \"hoverlabel\": {\"align\": \"left\"}, \"hovermode\": \"closest\", \"mapbox\": {\"style\": \"dark\"}, \"paper_bgcolor\": \"rgb(17,17,17)\", \"plot_bgcolor\": \"rgb(17,17,17)\", \"polar\": {\"angularaxis\": {\"gridcolor\": \"#506784\", \"linecolor\": \"#506784\", \"ticks\": \"\"}, \"bgcolor\": \"rgb(17,17,17)\", \"radialaxis\": {\"gridcolor\": \"#506784\", \"linecolor\": \"#506784\", \"ticks\": \"\"}}, \"scene\": {\"xaxis\": {\"backgroundcolor\": \"rgb(17,17,17)\", \"gridcolor\": \"#506784\", \"gridwidth\": 2, \"linecolor\": \"#506784\", \"showbackground\": true, \"ticks\": \"\", \"zerolinecolor\": \"#C8D4E3\"}, \"yaxis\": {\"backgroundcolor\": \"rgb(17,17,17)\", \"gridcolor\": \"#506784\", \"gridwidth\": 2, \"linecolor\": \"#506784\", \"showbackground\": true, \"ticks\": \"\", \"zerolinecolor\": \"#C8D4E3\"}, \"zaxis\": {\"backgroundcolor\": \"rgb(17,17,17)\", \"gridcolor\": \"#506784\", \"gridwidth\": 2, \"linecolor\": \"#506784\", \"showbackground\": true, \"ticks\": \"\", \"zerolinecolor\": \"#C8D4E3\"}}, \"shapedefaults\": {\"line\": {\"color\": \"#f2f5fa\"}}, \"sliderdefaults\": {\"bgcolor\": \"#C8D4E3\", \"bordercolor\": \"rgb(17,17,17)\", \"borderwidth\": 1, \"tickwidth\": 0}, \"ternary\": {\"aaxis\": {\"gridcolor\": \"#506784\", \"linecolor\": \"#506784\", \"ticks\": \"\"}, \"baxis\": {\"gridcolor\": \"#506784\", \"linecolor\": \"#506784\", \"ticks\": \"\"}, \"bgcolor\": \"rgb(17,17,17)\", \"caxis\": {\"gridcolor\": \"#506784\", \"linecolor\": \"#506784\", \"ticks\": \"\"}}, \"title\": {\"x\": 0.05}, \"updatemenudefaults\": {\"bgcolor\": \"#506784\", \"borderwidth\": 0}, \"xaxis\": {\"automargin\": true, \"gridcolor\": \"#283442\", \"linecolor\": \"#506784\", \"ticks\": \"\", \"title\": {\"standoff\": 15}, \"zerolinecolor\": \"#283442\", \"zerolinewidth\": 2}, \"yaxis\": {\"automargin\": true, \"gridcolor\": \"#283442\", \"linecolor\": \"#506784\", \"ticks\": \"\", \"title\": {\"standoff\": 15}, \"zerolinecolor\": \"#283442\", \"zerolinewidth\": 2}}}, \"xaxis\": {\"anchor\": \"y\", \"domain\": [0.0, 1.0], \"title\": {\"text\": \"age\"}}, \"xaxis2\": {\"anchor\": \"y2\", \"domain\": [0.0, 1.0], \"matches\": \"x\", \"showgrid\": true, \"showticklabels\": false}, \"yaxis\": {\"anchor\": \"x\", \"domain\": [0.0, 0.7326], \"title\": {\"text\": \"count\"}}, \"yaxis2\": {\"anchor\": \"x2\", \"domain\": [0.7426, 1.0], \"matches\": \"y2\", \"showgrid\": false, \"showline\": false, \"showticklabels\": false, \"ticks\": \"\"}},\n",
              "                        {\"responsive\": true}\n",
              "                    ).then(function(){\n",
              "                            \n",
              "var gd = document.getElementById('c149c5d7-336f-400b-bf27-f711fea8ff9d');\n",
              "var x = new MutationObserver(function (mutations, observer) {{\n",
              "        var display = window.getComputedStyle(gd).display;\n",
              "        if (!display || display === 'none') {{\n",
              "            console.log([gd, 'removed!']);\n",
              "            Plotly.purge(gd);\n",
              "            observer.disconnect();\n",
              "        }}\n",
              "}});\n",
              "\n",
              "// Listen for the removal of the full notebook cells\n",
              "var notebookContainer = gd.closest('#notebook-container');\n",
              "if (notebookContainer) {{\n",
              "    x.observe(notebookContainer, {childList: true});\n",
              "}}\n",
              "\n",
              "// Listen for the clearing of the current output cell\n",
              "var outputEl = gd.closest('.output');\n",
              "if (outputEl) {{\n",
              "    x.observe(outputEl, {childList: true});\n",
              "}}\n",
              "\n",
              "                        })\n",
              "                };\n",
              "                \n",
              "            </script>\n",
              "        </div>\n",
              "</body>\n",
              "</html>"
            ]
          },
          "metadata": {
            "tags": []
          }
        }
      ]
    },
    {
      "cell_type": "markdown",
      "metadata": {
        "id": "RIjjjr834dbo",
        "colab_type": "text"
      },
      "source": [
        "위 barplot을 확인하면 20대의 확진자 비율이 가장 높음을 확인할 수 있다. 이는 20대가 10대보다 비교적 활동하는 반경이 없고 30대보다 비교적 여유시간을 더 가진다는 점에서 나온 결과임을 알 수가 있다. "
      ]
    },
    {
      "cell_type": "markdown",
      "metadata": {
        "id": "LwCweQC741ob",
        "colab_type": "text"
      },
      "source": [
        "# 2. 연령별 누적 확진자 및 사망자 분석 "
      ]
    },
    {
      "cell_type": "code",
      "metadata": {
        "id": "vbk6lU_o4aX-",
        "colab_type": "code",
        "colab": {
          "base_uri": "https://localhost:8080/",
          "height": 198
        },
        "outputId": "9595c33a-447c-45bf-cd1a-209236e8217d"
      },
      "source": [
        "# 데이터 불러오기 : covid_TimeAge.csv\n",
        "covid_TimeAge = pd.read_csv('TimeAge.csv')\n",
        "\n",
        "# 컬럼명 변경 : 테이블 정의서 참고\n",
        "covid_TimeAge.columns = ['날짜','시간','환자의 나이','누적 확진자 수','누적 사망자 수']\n",
        "\n",
        "# 불필요한 컬럼 제거\n",
        "covid_TimeAge.drop(['시간'], axis=1, inplace=True)\n",
        "\n",
        "covid_TimeAge.head()"
      ],
      "execution_count": 16,
      "outputs": [
        {
          "output_type": "execute_result",
          "data": {
            "text/html": [
              "<div>\n",
              "<style scoped>\n",
              "    .dataframe tbody tr th:only-of-type {\n",
              "        vertical-align: middle;\n",
              "    }\n",
              "\n",
              "    .dataframe tbody tr th {\n",
              "        vertical-align: top;\n",
              "    }\n",
              "\n",
              "    .dataframe thead th {\n",
              "        text-align: right;\n",
              "    }\n",
              "</style>\n",
              "<table border=\"1\" class=\"dataframe\">\n",
              "  <thead>\n",
              "    <tr style=\"text-align: right;\">\n",
              "      <th></th>\n",
              "      <th>날짜</th>\n",
              "      <th>환자의 나이</th>\n",
              "      <th>누적 확진자 수</th>\n",
              "      <th>누적 사망자 수</th>\n",
              "    </tr>\n",
              "  </thead>\n",
              "  <tbody>\n",
              "    <tr>\n",
              "      <th>0</th>\n",
              "      <td>2020-03-02</td>\n",
              "      <td>0s</td>\n",
              "      <td>32</td>\n",
              "      <td>0</td>\n",
              "    </tr>\n",
              "    <tr>\n",
              "      <th>1</th>\n",
              "      <td>2020-03-02</td>\n",
              "      <td>10s</td>\n",
              "      <td>169</td>\n",
              "      <td>0</td>\n",
              "    </tr>\n",
              "    <tr>\n",
              "      <th>2</th>\n",
              "      <td>2020-03-02</td>\n",
              "      <td>20s</td>\n",
              "      <td>1235</td>\n",
              "      <td>0</td>\n",
              "    </tr>\n",
              "    <tr>\n",
              "      <th>3</th>\n",
              "      <td>2020-03-02</td>\n",
              "      <td>30s</td>\n",
              "      <td>506</td>\n",
              "      <td>1</td>\n",
              "    </tr>\n",
              "    <tr>\n",
              "      <th>4</th>\n",
              "      <td>2020-03-02</td>\n",
              "      <td>40s</td>\n",
              "      <td>633</td>\n",
              "      <td>1</td>\n",
              "    </tr>\n",
              "  </tbody>\n",
              "</table>\n",
              "</div>"
            ],
            "text/plain": [
              "           날짜 환자의 나이  누적 확진자 수  누적 사망자 수\n",
              "0  2020-03-02     0s        32         0\n",
              "1  2020-03-02    10s       169         0\n",
              "2  2020-03-02    20s      1235         0\n",
              "3  2020-03-02    30s       506         1\n",
              "4  2020-03-02    40s       633         1"
            ]
          },
          "metadata": {
            "tags": []
          },
          "execution_count": 16
        }
      ]
    },
    {
      "cell_type": "code",
      "metadata": {
        "id": "5squk2J359F8",
        "colab_type": "code",
        "colab": {
          "base_uri": "https://localhost:8080/",
          "height": 198
        },
        "outputId": "94b4b8e6-6ade-4abe-c205-3a1217bd921d"
      },
      "source": [
        "# 마지막 집계일(2020.06.30)만 추출\n",
        "total_0630 = covid_TimeAge[covid_TimeAge['날짜']=='2020-06-30']\n",
        "\n",
        "# 연령대별 치료일수 비교\n",
        "# 나이 중 숫자만 비교하기 위해 추출\n",
        "total_0630['나이_int'] = total_0630['환자의 나이'].apply(lambda x : x[:-1]).astype('int')\n",
        "\n",
        "## Age_Group 추가\n",
        "def age(x):\n",
        "    if x <= 10 : return '미성년자'\n",
        "    elif x <= 30: return '청년층'\n",
        "    elif x <= 50 : return '중년층'\n",
        "    else: return '고령층'\n",
        "        \n",
        "total_0630['연령층'] = total_0630['나이_int'].apply(age)\n",
        "\n",
        "# 컬럼 추가\n",
        "total_0630['누적 확진자 수 비율'] = round(total_0630['누적 확진자 수']/(total_0630['누적 확진자 수'].sum()) * 100,2)\n",
        "total_0630['누적 사망자 수 비율'] = round(total_0630['누적 사망자 수']/(total_0630['누적 사망자 수'].sum()) * 100,2)\n",
        "\n",
        "total_0630.head()"
      ],
      "execution_count": 17,
      "outputs": [
        {
          "output_type": "execute_result",
          "data": {
            "text/html": [
              "<div>\n",
              "<style scoped>\n",
              "    .dataframe tbody tr th:only-of-type {\n",
              "        vertical-align: middle;\n",
              "    }\n",
              "\n",
              "    .dataframe tbody tr th {\n",
              "        vertical-align: top;\n",
              "    }\n",
              "\n",
              "    .dataframe thead th {\n",
              "        text-align: right;\n",
              "    }\n",
              "</style>\n",
              "<table border=\"1\" class=\"dataframe\">\n",
              "  <thead>\n",
              "    <tr style=\"text-align: right;\">\n",
              "      <th></th>\n",
              "      <th>날짜</th>\n",
              "      <th>환자의 나이</th>\n",
              "      <th>누적 확진자 수</th>\n",
              "      <th>누적 사망자 수</th>\n",
              "      <th>나이_int</th>\n",
              "      <th>연령층</th>\n",
              "      <th>누적 확진자 수 비율</th>\n",
              "      <th>누적 사망자 수 비율</th>\n",
              "    </tr>\n",
              "  </thead>\n",
              "  <tbody>\n",
              "    <tr>\n",
              "      <th>1080</th>\n",
              "      <td>2020-06-30</td>\n",
              "      <td>0s</td>\n",
              "      <td>193</td>\n",
              "      <td>0</td>\n",
              "      <td>0</td>\n",
              "      <td>미성년자</td>\n",
              "      <td>1.51</td>\n",
              "      <td>0.00</td>\n",
              "    </tr>\n",
              "    <tr>\n",
              "      <th>1081</th>\n",
              "      <td>2020-06-30</td>\n",
              "      <td>10s</td>\n",
              "      <td>708</td>\n",
              "      <td>0</td>\n",
              "      <td>10</td>\n",
              "      <td>미성년자</td>\n",
              "      <td>5.53</td>\n",
              "      <td>0.00</td>\n",
              "    </tr>\n",
              "    <tr>\n",
              "      <th>1082</th>\n",
              "      <td>2020-06-30</td>\n",
              "      <td>20s</td>\n",
              "      <td>3362</td>\n",
              "      <td>0</td>\n",
              "      <td>20</td>\n",
              "      <td>청년층</td>\n",
              "      <td>26.27</td>\n",
              "      <td>0.00</td>\n",
              "    </tr>\n",
              "    <tr>\n",
              "      <th>1083</th>\n",
              "      <td>2020-06-30</td>\n",
              "      <td>30s</td>\n",
              "      <td>1496</td>\n",
              "      <td>2</td>\n",
              "      <td>30</td>\n",
              "      <td>청년층</td>\n",
              "      <td>11.69</td>\n",
              "      <td>0.71</td>\n",
              "    </tr>\n",
              "    <tr>\n",
              "      <th>1084</th>\n",
              "      <td>2020-06-30</td>\n",
              "      <td>40s</td>\n",
              "      <td>1681</td>\n",
              "      <td>3</td>\n",
              "      <td>40</td>\n",
              "      <td>중년층</td>\n",
              "      <td>13.13</td>\n",
              "      <td>1.06</td>\n",
              "    </tr>\n",
              "  </tbody>\n",
              "</table>\n",
              "</div>"
            ],
            "text/plain": [
              "              날짜 환자의 나이  누적 확진자 수  누적 사망자 수  나이_int   연령층  누적 확진자 수 비율  \\\n",
              "1080  2020-06-30     0s       193         0       0  미성년자         1.51   \n",
              "1081  2020-06-30    10s       708         0      10  미성년자         5.53   \n",
              "1082  2020-06-30    20s      3362         0      20   청년층        26.27   \n",
              "1083  2020-06-30    30s      1496         2      30   청년층        11.69   \n",
              "1084  2020-06-30    40s      1681         3      40   중년층        13.13   \n",
              "\n",
              "      누적 사망자 수 비율  \n",
              "1080         0.00  \n",
              "1081         0.00  \n",
              "1082         0.00  \n",
              "1083         0.71  \n",
              "1084         1.06  "
            ]
          },
          "metadata": {
            "tags": []
          },
          "execution_count": 17
        }
      ]
    },
    {
      "cell_type": "markdown",
      "metadata": {
        "id": "0wU7V5ct6DTB",
        "colab_type": "text"
      },
      "source": [
        "### 연령별 누적 확진자 수 및 누적 사망자수 "
      ]
    },
    {
      "cell_type": "code",
      "metadata": {
        "id": "e--kocYj5-H_",
        "colab_type": "code",
        "colab": {
          "base_uri": "https://localhost:8080/",
          "height": 542
        },
        "outputId": "f6751892-910e-4cbc-ffbd-754ad1e44d7b"
      },
      "source": [
        "# line charts : 연령별 누적 확진자 수 추이 그래프\n",
        "fig = px.bar(covid_TimeAge, x='날짜', y='누적 확진자 수', \n",
        "             color = \"환자의 나이\", color_discrete_sequence = px.colors.qualitative.Pastel)\n",
        "\n",
        "fig.update_layout(title='<b>연령별 누적 확진자 수 추이</b>', \n",
        "                  plot_bgcolor=\"#FFFFFF\",yaxis_gridcolor = '#D5D5D5')\n",
        "\n",
        "fig.show()"
      ],
      "execution_count": 18,
      "outputs": [
        {
          "output_type": "display_data",
          "data": {
            "text/html": [
              "<html>\n",
              "<head><meta charset=\"utf-8\" /></head>\n",
              "<body>\n",
              "    <div>\n",
              "            <script src=\"https://cdnjs.cloudflare.com/ajax/libs/mathjax/2.7.5/MathJax.js?config=TeX-AMS-MML_SVG\"></script><script type=\"text/javascript\">if (window.MathJax) {MathJax.Hub.Config({SVG: {font: \"STIX-Web\"}});}</script>\n",
              "                <script type=\"text/javascript\">window.PlotlyConfig = {MathJaxConfig: 'local'};</script>\n",
              "        <script src=\"https://cdn.plot.ly/plotly-latest.min.js\"></script>    \n",
              "            <div id=\"6e5e9c99-bad8-4328-8821-e500fdf702b2\" class=\"plotly-graph-div\" style=\"height:525px; width:100%;\"></div>\n",
              "            <script type=\"text/javascript\">\n",
              "                \n",
              "                    window.PLOTLYENV=window.PLOTLYENV || {};\n",
              "                    \n",
              "                if (document.getElementById(\"6e5e9c99-bad8-4328-8821-e500fdf702b2\")) {\n",
              "                    Plotly.newPlot(\n",
              "                        '6e5e9c99-bad8-4328-8821-e500fdf702b2',\n",
              "                        [{\"alignmentgroup\": \"True\", \"hoverlabel\": {\"namelength\": 0}, \"hovertemplate\": \"\\ud658\\uc790\\uc758 \\ub098\\uc774=0s<br>\\ub0a0\\uc9dc=%{x}<br>\\ub204\\uc801 \\ud655\\uc9c4\\uc790 \\uc218=%{y}\", \"legendgroup\": \"\\ud658\\uc790\\uc758 \\ub098\\uc774=0s\", \"marker\": {\"color\": \"rgb(102, 197, 204)\"}, \"name\": \"\\ud658\\uc790\\uc758 \\ub098\\uc774=0s\", \"offsetgroup\": \"\\ud658\\uc790\\uc758 \\ub098\\uc774=0s\", \"orientation\": \"v\", \"showlegend\": true, \"textposition\": \"auto\", \"type\": \"bar\", \"x\": [\"2020-03-02\", \"2020-03-03\", \"2020-03-04\", \"2020-03-05\", \"2020-03-06\", \"2020-03-07\", \"2020-03-08\", \"2020-03-09\", \"2020-03-10\", \"2020-03-11\", \"2020-03-12\", \"2020-03-13\", \"2020-03-14\", \"2020-03-15\", \"2020-03-16\", \"2020-03-17\", \"2020-03-18\", \"2020-03-19\", \"2020-03-20\", \"2020-03-21\", \"2020-03-22\", \"2020-03-23\", \"2020-03-24\", \"2020-03-25\", \"2020-03-26\", \"2020-03-27\", \"2020-03-28\", \"2020-03-29\", \"2020-03-30\", \"2020-03-31\", \"2020-04-01\", \"2020-04-02\", \"2020-04-03\", \"2020-04-04\", \"2020-04-05\", \"2020-04-06\", \"2020-04-07\", \"2020-04-08\", \"2020-04-09\", \"2020-04-10\", \"2020-04-11\", \"2020-04-12\", \"2020-04-13\", \"2020-04-14\", \"2020-04-15\", \"2020-04-16\", \"2020-04-17\", \"2020-04-18\", \"2020-04-19\", \"2020-04-20\", \"2020-04-21\", \"2020-04-22\", \"2020-04-23\", \"2020-04-24\", \"2020-04-25\", \"2020-04-26\", \"2020-04-27\", \"2020-04-28\", \"2020-04-29\", \"2020-04-30\", \"2020-05-01\", \"2020-05-02\", \"2020-05-03\", \"2020-05-04\", \"2020-05-05\", \"2020-05-06\", \"2020-05-07\", \"2020-05-08\", \"2020-05-09\", \"2020-05-10\", \"2020-05-11\", \"2020-05-12\", \"2020-05-13\", \"2020-05-14\", \"2020-05-15\", \"2020-05-16\", \"2020-05-17\", \"2020-05-18\", \"2020-05-19\", \"2020-05-20\", \"2020-05-21\", \"2020-05-22\", \"2020-05-23\", \"2020-05-24\", \"2020-05-25\", \"2020-05-26\", \"2020-05-27\", \"2020-05-28\", \"2020-05-29\", \"2020-05-30\", \"2020-05-31\", \"2020-06-01\", \"2020-06-02\", \"2020-06-03\", \"2020-06-04\", \"2020-06-05\", \"2020-06-06\", \"2020-06-07\", \"2020-06-08\", \"2020-06-09\", \"2020-06-10\", \"2020-06-11\", \"2020-06-12\", \"2020-06-13\", \"2020-06-14\", \"2020-06-15\", \"2020-06-16\", \"2020-06-17\", \"2020-06-18\", \"2020-06-19\", \"2020-06-20\", \"2020-06-21\", \"2020-06-22\", \"2020-06-23\", \"2020-06-24\", \"2020-06-25\", \"2020-06-26\", \"2020-06-27\", \"2020-06-28\", \"2020-06-29\", \"2020-06-30\"], \"xaxis\": \"x\", \"y\": [32, 34, 34, 38, 45, 52, 58, 66, 67, 75, 76, 77, 81, 83, 85, 86, 87, 91, 97, 99, 101, 103, 105, 105, 106, 108, 109, 111, 112, 112, 116, 119, 121, 122, 124, 126, 126, 126, 128, 129, 130, 130, 132, 132, 132, 135, 136, 138, 138, 138, 138, 138, 138, 138, 139, 140, 140, 140, 140, 140, 140, 140, 140, 140, 140, 140, 140, 141, 141, 141, 141, 142, 143, 143, 145, 147, 147, 147, 148, 148, 148, 149, 149, 149, 149, 150, 153, 155, 156, 157, 157, 158, 158, 159, 160, 161, 164, 165, 166, 166, 167, 168, 168, 168, 168, 170, 172, 174, 175, 175, 177, 177, 177, 180, 182, 183, 184, 185, 187, 190, 193], \"yaxis\": \"y\"}, {\"alignmentgroup\": \"True\", \"hoverlabel\": {\"namelength\": 0}, \"hovertemplate\": \"\\ud658\\uc790\\uc758 \\ub098\\uc774=10s<br>\\ub0a0\\uc9dc=%{x}<br>\\ub204\\uc801 \\ud655\\uc9c4\\uc790 \\uc218=%{y}\", \"legendgroup\": \"\\ud658\\uc790\\uc758 \\ub098\\uc774=10s\", \"marker\": {\"color\": \"rgb(246, 207, 113)\"}, \"name\": \"\\ud658\\uc790\\uc758 \\ub098\\uc774=10s\", \"offsetgroup\": \"\\ud658\\uc790\\uc758 \\ub098\\uc774=10s\", \"orientation\": \"v\", \"showlegend\": true, \"textposition\": \"auto\", \"type\": \"bar\", \"x\": [\"2020-03-02\", \"2020-03-03\", \"2020-03-04\", \"2020-03-05\", \"2020-03-06\", \"2020-03-07\", \"2020-03-08\", \"2020-03-09\", \"2020-03-10\", \"2020-03-11\", \"2020-03-12\", \"2020-03-13\", \"2020-03-14\", \"2020-03-15\", \"2020-03-16\", \"2020-03-17\", \"2020-03-18\", \"2020-03-19\", \"2020-03-20\", \"2020-03-21\", \"2020-03-22\", \"2020-03-23\", \"2020-03-24\", \"2020-03-25\", \"2020-03-26\", \"2020-03-27\", \"2020-03-28\", \"2020-03-29\", \"2020-03-30\", \"2020-03-31\", \"2020-04-01\", \"2020-04-02\", \"2020-04-03\", \"2020-04-04\", \"2020-04-05\", \"2020-04-06\", \"2020-04-07\", \"2020-04-08\", \"2020-04-09\", \"2020-04-10\", \"2020-04-11\", \"2020-04-12\", \"2020-04-13\", \"2020-04-14\", \"2020-04-15\", \"2020-04-16\", \"2020-04-17\", \"2020-04-18\", \"2020-04-19\", \"2020-04-20\", \"2020-04-21\", \"2020-04-22\", \"2020-04-23\", \"2020-04-24\", \"2020-04-25\", \"2020-04-26\", \"2020-04-27\", \"2020-04-28\", \"2020-04-29\", \"2020-04-30\", \"2020-05-01\", \"2020-05-02\", \"2020-05-03\", \"2020-05-04\", \"2020-05-05\", \"2020-05-06\", \"2020-05-07\", \"2020-05-08\", \"2020-05-09\", \"2020-05-10\", \"2020-05-11\", \"2020-05-12\", \"2020-05-13\", \"2020-05-14\", \"2020-05-15\", \"2020-05-16\", \"2020-05-17\", \"2020-05-18\", \"2020-05-19\", \"2020-05-20\", \"2020-05-21\", \"2020-05-22\", \"2020-05-23\", \"2020-05-24\", \"2020-05-25\", \"2020-05-26\", \"2020-05-27\", \"2020-05-28\", \"2020-05-29\", \"2020-05-30\", \"2020-05-31\", \"2020-06-01\", \"2020-06-02\", \"2020-06-03\", \"2020-06-04\", \"2020-06-05\", \"2020-06-06\", \"2020-06-07\", \"2020-06-08\", \"2020-06-09\", \"2020-06-10\", \"2020-06-11\", \"2020-06-12\", \"2020-06-13\", \"2020-06-14\", \"2020-06-15\", \"2020-06-16\", \"2020-06-17\", \"2020-06-18\", \"2020-06-19\", \"2020-06-20\", \"2020-06-21\", \"2020-06-22\", \"2020-06-23\", \"2020-06-24\", \"2020-06-25\", \"2020-06-26\", \"2020-06-27\", \"2020-06-28\", \"2020-06-29\", \"2020-06-30\"], \"xaxis\": \"x\", \"y\": [169, 204, 233, 257, 292, 327, 360, 381, 393, 405, 412, 421, 424, 427, 432, 436, 438, 444, 452, 457, 460, 460, 468, 475, 488, 496, 501, 508, 513, 515, 519, 522, 528, 530, 535, 542, 544, 548, 552, 553, 558, 561, 562, 565, 569, 572, 576, 576, 578, 581, 582, 583, 584, 585, 586, 586, 588, 590, 590, 590, 590, 590, 591, 591, 591, 591, 592, 592, 594, 597, 598, 602, 603, 614, 617, 619, 620, 621, 621, 627, 631, 633, 634, 636, 637, 638, 640, 644, 650, 655, 655, 657, 659, 661, 661, 663, 664, 670, 672, 672, 674, 677, 680, 681, 681, 681, 682, 683, 684, 686, 690, 691, 692, 692, 693, 696, 698, 700, 703, 704, 708], \"yaxis\": \"y\"}, {\"alignmentgroup\": \"True\", \"hoverlabel\": {\"namelength\": 0}, \"hovertemplate\": \"\\ud658\\uc790\\uc758 \\ub098\\uc774=20s<br>\\ub0a0\\uc9dc=%{x}<br>\\ub204\\uc801 \\ud655\\uc9c4\\uc790 \\uc218=%{y}\", \"legendgroup\": \"\\ud658\\uc790\\uc758 \\ub098\\uc774=20s\", \"marker\": {\"color\": \"rgb(248, 156, 116)\"}, \"name\": \"\\ud658\\uc790\\uc758 \\ub098\\uc774=20s\", \"offsetgroup\": \"\\ud658\\uc790\\uc758 \\ub098\\uc774=20s\", \"orientation\": \"v\", \"showlegend\": true, \"textposition\": \"auto\", \"type\": \"bar\", \"x\": [\"2020-03-02\", \"2020-03-03\", \"2020-03-04\", \"2020-03-05\", \"2020-03-06\", \"2020-03-07\", \"2020-03-08\", \"2020-03-09\", \"2020-03-10\", \"2020-03-11\", \"2020-03-12\", \"2020-03-13\", \"2020-03-14\", \"2020-03-15\", \"2020-03-16\", \"2020-03-17\", \"2020-03-18\", \"2020-03-19\", \"2020-03-20\", \"2020-03-21\", \"2020-03-22\", \"2020-03-23\", \"2020-03-24\", \"2020-03-25\", \"2020-03-26\", \"2020-03-27\", \"2020-03-28\", \"2020-03-29\", \"2020-03-30\", \"2020-03-31\", \"2020-04-01\", \"2020-04-02\", \"2020-04-03\", \"2020-04-04\", \"2020-04-05\", \"2020-04-06\", \"2020-04-07\", \"2020-04-08\", \"2020-04-09\", \"2020-04-10\", \"2020-04-11\", \"2020-04-12\", \"2020-04-13\", \"2020-04-14\", \"2020-04-15\", \"2020-04-16\", \"2020-04-17\", \"2020-04-18\", \"2020-04-19\", \"2020-04-20\", \"2020-04-21\", \"2020-04-22\", \"2020-04-23\", \"2020-04-24\", \"2020-04-25\", \"2020-04-26\", \"2020-04-27\", \"2020-04-28\", \"2020-04-29\", \"2020-04-30\", \"2020-05-01\", \"2020-05-02\", \"2020-05-03\", \"2020-05-04\", \"2020-05-05\", \"2020-05-06\", \"2020-05-07\", \"2020-05-08\", \"2020-05-09\", \"2020-05-10\", \"2020-05-11\", \"2020-05-12\", \"2020-05-13\", \"2020-05-14\", \"2020-05-15\", \"2020-05-16\", \"2020-05-17\", \"2020-05-18\", \"2020-05-19\", \"2020-05-20\", \"2020-05-21\", \"2020-05-22\", \"2020-05-23\", \"2020-05-24\", \"2020-05-25\", \"2020-05-26\", \"2020-05-27\", \"2020-05-28\", \"2020-05-29\", \"2020-05-30\", \"2020-05-31\", \"2020-06-01\", \"2020-06-02\", \"2020-06-03\", \"2020-06-04\", \"2020-06-05\", \"2020-06-06\", \"2020-06-07\", \"2020-06-08\", \"2020-06-09\", \"2020-06-10\", \"2020-06-11\", \"2020-06-12\", \"2020-06-13\", \"2020-06-14\", \"2020-06-15\", \"2020-06-16\", \"2020-06-17\", \"2020-06-18\", \"2020-06-19\", \"2020-06-20\", \"2020-06-21\", \"2020-06-22\", \"2020-06-23\", \"2020-06-24\", \"2020-06-25\", \"2020-06-26\", \"2020-06-27\", \"2020-06-28\", \"2020-06-29\", \"2020-06-30\"], \"xaxis\": \"x\", \"y\": [1235, 1417, 1575, 1727, 1877, 2038, 2133, 2190, 2213, 2238, 2261, 2274, 2287, 2301, 2313, 2330, 2342, 2358, 2365, 2380, 2396, 2417, 2438, 2473, 2508, 2532, 2567, 2602, 2630, 2656, 2682, 2704, 2734, 2761, 2789, 2804, 2819, 2832, 2844, 2851, 2856, 2869, 2879, 2886, 2895, 2900, 2909, 2918, 2921, 2926, 2928, 2931, 2933, 2934, 2937, 2940, 2943, 2948, 2951, 2952, 2957, 2960, 2962, 2964, 2964, 2964, 2966, 2967, 2979, 2998, 3019, 3029, 3042, 3056, 3066, 3074, 3079, 3082, 3087, 3100, 3103, 3111, 3113, 3117, 3120, 3123, 3131, 3146, 3158, 3167, 3176, 3178, 3183, 3188, 3193, 3198, 3200, 3203, 3208, 3211, 3217, 3223, 3234, 3243, 3251, 3256, 3259, 3267, 3277, 3285, 3294, 3299, 3302, 3306, 3309, 3309, 3317, 3331, 3343, 3352, 3362], \"yaxis\": \"y\"}, {\"alignmentgroup\": \"True\", \"hoverlabel\": {\"namelength\": 0}, \"hovertemplate\": \"\\ud658\\uc790\\uc758 \\ub098\\uc774=30s<br>\\ub0a0\\uc9dc=%{x}<br>\\ub204\\uc801 \\ud655\\uc9c4\\uc790 \\uc218=%{y}\", \"legendgroup\": \"\\ud658\\uc790\\uc758 \\ub098\\uc774=30s\", \"marker\": {\"color\": \"rgb(220, 176, 242)\"}, \"name\": \"\\ud658\\uc790\\uc758 \\ub098\\uc774=30s\", \"offsetgroup\": \"\\ud658\\uc790\\uc758 \\ub098\\uc774=30s\", \"orientation\": \"v\", \"showlegend\": true, \"textposition\": \"auto\", \"type\": \"bar\", \"x\": [\"2020-03-02\", \"2020-03-03\", \"2020-03-04\", \"2020-03-05\", \"2020-03-06\", \"2020-03-07\", \"2020-03-08\", \"2020-03-09\", \"2020-03-10\", \"2020-03-11\", \"2020-03-12\", \"2020-03-13\", \"2020-03-14\", \"2020-03-15\", \"2020-03-16\", \"2020-03-17\", \"2020-03-18\", \"2020-03-19\", \"2020-03-20\", \"2020-03-21\", \"2020-03-22\", \"2020-03-23\", \"2020-03-24\", \"2020-03-25\", \"2020-03-26\", \"2020-03-27\", \"2020-03-28\", \"2020-03-29\", \"2020-03-30\", \"2020-03-31\", \"2020-04-01\", \"2020-04-02\", \"2020-04-03\", \"2020-04-04\", \"2020-04-05\", \"2020-04-06\", \"2020-04-07\", \"2020-04-08\", \"2020-04-09\", \"2020-04-10\", \"2020-04-11\", \"2020-04-12\", \"2020-04-13\", \"2020-04-14\", \"2020-04-15\", \"2020-04-16\", \"2020-04-17\", \"2020-04-18\", \"2020-04-19\", \"2020-04-20\", \"2020-04-21\", \"2020-04-22\", \"2020-04-23\", \"2020-04-24\", \"2020-04-25\", \"2020-04-26\", \"2020-04-27\", \"2020-04-28\", \"2020-04-29\", \"2020-04-30\", \"2020-05-01\", \"2020-05-02\", \"2020-05-03\", \"2020-05-04\", \"2020-05-05\", \"2020-05-06\", \"2020-05-07\", \"2020-05-08\", \"2020-05-09\", \"2020-05-10\", \"2020-05-11\", \"2020-05-12\", \"2020-05-13\", \"2020-05-14\", \"2020-05-15\", \"2020-05-16\", \"2020-05-17\", \"2020-05-18\", \"2020-05-19\", \"2020-05-20\", \"2020-05-21\", \"2020-05-22\", \"2020-05-23\", \"2020-05-24\", \"2020-05-25\", \"2020-05-26\", \"2020-05-27\", \"2020-05-28\", \"2020-05-29\", \"2020-05-30\", \"2020-05-31\", \"2020-06-01\", \"2020-06-02\", \"2020-06-03\", \"2020-06-04\", \"2020-06-05\", \"2020-06-06\", \"2020-06-07\", \"2020-06-08\", \"2020-06-09\", \"2020-06-10\", \"2020-06-11\", \"2020-06-12\", \"2020-06-13\", \"2020-06-14\", \"2020-06-15\", \"2020-06-16\", \"2020-06-17\", \"2020-06-18\", \"2020-06-19\", \"2020-06-20\", \"2020-06-21\", \"2020-06-22\", \"2020-06-23\", \"2020-06-24\", \"2020-06-25\", \"2020-06-26\", \"2020-06-27\", \"2020-06-28\", \"2020-06-29\", \"2020-06-30\"], \"xaxis\": \"x\", \"y\": [506, 578, 631, 659, 693, 727, 760, 779, 789, 804, 812, 823, 833, 842, 849, 856, 873, 886, 893, 900, 909, 917, 921, 943, 955, 960, 978, 993, 1002, 1012, 1027, 1043, 1052, 1066, 1083, 1086, 1092, 1102, 1109, 1113, 1115, 1120, 1122, 1126, 1131, 1132, 1135, 1136, 1137, 1139, 1139, 1140, 1141, 1142, 1143, 1147, 1152, 1154, 1156, 1158, 1159, 1160, 1163, 1164, 1165, 1166, 1167, 1174, 1177, 1180, 1188, 1194, 1199, 1202, 1207, 1209, 1211, 1215, 1215, 1219, 1221, 1225, 1231, 1235, 1238, 1242, 1248, 1274, 1283, 1285, 1292, 1296, 1299, 1305, 1308, 1310, 1316, 1322, 1324, 1326, 1335, 1345, 1353, 1354, 1357, 1362, 1366, 1380, 1384, 1393, 1406, 1416, 1420, 1429, 1444, 1453, 1463, 1473, 1485, 1490, 1496], \"yaxis\": \"y\"}, {\"alignmentgroup\": \"True\", \"hoverlabel\": {\"namelength\": 0}, \"hovertemplate\": \"\\ud658\\uc790\\uc758 \\ub098\\uc774=40s<br>\\ub0a0\\uc9dc=%{x}<br>\\ub204\\uc801 \\ud655\\uc9c4\\uc790 \\uc218=%{y}\", \"legendgroup\": \"\\ud658\\uc790\\uc758 \\ub098\\uc774=40s\", \"marker\": {\"color\": \"rgb(135, 197, 95)\"}, \"name\": \"\\ud658\\uc790\\uc758 \\ub098\\uc774=40s\", \"offsetgroup\": \"\\ud658\\uc790\\uc758 \\ub098\\uc774=40s\", \"orientation\": \"v\", \"showlegend\": true, \"textposition\": \"auto\", \"type\": \"bar\", \"x\": [\"2020-03-02\", \"2020-03-03\", \"2020-03-04\", \"2020-03-05\", \"2020-03-06\", \"2020-03-07\", \"2020-03-08\", \"2020-03-09\", \"2020-03-10\", \"2020-03-11\", \"2020-03-12\", \"2020-03-13\", \"2020-03-14\", \"2020-03-15\", \"2020-03-16\", \"2020-03-17\", \"2020-03-18\", \"2020-03-19\", \"2020-03-20\", \"2020-03-21\", \"2020-03-22\", \"2020-03-23\", \"2020-03-24\", \"2020-03-25\", \"2020-03-26\", \"2020-03-27\", \"2020-03-28\", \"2020-03-29\", \"2020-03-30\", \"2020-03-31\", \"2020-04-01\", \"2020-04-02\", \"2020-04-03\", \"2020-04-04\", \"2020-04-05\", \"2020-04-06\", \"2020-04-07\", \"2020-04-08\", \"2020-04-09\", \"2020-04-10\", \"2020-04-11\", \"2020-04-12\", \"2020-04-13\", \"2020-04-14\", \"2020-04-15\", \"2020-04-16\", \"2020-04-17\", \"2020-04-18\", \"2020-04-19\", \"2020-04-20\", \"2020-04-21\", \"2020-04-22\", \"2020-04-23\", \"2020-04-24\", \"2020-04-25\", \"2020-04-26\", \"2020-04-27\", \"2020-04-28\", \"2020-04-29\", \"2020-04-30\", \"2020-05-01\", \"2020-05-02\", \"2020-05-03\", \"2020-05-04\", \"2020-05-05\", \"2020-05-06\", \"2020-05-07\", \"2020-05-08\", \"2020-05-09\", \"2020-05-10\", \"2020-05-11\", \"2020-05-12\", \"2020-05-13\", \"2020-05-14\", \"2020-05-15\", \"2020-05-16\", \"2020-05-17\", \"2020-05-18\", \"2020-05-19\", \"2020-05-20\", \"2020-05-21\", \"2020-05-22\", \"2020-05-23\", \"2020-05-24\", \"2020-05-25\", \"2020-05-26\", \"2020-05-27\", \"2020-05-28\", \"2020-05-29\", \"2020-05-30\", \"2020-05-31\", \"2020-06-01\", \"2020-06-02\", \"2020-06-03\", \"2020-06-04\", \"2020-06-05\", \"2020-06-06\", \"2020-06-07\", \"2020-06-08\", \"2020-06-09\", \"2020-06-10\", \"2020-06-11\", \"2020-06-12\", \"2020-06-13\", \"2020-06-14\", \"2020-06-15\", \"2020-06-16\", \"2020-06-17\", \"2020-06-18\", \"2020-06-19\", \"2020-06-20\", \"2020-06-21\", \"2020-06-22\", \"2020-06-23\", \"2020-06-24\", \"2020-06-25\", \"2020-06-26\", \"2020-06-27\", \"2020-06-28\", \"2020-06-29\", \"2020-06-30\"], \"xaxis\": \"x\", \"y\": [633, 713, 790, 847, 889, 941, 975, 1005, 1030, 1082, 1101, 1117, 1133, 1141, 1147, 1164, 1171, 1181, 1193, 1203, 1221, 1228, 1234, 1246, 1252, 1256, 1278, 1292, 1297, 1312, 1323, 1336, 1350, 1358, 1370, 1375, 1382, 1387, 1394, 1396, 1399, 1400, 1401, 1405, 1408, 1410, 1411, 1412, 1412, 1412, 1413, 1417, 1418, 1418, 1420, 1421, 1422, 1423, 1426, 1427, 1429, 1430, 1432, 1435, 1436, 1436, 1436, 1438, 1438, 1442, 1446, 1448, 1450, 1451, 1453, 1454, 1457, 1462, 1462, 1468, 1471, 1473, 1474, 1481, 1483, 1486, 1489, 1503, 1513, 1517, 1521, 1527, 1529, 1534, 1537, 1540, 1551, 1559, 1564, 1568, 1569, 1574, 1575, 1578, 1584, 1595, 1599, 1601, 1607, 1610, 1618, 1623, 1624, 1633, 1644, 1646, 1651, 1657, 1667, 1673, 1681], \"yaxis\": \"y\"}, {\"alignmentgroup\": \"True\", \"hoverlabel\": {\"namelength\": 0}, \"hovertemplate\": \"\\ud658\\uc790\\uc758 \\ub098\\uc774=50s<br>\\ub0a0\\uc9dc=%{x}<br>\\ub204\\uc801 \\ud655\\uc9c4\\uc790 \\uc218=%{y}\", \"legendgroup\": \"\\ud658\\uc790\\uc758 \\ub098\\uc774=50s\", \"marker\": {\"color\": \"rgb(158, 185, 243)\"}, \"name\": \"\\ud658\\uc790\\uc758 \\ub098\\uc774=50s\", \"offsetgroup\": \"\\ud658\\uc790\\uc758 \\ub098\\uc774=50s\", \"orientation\": \"v\", \"showlegend\": true, \"textposition\": \"auto\", \"type\": \"bar\", \"x\": [\"2020-03-02\", \"2020-03-03\", \"2020-03-04\", \"2020-03-05\", \"2020-03-06\", \"2020-03-07\", \"2020-03-08\", \"2020-03-09\", \"2020-03-10\", \"2020-03-11\", \"2020-03-12\", \"2020-03-13\", \"2020-03-14\", \"2020-03-15\", \"2020-03-16\", \"2020-03-17\", \"2020-03-18\", \"2020-03-19\", \"2020-03-20\", \"2020-03-21\", \"2020-03-22\", \"2020-03-23\", \"2020-03-24\", \"2020-03-25\", \"2020-03-26\", \"2020-03-27\", \"2020-03-28\", \"2020-03-29\", \"2020-03-30\", \"2020-03-31\", \"2020-04-01\", \"2020-04-02\", \"2020-04-03\", \"2020-04-04\", \"2020-04-05\", \"2020-04-06\", \"2020-04-07\", \"2020-04-08\", \"2020-04-09\", \"2020-04-10\", \"2020-04-11\", \"2020-04-12\", \"2020-04-13\", \"2020-04-14\", \"2020-04-15\", \"2020-04-16\", \"2020-04-17\", \"2020-04-18\", \"2020-04-19\", \"2020-04-20\", \"2020-04-21\", \"2020-04-22\", \"2020-04-23\", \"2020-04-24\", \"2020-04-25\", \"2020-04-26\", \"2020-04-27\", \"2020-04-28\", \"2020-04-29\", \"2020-04-30\", \"2020-05-01\", \"2020-05-02\", \"2020-05-03\", \"2020-05-04\", \"2020-05-05\", \"2020-05-06\", \"2020-05-07\", \"2020-05-08\", \"2020-05-09\", \"2020-05-10\", \"2020-05-11\", \"2020-05-12\", \"2020-05-13\", \"2020-05-14\", \"2020-05-15\", \"2020-05-16\", \"2020-05-17\", \"2020-05-18\", \"2020-05-19\", \"2020-05-20\", \"2020-05-21\", \"2020-05-22\", \"2020-05-23\", \"2020-05-24\", \"2020-05-25\", \"2020-05-26\", \"2020-05-27\", \"2020-05-28\", \"2020-05-29\", \"2020-05-30\", \"2020-05-31\", \"2020-06-01\", \"2020-06-02\", \"2020-06-03\", \"2020-06-04\", \"2020-06-05\", \"2020-06-06\", \"2020-06-07\", \"2020-06-08\", \"2020-06-09\", \"2020-06-10\", \"2020-06-11\", \"2020-06-12\", \"2020-06-13\", \"2020-06-14\", \"2020-06-15\", \"2020-06-16\", \"2020-06-17\", \"2020-06-18\", \"2020-06-19\", \"2020-06-20\", \"2020-06-21\", \"2020-06-22\", \"2020-06-23\", \"2020-06-24\", \"2020-06-25\", \"2020-06-26\", \"2020-06-27\", \"2020-06-28\", \"2020-06-29\", \"2020-06-30\"], \"xaxis\": \"x\", \"y\": [834, 952, 1051, 1127, 1217, 1287, 1349, 1391, 1416, 1472, 1495, 1523, 1551, 1568, 1585, 1602, 1615, 1642, 1656, 1672, 1691, 1702, 1716, 1724, 1738, 1752, 1780, 1798, 1812, 1851, 1865, 1878, 1887, 1898, 1904, 1906, 1909, 1915, 1917, 1920, 1926, 1930, 1932, 1935, 1937, 1940, 1942, 1944, 1945, 1948, 1951, 1951, 1952, 1953, 1953, 1953, 1953, 1955, 1956, 1956, 1956, 1956, 1956, 1956, 1957, 1957, 1957, 1957, 1958, 1960, 1960, 1963, 1964, 1964, 1965, 1966, 1967, 1968, 1971, 1972, 1972, 1974, 1983, 1987, 1992, 1996, 2002, 2014, 2023, 2033, 2039, 2052, 2061, 2070, 2079, 2086, 2094, 2105, 2111, 2121, 2128, 2137, 2154, 2163, 2170, 2176, 2182, 2189, 2198, 2210, 2222, 2230, 2235, 2244, 2254, 2260, 2264, 2269, 2275, 2280, 2286], \"yaxis\": \"y\"}, {\"alignmentgroup\": \"True\", \"hoverlabel\": {\"namelength\": 0}, \"hovertemplate\": \"\\ud658\\uc790\\uc758 \\ub098\\uc774=60s<br>\\ub0a0\\uc9dc=%{x}<br>\\ub204\\uc801 \\ud655\\uc9c4\\uc790 \\uc218=%{y}\", \"legendgroup\": \"\\ud658\\uc790\\uc758 \\ub098\\uc774=60s\", \"marker\": {\"color\": \"rgb(254, 136, 177)\"}, \"name\": \"\\ud658\\uc790\\uc758 \\ub098\\uc774=60s\", \"offsetgroup\": \"\\ud658\\uc790\\uc758 \\ub098\\uc774=60s\", \"orientation\": \"v\", \"showlegend\": true, \"textposition\": \"auto\", \"type\": \"bar\", \"x\": [\"2020-03-02\", \"2020-03-03\", \"2020-03-04\", \"2020-03-05\", \"2020-03-06\", \"2020-03-07\", \"2020-03-08\", \"2020-03-09\", \"2020-03-10\", \"2020-03-11\", \"2020-03-12\", \"2020-03-13\", \"2020-03-14\", \"2020-03-15\", \"2020-03-16\", \"2020-03-17\", \"2020-03-18\", \"2020-03-19\", \"2020-03-20\", \"2020-03-21\", \"2020-03-22\", \"2020-03-23\", \"2020-03-24\", \"2020-03-25\", \"2020-03-26\", \"2020-03-27\", \"2020-03-28\", \"2020-03-29\", \"2020-03-30\", \"2020-03-31\", \"2020-04-01\", \"2020-04-02\", \"2020-04-03\", \"2020-04-04\", \"2020-04-05\", \"2020-04-06\", \"2020-04-07\", \"2020-04-08\", \"2020-04-09\", \"2020-04-10\", \"2020-04-11\", \"2020-04-12\", \"2020-04-13\", \"2020-04-14\", \"2020-04-15\", \"2020-04-16\", \"2020-04-17\", \"2020-04-18\", \"2020-04-19\", \"2020-04-20\", \"2020-04-21\", \"2020-04-22\", \"2020-04-23\", \"2020-04-24\", \"2020-04-25\", \"2020-04-26\", \"2020-04-27\", \"2020-04-28\", \"2020-04-29\", \"2020-04-30\", \"2020-05-01\", \"2020-05-02\", \"2020-05-03\", \"2020-05-04\", \"2020-05-05\", \"2020-05-06\", \"2020-05-07\", \"2020-05-08\", \"2020-05-09\", \"2020-05-10\", \"2020-05-11\", \"2020-05-12\", \"2020-05-13\", \"2020-05-14\", \"2020-05-15\", \"2020-05-16\", \"2020-05-17\", \"2020-05-18\", \"2020-05-19\", \"2020-05-20\", \"2020-05-21\", \"2020-05-22\", \"2020-05-23\", \"2020-05-24\", \"2020-05-25\", \"2020-05-26\", \"2020-05-27\", \"2020-05-28\", \"2020-05-29\", \"2020-05-30\", \"2020-05-31\", \"2020-06-01\", \"2020-06-02\", \"2020-06-03\", \"2020-06-04\", \"2020-06-05\", \"2020-06-06\", \"2020-06-07\", \"2020-06-08\", \"2020-06-09\", \"2020-06-10\", \"2020-06-11\", \"2020-06-12\", \"2020-06-13\", \"2020-06-14\", \"2020-06-15\", \"2020-06-16\", \"2020-06-17\", \"2020-06-18\", \"2020-06-19\", \"2020-06-20\", \"2020-06-21\", \"2020-06-22\", \"2020-06-23\", \"2020-06-24\", \"2020-06-25\", \"2020-06-26\", \"2020-06-27\", \"2020-06-28\", \"2020-06-29\", \"2020-06-30\"], \"xaxis\": \"x\", \"y\": [530, 597, 646, 699, 763, 830, 878, 916, 929, 960, 972, 985, 999, 1012, 1024, 1033, 1059, 1080, 1099, 1118, 1132, 1139, 1146, 1154, 1162, 1170, 1201, 1210, 1218, 1235, 1245, 1258, 1266, 1282, 1289, 1294, 1304, 1312, 1314, 1320, 1327, 1330, 1335, 1338, 1339, 1341, 1342, 1343, 1343, 1343, 1343, 1344, 1344, 1345, 1347, 1347, 1347, 1348, 1348, 1348, 1348, 1349, 1351, 1353, 1353, 1354, 1354, 1355, 1355, 1357, 1358, 1358, 1359, 1359, 1361, 1364, 1364, 1365, 1368, 1369, 1369, 1369, 1372, 1375, 1377, 1378, 1386, 1392, 1400, 1404, 1405, 1410, 1421, 1436, 1445, 1455, 1464, 1476, 1487, 1496, 1512, 1517, 1530, 1538, 1546, 1550, 1558, 1561, 1574, 1585, 1598, 1608, 1610, 1617, 1622, 1627, 1633, 1640, 1653, 1665, 1668], \"yaxis\": \"y\"}, {\"alignmentgroup\": \"True\", \"hoverlabel\": {\"namelength\": 0}, \"hovertemplate\": \"\\ud658\\uc790\\uc758 \\ub098\\uc774=70s<br>\\ub0a0\\uc9dc=%{x}<br>\\ub204\\uc801 \\ud655\\uc9c4\\uc790 \\uc218=%{y}\", \"legendgroup\": \"\\ud658\\uc790\\uc758 \\ub098\\uc774=70s\", \"marker\": {\"color\": \"rgb(201, 219, 116)\"}, \"name\": \"\\ud658\\uc790\\uc758 \\ub098\\uc774=70s\", \"offsetgroup\": \"\\ud658\\uc790\\uc758 \\ub098\\uc774=70s\", \"orientation\": \"v\", \"showlegend\": true, \"textposition\": \"auto\", \"type\": \"bar\", \"x\": [\"2020-03-02\", \"2020-03-03\", \"2020-03-04\", \"2020-03-05\", \"2020-03-06\", \"2020-03-07\", \"2020-03-08\", \"2020-03-09\", \"2020-03-10\", \"2020-03-11\", \"2020-03-12\", \"2020-03-13\", \"2020-03-14\", \"2020-03-15\", \"2020-03-16\", \"2020-03-17\", \"2020-03-18\", \"2020-03-19\", \"2020-03-20\", \"2020-03-21\", \"2020-03-22\", \"2020-03-23\", \"2020-03-24\", \"2020-03-25\", \"2020-03-26\", \"2020-03-27\", \"2020-03-28\", \"2020-03-29\", \"2020-03-30\", \"2020-03-31\", \"2020-04-01\", \"2020-04-02\", \"2020-04-03\", \"2020-04-04\", \"2020-04-05\", \"2020-04-06\", \"2020-04-07\", \"2020-04-08\", \"2020-04-09\", \"2020-04-10\", \"2020-04-11\", \"2020-04-12\", \"2020-04-13\", \"2020-04-14\", \"2020-04-15\", \"2020-04-16\", \"2020-04-17\", \"2020-04-18\", \"2020-04-19\", \"2020-04-20\", \"2020-04-21\", \"2020-04-22\", \"2020-04-23\", \"2020-04-24\", \"2020-04-25\", \"2020-04-26\", \"2020-04-27\", \"2020-04-28\", \"2020-04-29\", \"2020-04-30\", \"2020-05-01\", \"2020-05-02\", \"2020-05-03\", \"2020-05-04\", \"2020-05-05\", \"2020-05-06\", \"2020-05-07\", \"2020-05-08\", \"2020-05-09\", \"2020-05-10\", \"2020-05-11\", \"2020-05-12\", \"2020-05-13\", \"2020-05-14\", \"2020-05-15\", \"2020-05-16\", \"2020-05-17\", \"2020-05-18\", \"2020-05-19\", \"2020-05-20\", \"2020-05-21\", \"2020-05-22\", \"2020-05-23\", \"2020-05-24\", \"2020-05-25\", \"2020-05-26\", \"2020-05-27\", \"2020-05-28\", \"2020-05-29\", \"2020-05-30\", \"2020-05-31\", \"2020-06-01\", \"2020-06-02\", \"2020-06-03\", \"2020-06-04\", \"2020-06-05\", \"2020-06-06\", \"2020-06-07\", \"2020-06-08\", \"2020-06-09\", \"2020-06-10\", \"2020-06-11\", \"2020-06-12\", \"2020-06-13\", \"2020-06-14\", \"2020-06-15\", \"2020-06-16\", \"2020-06-17\", \"2020-06-18\", \"2020-06-19\", \"2020-06-20\", \"2020-06-21\", \"2020-06-22\", \"2020-06-23\", \"2020-06-24\", \"2020-06-25\", \"2020-06-26\", \"2020-06-27\", \"2020-06-28\", \"2020-06-29\", \"2020-06-30\"], \"xaxis\": \"x\", \"y\": [192, 224, 260, 288, 340, 384, 409, 438, 454, 483, 497, 506, 515, 525, 531, 539, 542, 562, 568, 589, 595, 599, 608, 611, 616, 630, 632, 635, 640, 651, 658, 663, 668, 678, 681, 686, 689, 692, 692, 694, 694, 697, 698, 700, 702, 703, 704, 705, 705, 705, 706, 707, 708, 708, 708, 708, 708, 709, 709, 709, 709, 709, 710, 710, 710, 710, 710, 710, 710, 711, 711, 711, 712, 712, 714, 714, 715, 715, 716, 717, 717, 718, 718, 719, 719, 721, 724, 724, 724, 725, 725, 727, 732, 738, 744, 751, 759, 767, 770, 775, 782, 787, 789, 796, 797, 799, 805, 810, 817, 820, 823, 829, 830, 834, 836, 838, 839, 843, 846, 847, 850], \"yaxis\": \"y\"}, {\"alignmentgroup\": \"True\", \"hoverlabel\": {\"namelength\": 0}, \"hovertemplate\": \"\\ud658\\uc790\\uc758 \\ub098\\uc774=80s<br>\\ub0a0\\uc9dc=%{x}<br>\\ub204\\uc801 \\ud655\\uc9c4\\uc790 \\uc218=%{y}\", \"legendgroup\": \"\\ud658\\uc790\\uc758 \\ub098\\uc774=80s\", \"marker\": {\"color\": \"rgb(139, 224, 164)\"}, \"name\": \"\\ud658\\uc790\\uc758 \\ub098\\uc774=80s\", \"offsetgroup\": \"\\ud658\\uc790\\uc758 \\ub098\\uc774=80s\", \"orientation\": \"v\", \"showlegend\": true, \"textposition\": \"auto\", \"type\": \"bar\", \"x\": [\"2020-03-02\", \"2020-03-03\", \"2020-03-04\", \"2020-03-05\", \"2020-03-06\", \"2020-03-07\", \"2020-03-08\", \"2020-03-09\", \"2020-03-10\", \"2020-03-11\", \"2020-03-12\", \"2020-03-13\", \"2020-03-14\", \"2020-03-15\", \"2020-03-16\", \"2020-03-17\", \"2020-03-18\", \"2020-03-19\", \"2020-03-20\", \"2020-03-21\", \"2020-03-22\", \"2020-03-23\", \"2020-03-24\", \"2020-03-25\", \"2020-03-26\", \"2020-03-27\", \"2020-03-28\", \"2020-03-29\", \"2020-03-30\", \"2020-03-31\", \"2020-04-01\", \"2020-04-02\", \"2020-04-03\", \"2020-04-04\", \"2020-04-05\", \"2020-04-06\", \"2020-04-07\", \"2020-04-08\", \"2020-04-09\", \"2020-04-10\", \"2020-04-11\", \"2020-04-12\", \"2020-04-13\", \"2020-04-14\", \"2020-04-15\", \"2020-04-16\", \"2020-04-17\", \"2020-04-18\", \"2020-04-19\", \"2020-04-20\", \"2020-04-21\", \"2020-04-22\", \"2020-04-23\", \"2020-04-24\", \"2020-04-25\", \"2020-04-26\", \"2020-04-27\", \"2020-04-28\", \"2020-04-29\", \"2020-04-30\", \"2020-05-01\", \"2020-05-02\", \"2020-05-03\", \"2020-05-04\", \"2020-05-05\", \"2020-05-06\", \"2020-05-07\", \"2020-05-08\", \"2020-05-09\", \"2020-05-10\", \"2020-05-11\", \"2020-05-12\", \"2020-05-13\", \"2020-05-14\", \"2020-05-15\", \"2020-05-16\", \"2020-05-17\", \"2020-05-18\", \"2020-05-19\", \"2020-05-20\", \"2020-05-21\", \"2020-05-22\", \"2020-05-23\", \"2020-05-24\", \"2020-05-25\", \"2020-05-26\", \"2020-05-27\", \"2020-05-28\", \"2020-05-29\", \"2020-05-30\", \"2020-05-31\", \"2020-06-01\", \"2020-06-02\", \"2020-06-03\", \"2020-06-04\", \"2020-06-05\", \"2020-06-06\", \"2020-06-07\", \"2020-06-08\", \"2020-06-09\", \"2020-06-10\", \"2020-06-11\", \"2020-06-12\", \"2020-06-13\", \"2020-06-14\", \"2020-06-15\", \"2020-06-16\", \"2020-06-17\", \"2020-06-18\", \"2020-06-19\", \"2020-06-20\", \"2020-06-21\", \"2020-06-22\", \"2020-06-23\", \"2020-06-24\", \"2020-06-25\", \"2020-06-26\", \"2020-06-27\", \"2020-06-28\", \"2020-06-29\", \"2020-06-30\"], \"xaxis\": \"x\", \"y\": [81, 93, 108, 124, 168, 191, 212, 216, 222, 236, 243, 253, 263, 263, 270, 274, 286, 321, 329, 381, 392, 396, 401, 406, 416, 428, 432, 434, 437, 442, 452, 453, 456, 461, 462, 465, 466, 470, 473, 474, 475, 475, 476, 477, 478, 480, 480, 481, 482, 482, 483, 483, 484, 485, 485, 485, 485, 485, 485, 485, 486, 486, 488, 488, 488, 488, 488, 488, 488, 488, 488, 489, 490, 490, 490, 490, 490, 490, 490, 490, 490, 490, 491, 491, 491, 491, 492, 492, 495, 498, 498, 498, 499, 499, 502, 504, 507, 509, 512, 517, 518, 519, 520, 530, 531, 532, 532, 533, 541, 542, 545, 548, 548, 549, 551, 551, 553, 555, 556, 556, 556], \"yaxis\": \"y\"}],\n",
              "                        {\"barmode\": \"relative\", \"legend\": {\"tracegroupgap\": 0}, \"margin\": {\"t\": 60}, \"plot_bgcolor\": \"#FFFFFF\", \"template\": {\"data\": {\"bar\": [{\"error_x\": {\"color\": \"#2a3f5f\"}, \"error_y\": {\"color\": \"#2a3f5f\"}, \"marker\": {\"line\": {\"color\": \"#E5ECF6\", \"width\": 0.5}}, \"type\": \"bar\"}], \"barpolar\": [{\"marker\": {\"line\": {\"color\": \"#E5ECF6\", \"width\": 0.5}}, \"type\": \"barpolar\"}], \"carpet\": [{\"aaxis\": {\"endlinecolor\": \"#2a3f5f\", \"gridcolor\": \"white\", \"linecolor\": \"white\", \"minorgridcolor\": \"white\", \"startlinecolor\": \"#2a3f5f\"}, \"baxis\": {\"endlinecolor\": \"#2a3f5f\", \"gridcolor\": \"white\", \"linecolor\": \"white\", \"minorgridcolor\": \"white\", \"startlinecolor\": \"#2a3f5f\"}, \"type\": \"carpet\"}], \"choropleth\": [{\"colorbar\": {\"outlinewidth\": 0, \"ticks\": \"\"}, \"type\": \"choropleth\"}], \"contour\": [{\"colorbar\": {\"outlinewidth\": 0, \"ticks\": \"\"}, \"colorscale\": [[0.0, \"#0d0887\"], [0.1111111111111111, \"#46039f\"], [0.2222222222222222, \"#7201a8\"], [0.3333333333333333, \"#9c179e\"], [0.4444444444444444, \"#bd3786\"], [0.5555555555555556, \"#d8576b\"], [0.6666666666666666, \"#ed7953\"], [0.7777777777777778, \"#fb9f3a\"], [0.8888888888888888, \"#fdca26\"], [1.0, \"#f0f921\"]], \"type\": \"contour\"}], \"contourcarpet\": [{\"colorbar\": {\"outlinewidth\": 0, \"ticks\": \"\"}, \"type\": \"contourcarpet\"}], \"heatmap\": [{\"colorbar\": {\"outlinewidth\": 0, \"ticks\": \"\"}, \"colorscale\": [[0.0, \"#0d0887\"], [0.1111111111111111, \"#46039f\"], [0.2222222222222222, \"#7201a8\"], [0.3333333333333333, \"#9c179e\"], [0.4444444444444444, \"#bd3786\"], [0.5555555555555556, \"#d8576b\"], [0.6666666666666666, \"#ed7953\"], [0.7777777777777778, \"#fb9f3a\"], [0.8888888888888888, \"#fdca26\"], [1.0, \"#f0f921\"]], \"type\": \"heatmap\"}], \"heatmapgl\": [{\"colorbar\": {\"outlinewidth\": 0, \"ticks\": \"\"}, \"colorscale\": [[0.0, \"#0d0887\"], [0.1111111111111111, \"#46039f\"], [0.2222222222222222, \"#7201a8\"], [0.3333333333333333, \"#9c179e\"], [0.4444444444444444, \"#bd3786\"], [0.5555555555555556, \"#d8576b\"], [0.6666666666666666, \"#ed7953\"], [0.7777777777777778, \"#fb9f3a\"], [0.8888888888888888, \"#fdca26\"], [1.0, \"#f0f921\"]], \"type\": \"heatmapgl\"}], \"histogram\": [{\"marker\": {\"colorbar\": {\"outlinewidth\": 0, \"ticks\": \"\"}}, \"type\": \"histogram\"}], \"histogram2d\": [{\"colorbar\": {\"outlinewidth\": 0, \"ticks\": \"\"}, \"colorscale\": [[0.0, \"#0d0887\"], [0.1111111111111111, \"#46039f\"], [0.2222222222222222, \"#7201a8\"], [0.3333333333333333, \"#9c179e\"], [0.4444444444444444, \"#bd3786\"], [0.5555555555555556, \"#d8576b\"], [0.6666666666666666, \"#ed7953\"], [0.7777777777777778, \"#fb9f3a\"], [0.8888888888888888, \"#fdca26\"], [1.0, \"#f0f921\"]], \"type\": \"histogram2d\"}], \"histogram2dcontour\": [{\"colorbar\": {\"outlinewidth\": 0, \"ticks\": \"\"}, \"colorscale\": [[0.0, \"#0d0887\"], [0.1111111111111111, \"#46039f\"], [0.2222222222222222, \"#7201a8\"], [0.3333333333333333, \"#9c179e\"], [0.4444444444444444, \"#bd3786\"], [0.5555555555555556, \"#d8576b\"], [0.6666666666666666, \"#ed7953\"], [0.7777777777777778, \"#fb9f3a\"], [0.8888888888888888, \"#fdca26\"], [1.0, \"#f0f921\"]], \"type\": \"histogram2dcontour\"}], \"mesh3d\": [{\"colorbar\": {\"outlinewidth\": 0, \"ticks\": \"\"}, \"type\": \"mesh3d\"}], \"parcoords\": [{\"line\": {\"colorbar\": {\"outlinewidth\": 0, \"ticks\": \"\"}}, \"type\": \"parcoords\"}], \"pie\": [{\"automargin\": true, \"type\": \"pie\"}], \"scatter\": [{\"marker\": {\"colorbar\": {\"outlinewidth\": 0, \"ticks\": \"\"}}, \"type\": \"scatter\"}], \"scatter3d\": [{\"line\": {\"colorbar\": {\"outlinewidth\": 0, \"ticks\": \"\"}}, \"marker\": {\"colorbar\": {\"outlinewidth\": 0, \"ticks\": \"\"}}, \"type\": \"scatter3d\"}], \"scattercarpet\": [{\"marker\": {\"colorbar\": {\"outlinewidth\": 0, \"ticks\": \"\"}}, \"type\": \"scattercarpet\"}], \"scattergeo\": [{\"marker\": {\"colorbar\": {\"outlinewidth\": 0, \"ticks\": \"\"}}, \"type\": \"scattergeo\"}], \"scattergl\": [{\"marker\": {\"colorbar\": {\"outlinewidth\": 0, \"ticks\": \"\"}}, \"type\": \"scattergl\"}], \"scattermapbox\": [{\"marker\": {\"colorbar\": {\"outlinewidth\": 0, \"ticks\": \"\"}}, \"type\": \"scattermapbox\"}], \"scatterpolar\": [{\"marker\": {\"colorbar\": {\"outlinewidth\": 0, \"ticks\": \"\"}}, \"type\": \"scatterpolar\"}], \"scatterpolargl\": [{\"marker\": {\"colorbar\": {\"outlinewidth\": 0, \"ticks\": \"\"}}, \"type\": \"scatterpolargl\"}], \"scatterternary\": [{\"marker\": {\"colorbar\": {\"outlinewidth\": 0, \"ticks\": \"\"}}, \"type\": \"scatterternary\"}], \"surface\": [{\"colorbar\": {\"outlinewidth\": 0, \"ticks\": \"\"}, \"colorscale\": [[0.0, \"#0d0887\"], [0.1111111111111111, \"#46039f\"], [0.2222222222222222, \"#7201a8\"], [0.3333333333333333, \"#9c179e\"], [0.4444444444444444, \"#bd3786\"], [0.5555555555555556, \"#d8576b\"], [0.6666666666666666, \"#ed7953\"], [0.7777777777777778, \"#fb9f3a\"], [0.8888888888888888, \"#fdca26\"], [1.0, \"#f0f921\"]], \"type\": \"surface\"}], \"table\": [{\"cells\": {\"fill\": {\"color\": \"#EBF0F8\"}, \"line\": {\"color\": \"white\"}}, \"header\": {\"fill\": {\"color\": \"#C8D4E3\"}, \"line\": {\"color\": \"white\"}}, \"type\": \"table\"}]}, \"layout\": {\"annotationdefaults\": {\"arrowcolor\": \"#2a3f5f\", \"arrowhead\": 0, \"arrowwidth\": 1}, \"coloraxis\": {\"colorbar\": {\"outlinewidth\": 0, \"ticks\": \"\"}}, \"colorscale\": {\"diverging\": [[0, \"#8e0152\"], [0.1, \"#c51b7d\"], [0.2, \"#de77ae\"], [0.3, \"#f1b6da\"], [0.4, \"#fde0ef\"], [0.5, \"#f7f7f7\"], [0.6, \"#e6f5d0\"], [0.7, \"#b8e186\"], [0.8, \"#7fbc41\"], [0.9, \"#4d9221\"], [1, \"#276419\"]], \"sequential\": [[0.0, \"#0d0887\"], [0.1111111111111111, \"#46039f\"], [0.2222222222222222, \"#7201a8\"], [0.3333333333333333, \"#9c179e\"], [0.4444444444444444, \"#bd3786\"], [0.5555555555555556, \"#d8576b\"], [0.6666666666666666, \"#ed7953\"], [0.7777777777777778, \"#fb9f3a\"], [0.8888888888888888, \"#fdca26\"], [1.0, \"#f0f921\"]], \"sequentialminus\": [[0.0, \"#0d0887\"], [0.1111111111111111, \"#46039f\"], [0.2222222222222222, \"#7201a8\"], [0.3333333333333333, \"#9c179e\"], [0.4444444444444444, \"#bd3786\"], [0.5555555555555556, \"#d8576b\"], [0.6666666666666666, \"#ed7953\"], [0.7777777777777778, \"#fb9f3a\"], [0.8888888888888888, \"#fdca26\"], [1.0, \"#f0f921\"]]}, \"colorway\": [\"#636efa\", \"#EF553B\", \"#00cc96\", \"#ab63fa\", \"#FFA15A\", \"#19d3f3\", \"#FF6692\", \"#B6E880\", \"#FF97FF\", \"#FECB52\"], \"font\": {\"color\": \"#2a3f5f\"}, \"geo\": {\"bgcolor\": \"white\", \"lakecolor\": \"white\", \"landcolor\": \"#E5ECF6\", \"showlakes\": true, \"showland\": true, \"subunitcolor\": \"white\"}, \"hoverlabel\": {\"align\": \"left\"}, \"hovermode\": \"closest\", \"mapbox\": {\"style\": \"light\"}, \"paper_bgcolor\": \"white\", \"plot_bgcolor\": \"#E5ECF6\", \"polar\": {\"angularaxis\": {\"gridcolor\": \"white\", \"linecolor\": \"white\", \"ticks\": \"\"}, \"bgcolor\": \"#E5ECF6\", \"radialaxis\": {\"gridcolor\": \"white\", \"linecolor\": \"white\", \"ticks\": \"\"}}, \"scene\": {\"xaxis\": {\"backgroundcolor\": \"#E5ECF6\", \"gridcolor\": \"white\", \"gridwidth\": 2, \"linecolor\": \"white\", \"showbackground\": true, \"ticks\": \"\", \"zerolinecolor\": \"white\"}, \"yaxis\": {\"backgroundcolor\": \"#E5ECF6\", \"gridcolor\": \"white\", \"gridwidth\": 2, \"linecolor\": \"white\", \"showbackground\": true, \"ticks\": \"\", \"zerolinecolor\": \"white\"}, \"zaxis\": {\"backgroundcolor\": \"#E5ECF6\", \"gridcolor\": \"white\", \"gridwidth\": 2, \"linecolor\": \"white\", \"showbackground\": true, \"ticks\": \"\", \"zerolinecolor\": \"white\"}}, \"shapedefaults\": {\"line\": {\"color\": \"#2a3f5f\"}}, \"ternary\": {\"aaxis\": {\"gridcolor\": \"white\", \"linecolor\": \"white\", \"ticks\": \"\"}, \"baxis\": {\"gridcolor\": \"white\", \"linecolor\": \"white\", \"ticks\": \"\"}, \"bgcolor\": \"#E5ECF6\", \"caxis\": {\"gridcolor\": \"white\", \"linecolor\": \"white\", \"ticks\": \"\"}}, \"title\": {\"x\": 0.05}, \"xaxis\": {\"automargin\": true, \"gridcolor\": \"white\", \"linecolor\": \"white\", \"ticks\": \"\", \"title\": {\"standoff\": 15}, \"zerolinecolor\": \"white\", \"zerolinewidth\": 2}, \"yaxis\": {\"automargin\": true, \"gridcolor\": \"white\", \"linecolor\": \"white\", \"ticks\": \"\", \"title\": {\"standoff\": 15}, \"zerolinecolor\": \"white\", \"zerolinewidth\": 2}}}, \"title\": {\"text\": \"<b>\\uc5f0\\ub839\\ubcc4 \\ub204\\uc801 \\ud655\\uc9c4\\uc790 \\uc218 \\ucd94\\uc774</b>\"}, \"xaxis\": {\"anchor\": \"y\", \"domain\": [0.0, 1.0], \"title\": {\"text\": \"\\ub0a0\\uc9dc\"}}, \"yaxis\": {\"anchor\": \"x\", \"domain\": [0.0, 1.0], \"gridcolor\": \"#D5D5D5\", \"title\": {\"text\": \"\\ub204\\uc801 \\ud655\\uc9c4\\uc790 \\uc218\"}}},\n",
              "                        {\"responsive\": true}\n",
              "                    ).then(function(){\n",
              "                            \n",
              "var gd = document.getElementById('6e5e9c99-bad8-4328-8821-e500fdf702b2');\n",
              "var x = new MutationObserver(function (mutations, observer) {{\n",
              "        var display = window.getComputedStyle(gd).display;\n",
              "        if (!display || display === 'none') {{\n",
              "            console.log([gd, 'removed!']);\n",
              "            Plotly.purge(gd);\n",
              "            observer.disconnect();\n",
              "        }}\n",
              "}});\n",
              "\n",
              "// Listen for the removal of the full notebook cells\n",
              "var notebookContainer = gd.closest('#notebook-container');\n",
              "if (notebookContainer) {{\n",
              "    x.observe(notebookContainer, {childList: true});\n",
              "}}\n",
              "\n",
              "// Listen for the clearing of the current output cell\n",
              "var outputEl = gd.closest('.output');\n",
              "if (outputEl) {{\n",
              "    x.observe(outputEl, {childList: true});\n",
              "}}\n",
              "\n",
              "                        })\n",
              "                };\n",
              "                \n",
              "            </script>\n",
              "        </div>\n",
              "</body>\n",
              "</html>"
            ]
          },
          "metadata": {
            "tags": []
          }
        }
      ]
    },
    {
      "cell_type": "code",
      "metadata": {
        "id": "INQ4FxX46Gvv",
        "colab_type": "code",
        "colab": {
          "base_uri": "https://localhost:8080/",
          "height": 562
        },
        "outputId": "a1fc665d-622b-41fb-ae7d-fbcb1bef74cc"
      },
      "source": [
        "# pie chart :연령별 확진자 비중\n",
        "fig = px.pie(total_0630, names='연령층' ,values='누적 확진자 수', \n",
        "             title='<b>연령별 확진자 수(2020.06.30)</b>',\n",
        "             color_discrete_sequence = px.colors.colorbrewer.Set2)\n",
        "                \n",
        "fig.update_traces(textinfo='percent+label', textfont_size=13, hole=.3)\n",
        "\n",
        "fig.show()"
      ],
      "execution_count": 19,
      "outputs": [
        {
          "output_type": "display_data",
          "data": {
            "text/html": [
              "<html>\n",
              "<head><meta charset=\"utf-8\" /></head>\n",
              "<body>\n",
              "    <div>\n",
              "            <script src=\"https://cdnjs.cloudflare.com/ajax/libs/mathjax/2.7.5/MathJax.js?config=TeX-AMS-MML_SVG\"></script><script type=\"text/javascript\">if (window.MathJax) {MathJax.Hub.Config({SVG: {font: \"STIX-Web\"}});}</script>\n",
              "                <script type=\"text/javascript\">window.PlotlyConfig = {MathJaxConfig: 'local'};</script>\n",
              "        <script src=\"https://cdn.plot.ly/plotly-latest.min.js\"></script>    \n",
              "            <div id=\"0b4507e0-af7b-4a8d-90f3-25fd28c8f876\" class=\"plotly-graph-div\" style=\"height:525px; width:100%;\"></div>\n",
              "            <script type=\"text/javascript\">\n",
              "                \n",
              "                    window.PLOTLYENV=window.PLOTLYENV || {};\n",
              "                    \n",
              "                if (document.getElementById(\"0b4507e0-af7b-4a8d-90f3-25fd28c8f876\")) {\n",
              "                    Plotly.newPlot(\n",
              "                        '0b4507e0-af7b-4a8d-90f3-25fd28c8f876',\n",
              "                        [{\"domain\": {\"x\": [0.0, 1.0], \"y\": [0.0, 1.0]}, \"hole\": 0.3, \"hoverlabel\": {\"namelength\": 0}, \"hovertemplate\": \"\\uc5f0\\ub839\\uce35=%{label}<br>\\ub204\\uc801 \\ud655\\uc9c4\\uc790 \\uc218=%{value}\", \"labels\": [\"\\ubbf8\\uc131\\ub144\\uc790\", \"\\ubbf8\\uc131\\ub144\\uc790\", \"\\uccad\\ub144\\uce35\", \"\\uccad\\ub144\\uce35\", \"\\uc911\\ub144\\uce35\", \"\\uc911\\ub144\\uce35\", \"\\uace0\\ub839\\uce35\", \"\\uace0\\ub839\\uce35\", \"\\uace0\\ub839\\uce35\"], \"legendgroup\": \"\", \"name\": \"\", \"showlegend\": true, \"textfont\": {\"size\": 13}, \"textinfo\": \"percent+label\", \"type\": \"pie\", \"values\": [193, 708, 3362, 1496, 1681, 2286, 1668, 850, 556]}],\n",
              "                        {\"legend\": {\"tracegroupgap\": 0}, \"piecolorway\": [\"rgb(102,194,165)\", \"rgb(252,141,98)\", \"rgb(141,160,203)\", \"rgb(231,138,195)\", \"rgb(166,216,84)\", \"rgb(255,217,47)\", \"rgb(229,196,148)\", \"rgb(179,179,179)\"], \"template\": {\"data\": {\"bar\": [{\"error_x\": {\"color\": \"#2a3f5f\"}, \"error_y\": {\"color\": \"#2a3f5f\"}, \"marker\": {\"line\": {\"color\": \"#E5ECF6\", \"width\": 0.5}}, \"type\": \"bar\"}], \"barpolar\": [{\"marker\": {\"line\": {\"color\": \"#E5ECF6\", \"width\": 0.5}}, \"type\": \"barpolar\"}], \"carpet\": [{\"aaxis\": {\"endlinecolor\": \"#2a3f5f\", \"gridcolor\": \"white\", \"linecolor\": \"white\", \"minorgridcolor\": \"white\", \"startlinecolor\": \"#2a3f5f\"}, \"baxis\": {\"endlinecolor\": \"#2a3f5f\", \"gridcolor\": \"white\", \"linecolor\": \"white\", \"minorgridcolor\": \"white\", \"startlinecolor\": \"#2a3f5f\"}, \"type\": \"carpet\"}], \"choropleth\": [{\"colorbar\": {\"outlinewidth\": 0, \"ticks\": \"\"}, \"type\": \"choropleth\"}], \"contour\": [{\"colorbar\": {\"outlinewidth\": 0, \"ticks\": \"\"}, \"colorscale\": [[0.0, \"#0d0887\"], [0.1111111111111111, \"#46039f\"], [0.2222222222222222, \"#7201a8\"], [0.3333333333333333, \"#9c179e\"], [0.4444444444444444, \"#bd3786\"], [0.5555555555555556, \"#d8576b\"], [0.6666666666666666, \"#ed7953\"], [0.7777777777777778, \"#fb9f3a\"], [0.8888888888888888, \"#fdca26\"], [1.0, \"#f0f921\"]], \"type\": \"contour\"}], \"contourcarpet\": [{\"colorbar\": {\"outlinewidth\": 0, \"ticks\": \"\"}, \"type\": \"contourcarpet\"}], \"heatmap\": [{\"colorbar\": {\"outlinewidth\": 0, \"ticks\": \"\"}, \"colorscale\": [[0.0, \"#0d0887\"], [0.1111111111111111, \"#46039f\"], [0.2222222222222222, \"#7201a8\"], [0.3333333333333333, \"#9c179e\"], [0.4444444444444444, \"#bd3786\"], [0.5555555555555556, \"#d8576b\"], [0.6666666666666666, \"#ed7953\"], [0.7777777777777778, \"#fb9f3a\"], [0.8888888888888888, \"#fdca26\"], [1.0, \"#f0f921\"]], \"type\": \"heatmap\"}], \"heatmapgl\": [{\"colorbar\": {\"outlinewidth\": 0, \"ticks\": \"\"}, \"colorscale\": [[0.0, \"#0d0887\"], [0.1111111111111111, \"#46039f\"], [0.2222222222222222, \"#7201a8\"], [0.3333333333333333, \"#9c179e\"], [0.4444444444444444, \"#bd3786\"], [0.5555555555555556, \"#d8576b\"], [0.6666666666666666, \"#ed7953\"], [0.7777777777777778, \"#fb9f3a\"], [0.8888888888888888, \"#fdca26\"], [1.0, \"#f0f921\"]], \"type\": \"heatmapgl\"}], \"histogram\": [{\"marker\": {\"colorbar\": {\"outlinewidth\": 0, \"ticks\": \"\"}}, \"type\": \"histogram\"}], \"histogram2d\": [{\"colorbar\": {\"outlinewidth\": 0, \"ticks\": \"\"}, \"colorscale\": [[0.0, \"#0d0887\"], [0.1111111111111111, \"#46039f\"], [0.2222222222222222, \"#7201a8\"], [0.3333333333333333, \"#9c179e\"], [0.4444444444444444, \"#bd3786\"], [0.5555555555555556, \"#d8576b\"], [0.6666666666666666, \"#ed7953\"], [0.7777777777777778, \"#fb9f3a\"], [0.8888888888888888, \"#fdca26\"], [1.0, \"#f0f921\"]], \"type\": \"histogram2d\"}], \"histogram2dcontour\": [{\"colorbar\": {\"outlinewidth\": 0, \"ticks\": \"\"}, \"colorscale\": [[0.0, \"#0d0887\"], [0.1111111111111111, \"#46039f\"], [0.2222222222222222, \"#7201a8\"], [0.3333333333333333, \"#9c179e\"], [0.4444444444444444, \"#bd3786\"], [0.5555555555555556, \"#d8576b\"], [0.6666666666666666, \"#ed7953\"], [0.7777777777777778, \"#fb9f3a\"], [0.8888888888888888, \"#fdca26\"], [1.0, \"#f0f921\"]], \"type\": \"histogram2dcontour\"}], \"mesh3d\": [{\"colorbar\": {\"outlinewidth\": 0, \"ticks\": \"\"}, \"type\": \"mesh3d\"}], \"parcoords\": [{\"line\": {\"colorbar\": {\"outlinewidth\": 0, \"ticks\": \"\"}}, \"type\": \"parcoords\"}], \"pie\": [{\"automargin\": true, \"type\": \"pie\"}], \"scatter\": [{\"marker\": {\"colorbar\": {\"outlinewidth\": 0, \"ticks\": \"\"}}, \"type\": \"scatter\"}], \"scatter3d\": [{\"line\": {\"colorbar\": {\"outlinewidth\": 0, \"ticks\": \"\"}}, \"marker\": {\"colorbar\": {\"outlinewidth\": 0, \"ticks\": \"\"}}, \"type\": \"scatter3d\"}], \"scattercarpet\": [{\"marker\": {\"colorbar\": {\"outlinewidth\": 0, \"ticks\": \"\"}}, \"type\": \"scattercarpet\"}], \"scattergeo\": [{\"marker\": {\"colorbar\": {\"outlinewidth\": 0, \"ticks\": \"\"}}, \"type\": \"scattergeo\"}], \"scattergl\": [{\"marker\": {\"colorbar\": {\"outlinewidth\": 0, \"ticks\": \"\"}}, \"type\": \"scattergl\"}], \"scattermapbox\": [{\"marker\": {\"colorbar\": {\"outlinewidth\": 0, \"ticks\": \"\"}}, \"type\": \"scattermapbox\"}], \"scatterpolar\": [{\"marker\": {\"colorbar\": {\"outlinewidth\": 0, \"ticks\": \"\"}}, \"type\": \"scatterpolar\"}], \"scatterpolargl\": [{\"marker\": {\"colorbar\": {\"outlinewidth\": 0, \"ticks\": \"\"}}, \"type\": \"scatterpolargl\"}], \"scatterternary\": [{\"marker\": {\"colorbar\": {\"outlinewidth\": 0, \"ticks\": \"\"}}, \"type\": \"scatterternary\"}], \"surface\": [{\"colorbar\": {\"outlinewidth\": 0, \"ticks\": \"\"}, \"colorscale\": [[0.0, \"#0d0887\"], [0.1111111111111111, \"#46039f\"], [0.2222222222222222, \"#7201a8\"], [0.3333333333333333, \"#9c179e\"], [0.4444444444444444, \"#bd3786\"], [0.5555555555555556, \"#d8576b\"], [0.6666666666666666, \"#ed7953\"], [0.7777777777777778, \"#fb9f3a\"], [0.8888888888888888, \"#fdca26\"], [1.0, \"#f0f921\"]], \"type\": \"surface\"}], \"table\": [{\"cells\": {\"fill\": {\"color\": \"#EBF0F8\"}, \"line\": {\"color\": \"white\"}}, \"header\": {\"fill\": {\"color\": \"#C8D4E3\"}, \"line\": {\"color\": \"white\"}}, \"type\": \"table\"}]}, \"layout\": {\"annotationdefaults\": {\"arrowcolor\": \"#2a3f5f\", \"arrowhead\": 0, \"arrowwidth\": 1}, \"coloraxis\": {\"colorbar\": {\"outlinewidth\": 0, \"ticks\": \"\"}}, \"colorscale\": {\"diverging\": [[0, \"#8e0152\"], [0.1, \"#c51b7d\"], [0.2, \"#de77ae\"], [0.3, \"#f1b6da\"], [0.4, \"#fde0ef\"], [0.5, \"#f7f7f7\"], [0.6, \"#e6f5d0\"], [0.7, \"#b8e186\"], [0.8, \"#7fbc41\"], [0.9, \"#4d9221\"], [1, \"#276419\"]], \"sequential\": [[0.0, \"#0d0887\"], [0.1111111111111111, \"#46039f\"], [0.2222222222222222, \"#7201a8\"], [0.3333333333333333, \"#9c179e\"], [0.4444444444444444, \"#bd3786\"], [0.5555555555555556, \"#d8576b\"], [0.6666666666666666, \"#ed7953\"], [0.7777777777777778, \"#fb9f3a\"], [0.8888888888888888, \"#fdca26\"], [1.0, \"#f0f921\"]], \"sequentialminus\": [[0.0, \"#0d0887\"], [0.1111111111111111, \"#46039f\"], [0.2222222222222222, \"#7201a8\"], [0.3333333333333333, \"#9c179e\"], [0.4444444444444444, \"#bd3786\"], [0.5555555555555556, \"#d8576b\"], [0.6666666666666666, \"#ed7953\"], [0.7777777777777778, \"#fb9f3a\"], [0.8888888888888888, \"#fdca26\"], [1.0, \"#f0f921\"]]}, \"colorway\": [\"#636efa\", \"#EF553B\", \"#00cc96\", \"#ab63fa\", \"#FFA15A\", \"#19d3f3\", \"#FF6692\", \"#B6E880\", \"#FF97FF\", \"#FECB52\"], \"font\": {\"color\": \"#2a3f5f\"}, \"geo\": {\"bgcolor\": \"white\", \"lakecolor\": \"white\", \"landcolor\": \"#E5ECF6\", \"showlakes\": true, \"showland\": true, \"subunitcolor\": \"white\"}, \"hoverlabel\": {\"align\": \"left\"}, \"hovermode\": \"closest\", \"mapbox\": {\"style\": \"light\"}, \"paper_bgcolor\": \"white\", \"plot_bgcolor\": \"#E5ECF6\", \"polar\": {\"angularaxis\": {\"gridcolor\": \"white\", \"linecolor\": \"white\", \"ticks\": \"\"}, \"bgcolor\": \"#E5ECF6\", \"radialaxis\": {\"gridcolor\": \"white\", \"linecolor\": \"white\", \"ticks\": \"\"}}, \"scene\": {\"xaxis\": {\"backgroundcolor\": \"#E5ECF6\", \"gridcolor\": \"white\", \"gridwidth\": 2, \"linecolor\": \"white\", \"showbackground\": true, \"ticks\": \"\", \"zerolinecolor\": \"white\"}, \"yaxis\": {\"backgroundcolor\": \"#E5ECF6\", \"gridcolor\": \"white\", \"gridwidth\": 2, \"linecolor\": \"white\", \"showbackground\": true, \"ticks\": \"\", \"zerolinecolor\": \"white\"}, \"zaxis\": {\"backgroundcolor\": \"#E5ECF6\", \"gridcolor\": \"white\", \"gridwidth\": 2, \"linecolor\": \"white\", \"showbackground\": true, \"ticks\": \"\", \"zerolinecolor\": \"white\"}}, \"shapedefaults\": {\"line\": {\"color\": \"#2a3f5f\"}}, \"ternary\": {\"aaxis\": {\"gridcolor\": \"white\", \"linecolor\": \"white\", \"ticks\": \"\"}, \"baxis\": {\"gridcolor\": \"white\", \"linecolor\": \"white\", \"ticks\": \"\"}, \"bgcolor\": \"#E5ECF6\", \"caxis\": {\"gridcolor\": \"white\", \"linecolor\": \"white\", \"ticks\": \"\"}}, \"title\": {\"x\": 0.05}, \"xaxis\": {\"automargin\": true, \"gridcolor\": \"white\", \"linecolor\": \"white\", \"ticks\": \"\", \"title\": {\"standoff\": 15}, \"zerolinecolor\": \"white\", \"zerolinewidth\": 2}, \"yaxis\": {\"automargin\": true, \"gridcolor\": \"white\", \"linecolor\": \"white\", \"ticks\": \"\", \"title\": {\"standoff\": 15}, \"zerolinecolor\": \"white\", \"zerolinewidth\": 2}}}, \"title\": {\"text\": \"<b>\\uc5f0\\ub839\\ubcc4 \\ud655\\uc9c4\\uc790 \\uc218(2020.06.30)</b>\"}},\n",
              "                        {\"responsive\": true}\n",
              "                    ).then(function(){\n",
              "                            \n",
              "var gd = document.getElementById('0b4507e0-af7b-4a8d-90f3-25fd28c8f876');\n",
              "var x = new MutationObserver(function (mutations, observer) {{\n",
              "        var display = window.getComputedStyle(gd).display;\n",
              "        if (!display || display === 'none') {{\n",
              "            console.log([gd, 'removed!']);\n",
              "            Plotly.purge(gd);\n",
              "            observer.disconnect();\n",
              "        }}\n",
              "}});\n",
              "\n",
              "// Listen for the removal of the full notebook cells\n",
              "var notebookContainer = gd.closest('#notebook-container');\n",
              "if (notebookContainer) {{\n",
              "    x.observe(notebookContainer, {childList: true});\n",
              "}}\n",
              "\n",
              "// Listen for the clearing of the current output cell\n",
              "var outputEl = gd.closest('.output');\n",
              "if (outputEl) {{\n",
              "    x.observe(outputEl, {childList: true});\n",
              "}}\n",
              "\n",
              "                        })\n",
              "                };\n",
              "                \n",
              "            </script>\n",
              "        </div>\n",
              "</body>\n",
              "</html>"
            ]
          },
          "metadata": {
            "tags": []
          }
        }
      ]
    },
    {
      "cell_type": "code",
      "metadata": {
        "id": "Z1qRdYkE6I3O",
        "colab_type": "code",
        "colab": {
          "base_uri": "https://localhost:8080/",
          "height": 542
        },
        "outputId": "bd42e462-6293-4cee-efa3-6e0ce291ec52"
      },
      "source": [
        "# line charts :연령별 누적 확진자 수 추이 그래프\n",
        "fig = px.bar(covid_TimeAge, x='날짜', y='누적 사망자 수', \n",
        "             color = \"환자의 나이\", color_discrete_sequence = px.colors.qualitative.Pastel)\n",
        "\n",
        "fig.update_layout(title='<b>연령별 누적 사망자 수 추이</b>', \n",
        "                  plot_bgcolor=\"#FFFFFF\", yaxis_gridcolor = '#D5D5D5')\n",
        "\n",
        "fig.show()"
      ],
      "execution_count": 20,
      "outputs": [
        {
          "output_type": "display_data",
          "data": {
            "text/html": [
              "<html>\n",
              "<head><meta charset=\"utf-8\" /></head>\n",
              "<body>\n",
              "    <div>\n",
              "            <script src=\"https://cdnjs.cloudflare.com/ajax/libs/mathjax/2.7.5/MathJax.js?config=TeX-AMS-MML_SVG\"></script><script type=\"text/javascript\">if (window.MathJax) {MathJax.Hub.Config({SVG: {font: \"STIX-Web\"}});}</script>\n",
              "                <script type=\"text/javascript\">window.PlotlyConfig = {MathJaxConfig: 'local'};</script>\n",
              "        <script src=\"https://cdn.plot.ly/plotly-latest.min.js\"></script>    \n",
              "            <div id=\"38f16b1e-78e0-4606-829a-e2a05244f697\" class=\"plotly-graph-div\" style=\"height:525px; width:100%;\"></div>\n",
              "            <script type=\"text/javascript\">\n",
              "                \n",
              "                    window.PLOTLYENV=window.PLOTLYENV || {};\n",
              "                    \n",
              "                if (document.getElementById(\"38f16b1e-78e0-4606-829a-e2a05244f697\")) {\n",
              "                    Plotly.newPlot(\n",
              "                        '38f16b1e-78e0-4606-829a-e2a05244f697',\n",
              "                        [{\"alignmentgroup\": \"True\", \"hoverlabel\": {\"namelength\": 0}, \"hovertemplate\": \"\\ud658\\uc790\\uc758 \\ub098\\uc774=0s<br>\\ub0a0\\uc9dc=%{x}<br>\\ub204\\uc801 \\uc0ac\\ub9dd\\uc790 \\uc218=%{y}\", \"legendgroup\": \"\\ud658\\uc790\\uc758 \\ub098\\uc774=0s\", \"marker\": {\"color\": \"rgb(102, 197, 204)\"}, \"name\": \"\\ud658\\uc790\\uc758 \\ub098\\uc774=0s\", \"offsetgroup\": \"\\ud658\\uc790\\uc758 \\ub098\\uc774=0s\", \"orientation\": \"v\", \"showlegend\": true, \"textposition\": \"auto\", \"type\": \"bar\", \"x\": [\"2020-03-02\", \"2020-03-03\", \"2020-03-04\", \"2020-03-05\", \"2020-03-06\", \"2020-03-07\", \"2020-03-08\", \"2020-03-09\", \"2020-03-10\", \"2020-03-11\", \"2020-03-12\", \"2020-03-13\", \"2020-03-14\", \"2020-03-15\", \"2020-03-16\", \"2020-03-17\", \"2020-03-18\", \"2020-03-19\", \"2020-03-20\", \"2020-03-21\", \"2020-03-22\", \"2020-03-23\", \"2020-03-24\", \"2020-03-25\", \"2020-03-26\", \"2020-03-27\", \"2020-03-28\", \"2020-03-29\", \"2020-03-30\", \"2020-03-31\", \"2020-04-01\", \"2020-04-02\", \"2020-04-03\", \"2020-04-04\", \"2020-04-05\", \"2020-04-06\", \"2020-04-07\", \"2020-04-08\", \"2020-04-09\", \"2020-04-10\", \"2020-04-11\", \"2020-04-12\", \"2020-04-13\", \"2020-04-14\", \"2020-04-15\", \"2020-04-16\", \"2020-04-17\", \"2020-04-18\", \"2020-04-19\", \"2020-04-20\", \"2020-04-21\", \"2020-04-22\", \"2020-04-23\", \"2020-04-24\", \"2020-04-25\", \"2020-04-26\", \"2020-04-27\", \"2020-04-28\", \"2020-04-29\", \"2020-04-30\", \"2020-05-01\", \"2020-05-02\", \"2020-05-03\", \"2020-05-04\", \"2020-05-05\", \"2020-05-06\", \"2020-05-07\", \"2020-05-08\", \"2020-05-09\", \"2020-05-10\", \"2020-05-11\", \"2020-05-12\", \"2020-05-13\", \"2020-05-14\", \"2020-05-15\", \"2020-05-16\", \"2020-05-17\", \"2020-05-18\", \"2020-05-19\", \"2020-05-20\", \"2020-05-21\", \"2020-05-22\", \"2020-05-23\", \"2020-05-24\", \"2020-05-25\", \"2020-05-26\", \"2020-05-27\", \"2020-05-28\", \"2020-05-29\", \"2020-05-30\", \"2020-05-31\", \"2020-06-01\", \"2020-06-02\", \"2020-06-03\", \"2020-06-04\", \"2020-06-05\", \"2020-06-06\", \"2020-06-07\", \"2020-06-08\", \"2020-06-09\", \"2020-06-10\", \"2020-06-11\", \"2020-06-12\", \"2020-06-13\", \"2020-06-14\", \"2020-06-15\", \"2020-06-16\", \"2020-06-17\", \"2020-06-18\", \"2020-06-19\", \"2020-06-20\", \"2020-06-21\", \"2020-06-22\", \"2020-06-23\", \"2020-06-24\", \"2020-06-25\", \"2020-06-26\", \"2020-06-27\", \"2020-06-28\", \"2020-06-29\", \"2020-06-30\"], \"xaxis\": \"x\", \"y\": [0, 0, 0, 0, 0, 0, 0, 0, 0, 0, 0, 0, 0, 0, 0, 0, 0, 0, 0, 0, 0, 0, 0, 0, 0, 0, 0, 0, 0, 0, 0, 0, 0, 0, 0, 0, 0, 0, 0, 0, 0, 0, 0, 0, 0, 0, 0, 0, 0, 0, 0, 0, 0, 0, 0, 0, 0, 0, 0, 0, 0, 0, 0, 0, 0, 0, 0, 0, 0, 0, 0, 0, 0, 0, 0, 0, 0, 0, 0, 0, 0, 0, 0, 0, 0, 0, 0, 0, 0, 0, 0, 0, 0, 0, 0, 0, 0, 0, 0, 0, 0, 0, 0, 0, 0, 0, 0, 0, 0, 0, 0, 0, 0, 0, 0, 0, 0, 0, 0, 0, 0], \"yaxis\": \"y\"}, {\"alignmentgroup\": \"True\", \"hoverlabel\": {\"namelength\": 0}, \"hovertemplate\": \"\\ud658\\uc790\\uc758 \\ub098\\uc774=10s<br>\\ub0a0\\uc9dc=%{x}<br>\\ub204\\uc801 \\uc0ac\\ub9dd\\uc790 \\uc218=%{y}\", \"legendgroup\": \"\\ud658\\uc790\\uc758 \\ub098\\uc774=10s\", \"marker\": {\"color\": \"rgb(246, 207, 113)\"}, \"name\": \"\\ud658\\uc790\\uc758 \\ub098\\uc774=10s\", \"offsetgroup\": \"\\ud658\\uc790\\uc758 \\ub098\\uc774=10s\", \"orientation\": \"v\", \"showlegend\": true, \"textposition\": \"auto\", \"type\": \"bar\", \"x\": [\"2020-03-02\", \"2020-03-03\", \"2020-03-04\", \"2020-03-05\", \"2020-03-06\", \"2020-03-07\", \"2020-03-08\", \"2020-03-09\", \"2020-03-10\", \"2020-03-11\", \"2020-03-12\", \"2020-03-13\", \"2020-03-14\", \"2020-03-15\", \"2020-03-16\", \"2020-03-17\", \"2020-03-18\", \"2020-03-19\", \"2020-03-20\", \"2020-03-21\", \"2020-03-22\", \"2020-03-23\", \"2020-03-24\", \"2020-03-25\", \"2020-03-26\", \"2020-03-27\", \"2020-03-28\", \"2020-03-29\", \"2020-03-30\", \"2020-03-31\", \"2020-04-01\", \"2020-04-02\", \"2020-04-03\", \"2020-04-04\", \"2020-04-05\", \"2020-04-06\", \"2020-04-07\", \"2020-04-08\", \"2020-04-09\", \"2020-04-10\", \"2020-04-11\", \"2020-04-12\", \"2020-04-13\", \"2020-04-14\", \"2020-04-15\", \"2020-04-16\", \"2020-04-17\", \"2020-04-18\", \"2020-04-19\", \"2020-04-20\", \"2020-04-21\", \"2020-04-22\", \"2020-04-23\", \"2020-04-24\", \"2020-04-25\", \"2020-04-26\", \"2020-04-27\", \"2020-04-28\", \"2020-04-29\", \"2020-04-30\", \"2020-05-01\", \"2020-05-02\", \"2020-05-03\", \"2020-05-04\", \"2020-05-05\", \"2020-05-06\", \"2020-05-07\", \"2020-05-08\", \"2020-05-09\", \"2020-05-10\", \"2020-05-11\", \"2020-05-12\", \"2020-05-13\", \"2020-05-14\", \"2020-05-15\", \"2020-05-16\", \"2020-05-17\", \"2020-05-18\", \"2020-05-19\", \"2020-05-20\", \"2020-05-21\", \"2020-05-22\", \"2020-05-23\", \"2020-05-24\", \"2020-05-25\", \"2020-05-26\", \"2020-05-27\", \"2020-05-28\", \"2020-05-29\", \"2020-05-30\", \"2020-05-31\", \"2020-06-01\", \"2020-06-02\", \"2020-06-03\", \"2020-06-04\", \"2020-06-05\", \"2020-06-06\", \"2020-06-07\", \"2020-06-08\", \"2020-06-09\", \"2020-06-10\", \"2020-06-11\", \"2020-06-12\", \"2020-06-13\", \"2020-06-14\", \"2020-06-15\", \"2020-06-16\", \"2020-06-17\", \"2020-06-18\", \"2020-06-19\", \"2020-06-20\", \"2020-06-21\", \"2020-06-22\", \"2020-06-23\", \"2020-06-24\", \"2020-06-25\", \"2020-06-26\", \"2020-06-27\", \"2020-06-28\", \"2020-06-29\", \"2020-06-30\"], \"xaxis\": \"x\", \"y\": [0, 0, 0, 0, 0, 0, 0, 0, 0, 0, 0, 0, 0, 0, 0, 0, 0, 0, 0, 0, 0, 0, 0, 0, 0, 0, 0, 0, 0, 0, 0, 0, 0, 0, 0, 0, 0, 0, 0, 0, 0, 0, 0, 0, 0, 0, 0, 0, 0, 0, 0, 0, 0, 0, 0, 0, 0, 0, 0, 0, 0, 0, 0, 0, 0, 0, 0, 0, 0, 0, 0, 0, 0, 0, 0, 0, 0, 0, 0, 0, 0, 0, 0, 0, 0, 0, 0, 0, 0, 0, 0, 0, 0, 0, 0, 0, 0, 0, 0, 0, 0, 0, 0, 0, 0, 0, 0, 0, 0, 0, 0, 0, 0, 0, 0, 0, 0, 0, 0, 0, 0], \"yaxis\": \"y\"}, {\"alignmentgroup\": \"True\", \"hoverlabel\": {\"namelength\": 0}, \"hovertemplate\": \"\\ud658\\uc790\\uc758 \\ub098\\uc774=20s<br>\\ub0a0\\uc9dc=%{x}<br>\\ub204\\uc801 \\uc0ac\\ub9dd\\uc790 \\uc218=%{y}\", \"legendgroup\": \"\\ud658\\uc790\\uc758 \\ub098\\uc774=20s\", \"marker\": {\"color\": \"rgb(248, 156, 116)\"}, \"name\": \"\\ud658\\uc790\\uc758 \\ub098\\uc774=20s\", \"offsetgroup\": \"\\ud658\\uc790\\uc758 \\ub098\\uc774=20s\", \"orientation\": \"v\", \"showlegend\": true, \"textposition\": \"auto\", \"type\": \"bar\", \"x\": [\"2020-03-02\", \"2020-03-03\", \"2020-03-04\", \"2020-03-05\", \"2020-03-06\", \"2020-03-07\", \"2020-03-08\", \"2020-03-09\", \"2020-03-10\", \"2020-03-11\", \"2020-03-12\", \"2020-03-13\", \"2020-03-14\", \"2020-03-15\", \"2020-03-16\", \"2020-03-17\", \"2020-03-18\", \"2020-03-19\", \"2020-03-20\", \"2020-03-21\", \"2020-03-22\", \"2020-03-23\", \"2020-03-24\", \"2020-03-25\", \"2020-03-26\", \"2020-03-27\", \"2020-03-28\", \"2020-03-29\", \"2020-03-30\", \"2020-03-31\", \"2020-04-01\", \"2020-04-02\", \"2020-04-03\", \"2020-04-04\", \"2020-04-05\", \"2020-04-06\", \"2020-04-07\", \"2020-04-08\", \"2020-04-09\", \"2020-04-10\", \"2020-04-11\", \"2020-04-12\", \"2020-04-13\", \"2020-04-14\", \"2020-04-15\", \"2020-04-16\", \"2020-04-17\", \"2020-04-18\", \"2020-04-19\", \"2020-04-20\", \"2020-04-21\", \"2020-04-22\", \"2020-04-23\", \"2020-04-24\", \"2020-04-25\", \"2020-04-26\", \"2020-04-27\", \"2020-04-28\", \"2020-04-29\", \"2020-04-30\", \"2020-05-01\", \"2020-05-02\", \"2020-05-03\", \"2020-05-04\", \"2020-05-05\", \"2020-05-06\", \"2020-05-07\", \"2020-05-08\", \"2020-05-09\", \"2020-05-10\", \"2020-05-11\", \"2020-05-12\", \"2020-05-13\", \"2020-05-14\", \"2020-05-15\", \"2020-05-16\", \"2020-05-17\", \"2020-05-18\", \"2020-05-19\", \"2020-05-20\", \"2020-05-21\", \"2020-05-22\", \"2020-05-23\", \"2020-05-24\", \"2020-05-25\", \"2020-05-26\", \"2020-05-27\", \"2020-05-28\", \"2020-05-29\", \"2020-05-30\", \"2020-05-31\", \"2020-06-01\", \"2020-06-02\", \"2020-06-03\", \"2020-06-04\", \"2020-06-05\", \"2020-06-06\", \"2020-06-07\", \"2020-06-08\", \"2020-06-09\", \"2020-06-10\", \"2020-06-11\", \"2020-06-12\", \"2020-06-13\", \"2020-06-14\", \"2020-06-15\", \"2020-06-16\", \"2020-06-17\", \"2020-06-18\", \"2020-06-19\", \"2020-06-20\", \"2020-06-21\", \"2020-06-22\", \"2020-06-23\", \"2020-06-24\", \"2020-06-25\", \"2020-06-26\", \"2020-06-27\", \"2020-06-28\", \"2020-06-29\", \"2020-06-30\"], \"xaxis\": \"x\", \"y\": [0, 0, 0, 0, 0, 0, 0, 0, 0, 0, 0, 0, 0, 0, 0, 0, 0, 0, 0, 0, 0, 0, 0, 0, 0, 0, 0, 0, 0, 0, 0, 0, 0, 0, 0, 0, 0, 0, 0, 0, 0, 0, 0, 0, 0, 0, 0, 0, 0, 0, 0, 0, 0, 0, 0, 0, 0, 0, 0, 0, 0, 0, 0, 0, 0, 0, 0, 0, 0, 0, 0, 0, 0, 0, 0, 0, 0, 0, 0, 0, 0, 0, 0, 0, 0, 0, 0, 0, 0, 0, 0, 0, 0, 0, 0, 0, 0, 0, 0, 0, 0, 0, 0, 0, 0, 0, 0, 0, 0, 0, 0, 0, 0, 0, 0, 0, 0, 0, 0, 0, 0], \"yaxis\": \"y\"}, {\"alignmentgroup\": \"True\", \"hoverlabel\": {\"namelength\": 0}, \"hovertemplate\": \"\\ud658\\uc790\\uc758 \\ub098\\uc774=30s<br>\\ub0a0\\uc9dc=%{x}<br>\\ub204\\uc801 \\uc0ac\\ub9dd\\uc790 \\uc218=%{y}\", \"legendgroup\": \"\\ud658\\uc790\\uc758 \\ub098\\uc774=30s\", \"marker\": {\"color\": \"rgb(220, 176, 242)\"}, \"name\": \"\\ud658\\uc790\\uc758 \\ub098\\uc774=30s\", \"offsetgroup\": \"\\ud658\\uc790\\uc758 \\ub098\\uc774=30s\", \"orientation\": \"v\", \"showlegend\": true, \"textposition\": \"auto\", \"type\": \"bar\", \"x\": [\"2020-03-02\", \"2020-03-03\", \"2020-03-04\", \"2020-03-05\", \"2020-03-06\", \"2020-03-07\", \"2020-03-08\", \"2020-03-09\", \"2020-03-10\", \"2020-03-11\", \"2020-03-12\", \"2020-03-13\", \"2020-03-14\", \"2020-03-15\", \"2020-03-16\", \"2020-03-17\", \"2020-03-18\", \"2020-03-19\", \"2020-03-20\", \"2020-03-21\", \"2020-03-22\", \"2020-03-23\", \"2020-03-24\", \"2020-03-25\", \"2020-03-26\", \"2020-03-27\", \"2020-03-28\", \"2020-03-29\", \"2020-03-30\", \"2020-03-31\", \"2020-04-01\", \"2020-04-02\", \"2020-04-03\", \"2020-04-04\", \"2020-04-05\", \"2020-04-06\", \"2020-04-07\", \"2020-04-08\", \"2020-04-09\", \"2020-04-10\", \"2020-04-11\", \"2020-04-12\", \"2020-04-13\", \"2020-04-14\", \"2020-04-15\", \"2020-04-16\", \"2020-04-17\", \"2020-04-18\", \"2020-04-19\", \"2020-04-20\", \"2020-04-21\", \"2020-04-22\", \"2020-04-23\", \"2020-04-24\", \"2020-04-25\", \"2020-04-26\", \"2020-04-27\", \"2020-04-28\", \"2020-04-29\", \"2020-04-30\", \"2020-05-01\", \"2020-05-02\", \"2020-05-03\", \"2020-05-04\", \"2020-05-05\", \"2020-05-06\", \"2020-05-07\", \"2020-05-08\", \"2020-05-09\", \"2020-05-10\", \"2020-05-11\", \"2020-05-12\", \"2020-05-13\", \"2020-05-14\", \"2020-05-15\", \"2020-05-16\", \"2020-05-17\", \"2020-05-18\", \"2020-05-19\", \"2020-05-20\", \"2020-05-21\", \"2020-05-22\", \"2020-05-23\", \"2020-05-24\", \"2020-05-25\", \"2020-05-26\", \"2020-05-27\", \"2020-05-28\", \"2020-05-29\", \"2020-05-30\", \"2020-05-31\", \"2020-06-01\", \"2020-06-02\", \"2020-06-03\", \"2020-06-04\", \"2020-06-05\", \"2020-06-06\", \"2020-06-07\", \"2020-06-08\", \"2020-06-09\", \"2020-06-10\", \"2020-06-11\", \"2020-06-12\", \"2020-06-13\", \"2020-06-14\", \"2020-06-15\", \"2020-06-16\", \"2020-06-17\", \"2020-06-18\", \"2020-06-19\", \"2020-06-20\", \"2020-06-21\", \"2020-06-22\", \"2020-06-23\", \"2020-06-24\", \"2020-06-25\", \"2020-06-26\", \"2020-06-27\", \"2020-06-28\", \"2020-06-29\", \"2020-06-30\"], \"xaxis\": \"x\", \"y\": [1, 1, 1, 1, 1, 1, 1, 1, 1, 1, 1, 1, 1, 1, 1, 1, 1, 1, 1, 1, 1, 1, 1, 1, 1, 1, 1, 1, 1, 1, 1, 1, 1, 1, 1, 1, 1, 1, 1, 1, 1, 1, 1, 1, 1, 1, 1, 1, 2, 2, 2, 2, 2, 2, 2, 2, 2, 2, 2, 2, 2, 2, 2, 2, 2, 2, 2, 2, 2, 2, 2, 2, 2, 2, 2, 2, 2, 2, 2, 2, 2, 2, 2, 2, 2, 2, 2, 2, 2, 2, 2, 2, 2, 2, 2, 2, 2, 2, 2, 2, 2, 2, 2, 2, 2, 2, 2, 2, 2, 2, 2, 2, 2, 2, 2, 2, 2, 2, 2, 2, 2], \"yaxis\": \"y\"}, {\"alignmentgroup\": \"True\", \"hoverlabel\": {\"namelength\": 0}, \"hovertemplate\": \"\\ud658\\uc790\\uc758 \\ub098\\uc774=40s<br>\\ub0a0\\uc9dc=%{x}<br>\\ub204\\uc801 \\uc0ac\\ub9dd\\uc790 \\uc218=%{y}\", \"legendgroup\": \"\\ud658\\uc790\\uc758 \\ub098\\uc774=40s\", \"marker\": {\"color\": \"rgb(135, 197, 95)\"}, \"name\": \"\\ud658\\uc790\\uc758 \\ub098\\uc774=40s\", \"offsetgroup\": \"\\ud658\\uc790\\uc758 \\ub098\\uc774=40s\", \"orientation\": \"v\", \"showlegend\": true, \"textposition\": \"auto\", \"type\": \"bar\", \"x\": [\"2020-03-02\", \"2020-03-03\", \"2020-03-04\", \"2020-03-05\", \"2020-03-06\", \"2020-03-07\", \"2020-03-08\", \"2020-03-09\", \"2020-03-10\", \"2020-03-11\", \"2020-03-12\", \"2020-03-13\", \"2020-03-14\", \"2020-03-15\", \"2020-03-16\", \"2020-03-17\", \"2020-03-18\", \"2020-03-19\", \"2020-03-20\", \"2020-03-21\", \"2020-03-22\", \"2020-03-23\", \"2020-03-24\", \"2020-03-25\", \"2020-03-26\", \"2020-03-27\", \"2020-03-28\", \"2020-03-29\", \"2020-03-30\", \"2020-03-31\", \"2020-04-01\", \"2020-04-02\", \"2020-04-03\", \"2020-04-04\", \"2020-04-05\", \"2020-04-06\", \"2020-04-07\", \"2020-04-08\", \"2020-04-09\", \"2020-04-10\", \"2020-04-11\", \"2020-04-12\", \"2020-04-13\", \"2020-04-14\", \"2020-04-15\", \"2020-04-16\", \"2020-04-17\", \"2020-04-18\", \"2020-04-19\", \"2020-04-20\", \"2020-04-21\", \"2020-04-22\", \"2020-04-23\", \"2020-04-24\", \"2020-04-25\", \"2020-04-26\", \"2020-04-27\", \"2020-04-28\", \"2020-04-29\", \"2020-04-30\", \"2020-05-01\", \"2020-05-02\", \"2020-05-03\", \"2020-05-04\", \"2020-05-05\", \"2020-05-06\", \"2020-05-07\", \"2020-05-08\", \"2020-05-09\", \"2020-05-10\", \"2020-05-11\", \"2020-05-12\", \"2020-05-13\", \"2020-05-14\", \"2020-05-15\", \"2020-05-16\", \"2020-05-17\", \"2020-05-18\", \"2020-05-19\", \"2020-05-20\", \"2020-05-21\", \"2020-05-22\", \"2020-05-23\", \"2020-05-24\", \"2020-05-25\", \"2020-05-26\", \"2020-05-27\", \"2020-05-28\", \"2020-05-29\", \"2020-05-30\", \"2020-05-31\", \"2020-06-01\", \"2020-06-02\", \"2020-06-03\", \"2020-06-04\", \"2020-06-05\", \"2020-06-06\", \"2020-06-07\", \"2020-06-08\", \"2020-06-09\", \"2020-06-10\", \"2020-06-11\", \"2020-06-12\", \"2020-06-13\", \"2020-06-14\", \"2020-06-15\", \"2020-06-16\", \"2020-06-17\", \"2020-06-18\", \"2020-06-19\", \"2020-06-20\", \"2020-06-21\", \"2020-06-22\", \"2020-06-23\", \"2020-06-24\", \"2020-06-25\", \"2020-06-26\", \"2020-06-27\", \"2020-06-28\", \"2020-06-29\", \"2020-06-30\"], \"xaxis\": \"x\", \"y\": [1, 1, 1, 1, 1, 1, 1, 1, 1, 1, 1, 1, 1, 1, 1, 1, 1, 1, 1, 1, 1, 1, 1, 1, 1, 1, 1, 1, 1, 1, 1, 2, 2, 2, 2, 2, 2, 3, 3, 3, 3, 3, 3, 3, 3, 3, 3, 3, 3, 3, 3, 3, 3, 3, 3, 3, 3, 3, 3, 3, 3, 3, 3, 3, 3, 3, 3, 3, 3, 3, 3, 3, 3, 3, 3, 3, 3, 3, 3, 3, 3, 3, 3, 3, 3, 3, 3, 3, 3, 3, 3, 3, 3, 3, 3, 3, 3, 3, 3, 3, 3, 3, 3, 3, 3, 3, 3, 3, 3, 3, 3, 3, 3, 3, 3, 3, 3, 3, 3, 3, 3], \"yaxis\": \"y\"}, {\"alignmentgroup\": \"True\", \"hoverlabel\": {\"namelength\": 0}, \"hovertemplate\": \"\\ud658\\uc790\\uc758 \\ub098\\uc774=50s<br>\\ub0a0\\uc9dc=%{x}<br>\\ub204\\uc801 \\uc0ac\\ub9dd\\uc790 \\uc218=%{y}\", \"legendgroup\": \"\\ud658\\uc790\\uc758 \\ub098\\uc774=50s\", \"marker\": {\"color\": \"rgb(158, 185, 243)\"}, \"name\": \"\\ud658\\uc790\\uc758 \\ub098\\uc774=50s\", \"offsetgroup\": \"\\ud658\\uc790\\uc758 \\ub098\\uc774=50s\", \"orientation\": \"v\", \"showlegend\": true, \"textposition\": \"auto\", \"type\": \"bar\", \"x\": [\"2020-03-02\", \"2020-03-03\", \"2020-03-04\", \"2020-03-05\", \"2020-03-06\", \"2020-03-07\", \"2020-03-08\", \"2020-03-09\", \"2020-03-10\", \"2020-03-11\", \"2020-03-12\", \"2020-03-13\", \"2020-03-14\", \"2020-03-15\", \"2020-03-16\", \"2020-03-17\", \"2020-03-18\", \"2020-03-19\", \"2020-03-20\", \"2020-03-21\", \"2020-03-22\", \"2020-03-23\", \"2020-03-24\", \"2020-03-25\", \"2020-03-26\", \"2020-03-27\", \"2020-03-28\", \"2020-03-29\", \"2020-03-30\", \"2020-03-31\", \"2020-04-01\", \"2020-04-02\", \"2020-04-03\", \"2020-04-04\", \"2020-04-05\", \"2020-04-06\", \"2020-04-07\", \"2020-04-08\", \"2020-04-09\", \"2020-04-10\", \"2020-04-11\", \"2020-04-12\", \"2020-04-13\", \"2020-04-14\", \"2020-04-15\", \"2020-04-16\", \"2020-04-17\", \"2020-04-18\", \"2020-04-19\", \"2020-04-20\", \"2020-04-21\", \"2020-04-22\", \"2020-04-23\", \"2020-04-24\", \"2020-04-25\", \"2020-04-26\", \"2020-04-27\", \"2020-04-28\", \"2020-04-29\", \"2020-04-30\", \"2020-05-01\", \"2020-05-02\", \"2020-05-03\", \"2020-05-04\", \"2020-05-05\", \"2020-05-06\", \"2020-05-07\", \"2020-05-08\", \"2020-05-09\", \"2020-05-10\", \"2020-05-11\", \"2020-05-12\", \"2020-05-13\", \"2020-05-14\", \"2020-05-15\", \"2020-05-16\", \"2020-05-17\", \"2020-05-18\", \"2020-05-19\", \"2020-05-20\", \"2020-05-21\", \"2020-05-22\", \"2020-05-23\", \"2020-05-24\", \"2020-05-25\", \"2020-05-26\", \"2020-05-27\", \"2020-05-28\", \"2020-05-29\", \"2020-05-30\", \"2020-05-31\", \"2020-06-01\", \"2020-06-02\", \"2020-06-03\", \"2020-06-04\", \"2020-06-05\", \"2020-06-06\", \"2020-06-07\", \"2020-06-08\", \"2020-06-09\", \"2020-06-10\", \"2020-06-11\", \"2020-06-12\", \"2020-06-13\", \"2020-06-14\", \"2020-06-15\", \"2020-06-16\", \"2020-06-17\", \"2020-06-18\", \"2020-06-19\", \"2020-06-20\", \"2020-06-21\", \"2020-06-22\", \"2020-06-23\", \"2020-06-24\", \"2020-06-25\", \"2020-06-26\", \"2020-06-27\", \"2020-06-28\", \"2020-06-29\", \"2020-06-30\"], \"xaxis\": \"x\", \"y\": [5, 5, 5, 5, 5, 5, 5, 5, 5, 6, 6, 6, 6, 6, 6, 6, 6, 7, 7, 7, 7, 7, 8, 10, 10, 10, 10, 10, 10, 10, 10, 11, 12, 12, 13, 13, 13, 13, 13, 13, 14, 14, 14, 14, 14, 14, 14, 15, 15, 15, 15, 15, 15, 15, 15, 15, 15, 15, 15, 15, 15, 15, 15, 15, 15, 15, 15, 15, 15, 15, 15, 15, 15, 15, 15, 15, 15, 15, 15, 15, 15, 15, 15, 15, 15, 15, 15, 15, 15, 15, 15, 15, 15, 15, 15, 15, 15, 15, 15, 15, 15, 15, 15, 15, 15, 15, 15, 15, 15, 15, 15, 15, 15, 15, 15, 15, 15, 15, 15, 15, 15], \"yaxis\": \"y\"}, {\"alignmentgroup\": \"True\", \"hoverlabel\": {\"namelength\": 0}, \"hovertemplate\": \"\\ud658\\uc790\\uc758 \\ub098\\uc774=60s<br>\\ub0a0\\uc9dc=%{x}<br>\\ub204\\uc801 \\uc0ac\\ub9dd\\uc790 \\uc218=%{y}\", \"legendgroup\": \"\\ud658\\uc790\\uc758 \\ub098\\uc774=60s\", \"marker\": {\"color\": \"rgb(254, 136, 177)\"}, \"name\": \"\\ud658\\uc790\\uc758 \\ub098\\uc774=60s\", \"offsetgroup\": \"\\ud658\\uc790\\uc758 \\ub098\\uc774=60s\", \"orientation\": \"v\", \"showlegend\": true, \"textposition\": \"auto\", \"type\": \"bar\", \"x\": [\"2020-03-02\", \"2020-03-03\", \"2020-03-04\", \"2020-03-05\", \"2020-03-06\", \"2020-03-07\", \"2020-03-08\", \"2020-03-09\", \"2020-03-10\", \"2020-03-11\", \"2020-03-12\", \"2020-03-13\", \"2020-03-14\", \"2020-03-15\", \"2020-03-16\", \"2020-03-17\", \"2020-03-18\", \"2020-03-19\", \"2020-03-20\", \"2020-03-21\", \"2020-03-22\", \"2020-03-23\", \"2020-03-24\", \"2020-03-25\", \"2020-03-26\", \"2020-03-27\", \"2020-03-28\", \"2020-03-29\", \"2020-03-30\", \"2020-03-31\", \"2020-04-01\", \"2020-04-02\", \"2020-04-03\", \"2020-04-04\", \"2020-04-05\", \"2020-04-06\", \"2020-04-07\", \"2020-04-08\", \"2020-04-09\", \"2020-04-10\", \"2020-04-11\", \"2020-04-12\", \"2020-04-13\", \"2020-04-14\", \"2020-04-15\", \"2020-04-16\", \"2020-04-17\", \"2020-04-18\", \"2020-04-19\", \"2020-04-20\", \"2020-04-21\", \"2020-04-22\", \"2020-04-23\", \"2020-04-24\", \"2020-04-25\", \"2020-04-26\", \"2020-04-27\", \"2020-04-28\", \"2020-04-29\", \"2020-04-30\", \"2020-05-01\", \"2020-05-02\", \"2020-05-03\", \"2020-05-04\", \"2020-05-05\", \"2020-05-06\", \"2020-05-07\", \"2020-05-08\", \"2020-05-09\", \"2020-05-10\", \"2020-05-11\", \"2020-05-12\", \"2020-05-13\", \"2020-05-14\", \"2020-05-15\", \"2020-05-16\", \"2020-05-17\", \"2020-05-18\", \"2020-05-19\", \"2020-05-20\", \"2020-05-21\", \"2020-05-22\", \"2020-05-23\", \"2020-05-24\", \"2020-05-25\", \"2020-05-26\", \"2020-05-27\", \"2020-05-28\", \"2020-05-29\", \"2020-05-30\", \"2020-05-31\", \"2020-06-01\", \"2020-06-02\", \"2020-06-03\", \"2020-06-04\", \"2020-06-05\", \"2020-06-06\", \"2020-06-07\", \"2020-06-08\", \"2020-06-09\", \"2020-06-10\", \"2020-06-11\", \"2020-06-12\", \"2020-06-13\", \"2020-06-14\", \"2020-06-15\", \"2020-06-16\", \"2020-06-17\", \"2020-06-18\", \"2020-06-19\", \"2020-06-20\", \"2020-06-21\", \"2020-06-22\", \"2020-06-23\", \"2020-06-24\", \"2020-06-25\", \"2020-06-26\", \"2020-06-27\", \"2020-06-28\", \"2020-06-29\", \"2020-06-30\"], \"xaxis\": \"x\", \"y\": [6, 7, 7, 8, 11, 11, 11, 12, 13, 14, 14, 14, 14, 14, 14, 16, 16, 17, 17, 17, 17, 18, 20, 20, 20, 21, 21, 21, 21, 22, 23, 23, 24, 25, 25, 26, 26, 27, 27, 28, 29, 31, 32, 33, 33, 33, 33, 33, 34, 34, 34, 34, 35, 35, 35, 35, 35, 35, 35, 35, 35, 35, 35, 36, 36, 36, 37, 37, 37, 37, 37, 37, 37, 38, 38, 38, 38, 38, 38, 38, 38, 38, 39, 39, 39, 39, 39, 39, 39, 39, 39, 39, 39, 39, 39, 39, 39, 39, 39, 39, 39, 39, 40, 40, 40, 40, 40, 40, 40, 40, 40, 40, 40, 41, 41, 41, 41, 41, 41, 41, 41], \"yaxis\": \"y\"}, {\"alignmentgroup\": \"True\", \"hoverlabel\": {\"namelength\": 0}, \"hovertemplate\": \"\\ud658\\uc790\\uc758 \\ub098\\uc774=70s<br>\\ub0a0\\uc9dc=%{x}<br>\\ub204\\uc801 \\uc0ac\\ub9dd\\uc790 \\uc218=%{y}\", \"legendgroup\": \"\\ud658\\uc790\\uc758 \\ub098\\uc774=70s\", \"marker\": {\"color\": \"rgb(201, 219, 116)\"}, \"name\": \"\\ud658\\uc790\\uc758 \\ub098\\uc774=70s\", \"offsetgroup\": \"\\ud658\\uc790\\uc758 \\ub098\\uc774=70s\", \"orientation\": \"v\", \"showlegend\": true, \"textposition\": \"auto\", \"type\": \"bar\", \"x\": [\"2020-03-02\", \"2020-03-03\", \"2020-03-04\", \"2020-03-05\", \"2020-03-06\", \"2020-03-07\", \"2020-03-08\", \"2020-03-09\", \"2020-03-10\", \"2020-03-11\", \"2020-03-12\", \"2020-03-13\", \"2020-03-14\", \"2020-03-15\", \"2020-03-16\", \"2020-03-17\", \"2020-03-18\", \"2020-03-19\", \"2020-03-20\", \"2020-03-21\", \"2020-03-22\", \"2020-03-23\", \"2020-03-24\", \"2020-03-25\", \"2020-03-26\", \"2020-03-27\", \"2020-03-28\", \"2020-03-29\", \"2020-03-30\", \"2020-03-31\", \"2020-04-01\", \"2020-04-02\", \"2020-04-03\", \"2020-04-04\", \"2020-04-05\", \"2020-04-06\", \"2020-04-07\", \"2020-04-08\", \"2020-04-09\", \"2020-04-10\", \"2020-04-11\", \"2020-04-12\", \"2020-04-13\", \"2020-04-14\", \"2020-04-15\", \"2020-04-16\", \"2020-04-17\", \"2020-04-18\", \"2020-04-19\", \"2020-04-20\", \"2020-04-21\", \"2020-04-22\", \"2020-04-23\", \"2020-04-24\", \"2020-04-25\", \"2020-04-26\", \"2020-04-27\", \"2020-04-28\", \"2020-04-29\", \"2020-04-30\", \"2020-05-01\", \"2020-05-02\", \"2020-05-03\", \"2020-05-04\", \"2020-05-05\", \"2020-05-06\", \"2020-05-07\", \"2020-05-08\", \"2020-05-09\", \"2020-05-10\", \"2020-05-11\", \"2020-05-12\", \"2020-05-13\", \"2020-05-14\", \"2020-05-15\", \"2020-05-16\", \"2020-05-17\", \"2020-05-18\", \"2020-05-19\", \"2020-05-20\", \"2020-05-21\", \"2020-05-22\", \"2020-05-23\", \"2020-05-24\", \"2020-05-25\", \"2020-05-26\", \"2020-05-27\", \"2020-05-28\", \"2020-05-29\", \"2020-05-30\", \"2020-05-31\", \"2020-06-01\", \"2020-06-02\", \"2020-06-03\", \"2020-06-04\", \"2020-06-05\", \"2020-06-06\", \"2020-06-07\", \"2020-06-08\", \"2020-06-09\", \"2020-06-10\", \"2020-06-11\", \"2020-06-12\", \"2020-06-13\", \"2020-06-14\", \"2020-06-15\", \"2020-06-16\", \"2020-06-17\", \"2020-06-18\", \"2020-06-19\", \"2020-06-20\", \"2020-06-21\", \"2020-06-22\", \"2020-06-23\", \"2020-06-24\", \"2020-06-25\", \"2020-06-26\", \"2020-06-27\", \"2020-06-28\", \"2020-06-29\", \"2020-06-30\"], \"xaxis\": \"x\", \"y\": [6, 9, 12, 13, 14, 14, 18, 18, 19, 21, 24, 24, 27, 28, 28, 29, 29, 34, 35, 37, 37, 38, 38, 39, 41, 41, 41, 43, 45, 46, 46, 47, 49, 50, 51, 52, 57, 60, 60, 62, 63, 63, 64, 65, 68, 68, 68, 68, 68, 69, 70, 71, 71, 71, 71, 72, 72, 73, 73, 74, 75, 75, 75, 76, 76, 77, 77, 77, 77, 77, 77, 77, 77, 77, 77, 77, 77, 78, 78, 78, 78, 78, 78, 78, 79, 79, 79, 79, 79, 79, 80, 80, 80, 81, 81, 81, 81, 81, 81, 81, 81, 81, 81, 81, 81, 81, 81, 81, 81, 81, 81, 81, 81, 81, 81, 82, 82, 82, 82, 82, 82], \"yaxis\": \"y\"}, {\"alignmentgroup\": \"True\", \"hoverlabel\": {\"namelength\": 0}, \"hovertemplate\": \"\\ud658\\uc790\\uc758 \\ub098\\uc774=80s<br>\\ub0a0\\uc9dc=%{x}<br>\\ub204\\uc801 \\uc0ac\\ub9dd\\uc790 \\uc218=%{y}\", \"legendgroup\": \"\\ud658\\uc790\\uc758 \\ub098\\uc774=80s\", \"marker\": {\"color\": \"rgb(139, 224, 164)\"}, \"name\": \"\\ud658\\uc790\\uc758 \\ub098\\uc774=80s\", \"offsetgroup\": \"\\ud658\\uc790\\uc758 \\ub098\\uc774=80s\", \"orientation\": \"v\", \"showlegend\": true, \"textposition\": \"auto\", \"type\": \"bar\", \"x\": [\"2020-03-02\", \"2020-03-03\", \"2020-03-04\", \"2020-03-05\", \"2020-03-06\", \"2020-03-07\", \"2020-03-08\", \"2020-03-09\", \"2020-03-10\", \"2020-03-11\", \"2020-03-12\", \"2020-03-13\", \"2020-03-14\", \"2020-03-15\", \"2020-03-16\", \"2020-03-17\", \"2020-03-18\", \"2020-03-19\", \"2020-03-20\", \"2020-03-21\", \"2020-03-22\", \"2020-03-23\", \"2020-03-24\", \"2020-03-25\", \"2020-03-26\", \"2020-03-27\", \"2020-03-28\", \"2020-03-29\", \"2020-03-30\", \"2020-03-31\", \"2020-04-01\", \"2020-04-02\", \"2020-04-03\", \"2020-04-04\", \"2020-04-05\", \"2020-04-06\", \"2020-04-07\", \"2020-04-08\", \"2020-04-09\", \"2020-04-10\", \"2020-04-11\", \"2020-04-12\", \"2020-04-13\", \"2020-04-14\", \"2020-04-15\", \"2020-04-16\", \"2020-04-17\", \"2020-04-18\", \"2020-04-19\", \"2020-04-20\", \"2020-04-21\", \"2020-04-22\", \"2020-04-23\", \"2020-04-24\", \"2020-04-25\", \"2020-04-26\", \"2020-04-27\", \"2020-04-28\", \"2020-04-29\", \"2020-04-30\", \"2020-05-01\", \"2020-05-02\", \"2020-05-03\", \"2020-05-04\", \"2020-05-05\", \"2020-05-06\", \"2020-05-07\", \"2020-05-08\", \"2020-05-09\", \"2020-05-10\", \"2020-05-11\", \"2020-05-12\", \"2020-05-13\", \"2020-05-14\", \"2020-05-15\", \"2020-05-16\", \"2020-05-17\", \"2020-05-18\", \"2020-05-19\", \"2020-05-20\", \"2020-05-21\", \"2020-05-22\", \"2020-05-23\", \"2020-05-24\", \"2020-05-25\", \"2020-05-26\", \"2020-05-27\", \"2020-05-28\", \"2020-05-29\", \"2020-05-30\", \"2020-05-31\", \"2020-06-01\", \"2020-06-02\", \"2020-06-03\", \"2020-06-04\", \"2020-06-05\", \"2020-06-06\", \"2020-06-07\", \"2020-06-08\", \"2020-06-09\", \"2020-06-10\", \"2020-06-11\", \"2020-06-12\", \"2020-06-13\", \"2020-06-14\", \"2020-06-15\", \"2020-06-16\", \"2020-06-17\", \"2020-06-18\", \"2020-06-19\", \"2020-06-20\", \"2020-06-21\", \"2020-06-22\", \"2020-06-23\", \"2020-06-24\", \"2020-06-25\", \"2020-06-26\", \"2020-06-27\", \"2020-06-28\", \"2020-06-29\", \"2020-06-30\"], \"xaxis\": \"x\", \"y\": [3, 5, 6, 7, 10, 12, 14, 14, 15, 17, 20, 21, 23, 25, 25, 28, 31, 31, 33, 39, 41, 46, 52, 55, 58, 65, 70, 76, 80, 82, 84, 85, 86, 87, 91, 92, 93, 96, 100, 101, 101, 102, 103, 106, 106, 110, 111, 112, 112, 113, 113, 113, 114, 114, 114, 115, 116, 116, 118, 118, 118, 120, 120, 120, 122, 122, 122, 122, 122, 122, 122, 124, 125, 125, 125, 127, 127, 127, 127, 127, 128, 128, 129, 129, 129, 131, 131, 131, 131, 131, 131, 132, 133, 133, 133, 133, 133, 133, 133, 134, 136, 136, 136, 136, 136, 136, 137, 138, 139, 139, 139, 139, 139, 139, 139, 139, 139, 139, 139, 139, 139], \"yaxis\": \"y\"}],\n",
              "                        {\"barmode\": \"relative\", \"legend\": {\"tracegroupgap\": 0}, \"margin\": {\"t\": 60}, \"plot_bgcolor\": \"#FFFFFF\", \"template\": {\"data\": {\"bar\": [{\"error_x\": {\"color\": \"#2a3f5f\"}, \"error_y\": {\"color\": \"#2a3f5f\"}, \"marker\": {\"line\": {\"color\": \"#E5ECF6\", \"width\": 0.5}}, \"type\": \"bar\"}], \"barpolar\": [{\"marker\": {\"line\": {\"color\": \"#E5ECF6\", \"width\": 0.5}}, \"type\": \"barpolar\"}], \"carpet\": [{\"aaxis\": {\"endlinecolor\": \"#2a3f5f\", \"gridcolor\": \"white\", \"linecolor\": \"white\", \"minorgridcolor\": \"white\", \"startlinecolor\": \"#2a3f5f\"}, \"baxis\": {\"endlinecolor\": \"#2a3f5f\", \"gridcolor\": \"white\", \"linecolor\": \"white\", \"minorgridcolor\": \"white\", \"startlinecolor\": \"#2a3f5f\"}, \"type\": \"carpet\"}], \"choropleth\": [{\"colorbar\": {\"outlinewidth\": 0, \"ticks\": \"\"}, \"type\": \"choropleth\"}], \"contour\": [{\"colorbar\": {\"outlinewidth\": 0, \"ticks\": \"\"}, \"colorscale\": [[0.0, \"#0d0887\"], [0.1111111111111111, \"#46039f\"], [0.2222222222222222, \"#7201a8\"], [0.3333333333333333, \"#9c179e\"], [0.4444444444444444, \"#bd3786\"], [0.5555555555555556, \"#d8576b\"], [0.6666666666666666, \"#ed7953\"], [0.7777777777777778, \"#fb9f3a\"], [0.8888888888888888, \"#fdca26\"], [1.0, \"#f0f921\"]], \"type\": \"contour\"}], \"contourcarpet\": [{\"colorbar\": {\"outlinewidth\": 0, \"ticks\": \"\"}, \"type\": \"contourcarpet\"}], \"heatmap\": [{\"colorbar\": {\"outlinewidth\": 0, \"ticks\": \"\"}, \"colorscale\": [[0.0, \"#0d0887\"], [0.1111111111111111, \"#46039f\"], [0.2222222222222222, \"#7201a8\"], [0.3333333333333333, \"#9c179e\"], [0.4444444444444444, \"#bd3786\"], [0.5555555555555556, \"#d8576b\"], [0.6666666666666666, \"#ed7953\"], [0.7777777777777778, \"#fb9f3a\"], [0.8888888888888888, \"#fdca26\"], [1.0, \"#f0f921\"]], \"type\": \"heatmap\"}], \"heatmapgl\": [{\"colorbar\": {\"outlinewidth\": 0, \"ticks\": \"\"}, \"colorscale\": [[0.0, \"#0d0887\"], [0.1111111111111111, \"#46039f\"], [0.2222222222222222, \"#7201a8\"], [0.3333333333333333, \"#9c179e\"], [0.4444444444444444, \"#bd3786\"], [0.5555555555555556, \"#d8576b\"], [0.6666666666666666, \"#ed7953\"], [0.7777777777777778, \"#fb9f3a\"], [0.8888888888888888, \"#fdca26\"], [1.0, \"#f0f921\"]], \"type\": \"heatmapgl\"}], \"histogram\": [{\"marker\": {\"colorbar\": {\"outlinewidth\": 0, \"ticks\": \"\"}}, \"type\": \"histogram\"}], \"histogram2d\": [{\"colorbar\": {\"outlinewidth\": 0, \"ticks\": \"\"}, \"colorscale\": [[0.0, \"#0d0887\"], [0.1111111111111111, \"#46039f\"], [0.2222222222222222, \"#7201a8\"], [0.3333333333333333, \"#9c179e\"], [0.4444444444444444, \"#bd3786\"], [0.5555555555555556, \"#d8576b\"], [0.6666666666666666, \"#ed7953\"], [0.7777777777777778, \"#fb9f3a\"], [0.8888888888888888, \"#fdca26\"], [1.0, \"#f0f921\"]], \"type\": \"histogram2d\"}], \"histogram2dcontour\": [{\"colorbar\": {\"outlinewidth\": 0, \"ticks\": \"\"}, \"colorscale\": [[0.0, \"#0d0887\"], [0.1111111111111111, \"#46039f\"], [0.2222222222222222, \"#7201a8\"], [0.3333333333333333, \"#9c179e\"], [0.4444444444444444, \"#bd3786\"], [0.5555555555555556, \"#d8576b\"], [0.6666666666666666, \"#ed7953\"], [0.7777777777777778, \"#fb9f3a\"], [0.8888888888888888, \"#fdca26\"], [1.0, \"#f0f921\"]], \"type\": \"histogram2dcontour\"}], \"mesh3d\": [{\"colorbar\": {\"outlinewidth\": 0, \"ticks\": \"\"}, \"type\": \"mesh3d\"}], \"parcoords\": [{\"line\": {\"colorbar\": {\"outlinewidth\": 0, \"ticks\": \"\"}}, \"type\": \"parcoords\"}], \"pie\": [{\"automargin\": true, \"type\": \"pie\"}], \"scatter\": [{\"marker\": {\"colorbar\": {\"outlinewidth\": 0, \"ticks\": \"\"}}, \"type\": \"scatter\"}], \"scatter3d\": [{\"line\": {\"colorbar\": {\"outlinewidth\": 0, \"ticks\": \"\"}}, \"marker\": {\"colorbar\": {\"outlinewidth\": 0, \"ticks\": \"\"}}, \"type\": \"scatter3d\"}], \"scattercarpet\": [{\"marker\": {\"colorbar\": {\"outlinewidth\": 0, \"ticks\": \"\"}}, \"type\": \"scattercarpet\"}], \"scattergeo\": [{\"marker\": {\"colorbar\": {\"outlinewidth\": 0, \"ticks\": \"\"}}, \"type\": \"scattergeo\"}], \"scattergl\": [{\"marker\": {\"colorbar\": {\"outlinewidth\": 0, \"ticks\": \"\"}}, \"type\": \"scattergl\"}], \"scattermapbox\": [{\"marker\": {\"colorbar\": {\"outlinewidth\": 0, \"ticks\": \"\"}}, \"type\": \"scattermapbox\"}], \"scatterpolar\": [{\"marker\": {\"colorbar\": {\"outlinewidth\": 0, \"ticks\": \"\"}}, \"type\": \"scatterpolar\"}], \"scatterpolargl\": [{\"marker\": {\"colorbar\": {\"outlinewidth\": 0, \"ticks\": \"\"}}, \"type\": \"scatterpolargl\"}], \"scatterternary\": [{\"marker\": {\"colorbar\": {\"outlinewidth\": 0, \"ticks\": \"\"}}, \"type\": \"scatterternary\"}], \"surface\": [{\"colorbar\": {\"outlinewidth\": 0, \"ticks\": \"\"}, \"colorscale\": [[0.0, \"#0d0887\"], [0.1111111111111111, \"#46039f\"], [0.2222222222222222, \"#7201a8\"], [0.3333333333333333, \"#9c179e\"], [0.4444444444444444, \"#bd3786\"], [0.5555555555555556, \"#d8576b\"], [0.6666666666666666, \"#ed7953\"], [0.7777777777777778, \"#fb9f3a\"], [0.8888888888888888, \"#fdca26\"], [1.0, \"#f0f921\"]], \"type\": \"surface\"}], \"table\": [{\"cells\": {\"fill\": {\"color\": \"#EBF0F8\"}, \"line\": {\"color\": \"white\"}}, \"header\": {\"fill\": {\"color\": \"#C8D4E3\"}, \"line\": {\"color\": \"white\"}}, \"type\": \"table\"}]}, \"layout\": {\"annotationdefaults\": {\"arrowcolor\": \"#2a3f5f\", \"arrowhead\": 0, \"arrowwidth\": 1}, \"coloraxis\": {\"colorbar\": {\"outlinewidth\": 0, \"ticks\": \"\"}}, \"colorscale\": {\"diverging\": [[0, \"#8e0152\"], [0.1, \"#c51b7d\"], [0.2, \"#de77ae\"], [0.3, \"#f1b6da\"], [0.4, \"#fde0ef\"], [0.5, \"#f7f7f7\"], [0.6, \"#e6f5d0\"], [0.7, \"#b8e186\"], [0.8, \"#7fbc41\"], [0.9, \"#4d9221\"], [1, \"#276419\"]], \"sequential\": [[0.0, \"#0d0887\"], [0.1111111111111111, \"#46039f\"], [0.2222222222222222, \"#7201a8\"], [0.3333333333333333, \"#9c179e\"], [0.4444444444444444, \"#bd3786\"], [0.5555555555555556, \"#d8576b\"], [0.6666666666666666, \"#ed7953\"], [0.7777777777777778, \"#fb9f3a\"], [0.8888888888888888, \"#fdca26\"], [1.0, \"#f0f921\"]], \"sequentialminus\": [[0.0, \"#0d0887\"], [0.1111111111111111, \"#46039f\"], [0.2222222222222222, \"#7201a8\"], [0.3333333333333333, \"#9c179e\"], [0.4444444444444444, \"#bd3786\"], [0.5555555555555556, \"#d8576b\"], [0.6666666666666666, \"#ed7953\"], [0.7777777777777778, \"#fb9f3a\"], [0.8888888888888888, \"#fdca26\"], [1.0, \"#f0f921\"]]}, \"colorway\": [\"#636efa\", \"#EF553B\", \"#00cc96\", \"#ab63fa\", \"#FFA15A\", \"#19d3f3\", \"#FF6692\", \"#B6E880\", \"#FF97FF\", \"#FECB52\"], \"font\": {\"color\": \"#2a3f5f\"}, \"geo\": {\"bgcolor\": \"white\", \"lakecolor\": \"white\", \"landcolor\": \"#E5ECF6\", \"showlakes\": true, \"showland\": true, \"subunitcolor\": \"white\"}, \"hoverlabel\": {\"align\": \"left\"}, \"hovermode\": \"closest\", \"mapbox\": {\"style\": \"light\"}, \"paper_bgcolor\": \"white\", \"plot_bgcolor\": \"#E5ECF6\", \"polar\": {\"angularaxis\": {\"gridcolor\": \"white\", \"linecolor\": \"white\", \"ticks\": \"\"}, \"bgcolor\": \"#E5ECF6\", \"radialaxis\": {\"gridcolor\": \"white\", \"linecolor\": \"white\", \"ticks\": \"\"}}, \"scene\": {\"xaxis\": {\"backgroundcolor\": \"#E5ECF6\", \"gridcolor\": \"white\", \"gridwidth\": 2, \"linecolor\": \"white\", \"showbackground\": true, \"ticks\": \"\", \"zerolinecolor\": \"white\"}, \"yaxis\": {\"backgroundcolor\": \"#E5ECF6\", \"gridcolor\": \"white\", \"gridwidth\": 2, \"linecolor\": \"white\", \"showbackground\": true, \"ticks\": \"\", \"zerolinecolor\": \"white\"}, \"zaxis\": {\"backgroundcolor\": \"#E5ECF6\", \"gridcolor\": \"white\", \"gridwidth\": 2, \"linecolor\": \"white\", \"showbackground\": true, \"ticks\": \"\", \"zerolinecolor\": \"white\"}}, \"shapedefaults\": {\"line\": {\"color\": \"#2a3f5f\"}}, \"ternary\": {\"aaxis\": {\"gridcolor\": \"white\", \"linecolor\": \"white\", \"ticks\": \"\"}, \"baxis\": {\"gridcolor\": \"white\", \"linecolor\": \"white\", \"ticks\": \"\"}, \"bgcolor\": \"#E5ECF6\", \"caxis\": {\"gridcolor\": \"white\", \"linecolor\": \"white\", \"ticks\": \"\"}}, \"title\": {\"x\": 0.05}, \"xaxis\": {\"automargin\": true, \"gridcolor\": \"white\", \"linecolor\": \"white\", \"ticks\": \"\", \"title\": {\"standoff\": 15}, \"zerolinecolor\": \"white\", \"zerolinewidth\": 2}, \"yaxis\": {\"automargin\": true, \"gridcolor\": \"white\", \"linecolor\": \"white\", \"ticks\": \"\", \"title\": {\"standoff\": 15}, \"zerolinecolor\": \"white\", \"zerolinewidth\": 2}}}, \"title\": {\"text\": \"<b>\\uc5f0\\ub839\\ubcc4 \\ub204\\uc801 \\uc0ac\\ub9dd\\uc790 \\uc218 \\ucd94\\uc774</b>\"}, \"xaxis\": {\"anchor\": \"y\", \"domain\": [0.0, 1.0], \"title\": {\"text\": \"\\ub0a0\\uc9dc\"}}, \"yaxis\": {\"anchor\": \"x\", \"domain\": [0.0, 1.0], \"gridcolor\": \"#D5D5D5\", \"title\": {\"text\": \"\\ub204\\uc801 \\uc0ac\\ub9dd\\uc790 \\uc218\"}}},\n",
              "                        {\"responsive\": true}\n",
              "                    ).then(function(){\n",
              "                            \n",
              "var gd = document.getElementById('38f16b1e-78e0-4606-829a-e2a05244f697');\n",
              "var x = new MutationObserver(function (mutations, observer) {{\n",
              "        var display = window.getComputedStyle(gd).display;\n",
              "        if (!display || display === 'none') {{\n",
              "            console.log([gd, 'removed!']);\n",
              "            Plotly.purge(gd);\n",
              "            observer.disconnect();\n",
              "        }}\n",
              "}});\n",
              "\n",
              "// Listen for the removal of the full notebook cells\n",
              "var notebookContainer = gd.closest('#notebook-container');\n",
              "if (notebookContainer) {{\n",
              "    x.observe(notebookContainer, {childList: true});\n",
              "}}\n",
              "\n",
              "// Listen for the clearing of the current output cell\n",
              "var outputEl = gd.closest('.output');\n",
              "if (outputEl) {{\n",
              "    x.observe(outputEl, {childList: true});\n",
              "}}\n",
              "\n",
              "                        })\n",
              "                };\n",
              "                \n",
              "            </script>\n",
              "        </div>\n",
              "</body>\n",
              "</html>"
            ]
          },
          "metadata": {
            "tags": []
          }
        }
      ]
    },
    {
      "cell_type": "code",
      "metadata": {
        "id": "h2BvbViZ6LKL",
        "colab_type": "code",
        "colab": {
          "base_uri": "https://localhost:8080/",
          "height": 562
        },
        "outputId": "98c3e8a9-b5e5-4b46-d8f9-7cb8d1a6fe7d"
      },
      "source": [
        "# pie chart : 연령별 사망자 비중\n",
        "fig = px.pie(total_0630, names='연령층' ,values='누적 사망자 수',\n",
        "             title='<b>연령별 사망자 수 (2020.06.30)</b>',\n",
        "             color_discrete_sequence = px.colors.colorbrewer.Set2)\n",
        "                \n",
        "fig.update_traces(textinfo='percent+label', textfont_size=13, hole=.3)\n",
        "\n",
        "fig.show()"
      ],
      "execution_count": 21,
      "outputs": [
        {
          "output_type": "display_data",
          "data": {
            "text/html": [
              "<html>\n",
              "<head><meta charset=\"utf-8\" /></head>\n",
              "<body>\n",
              "    <div>\n",
              "            <script src=\"https://cdnjs.cloudflare.com/ajax/libs/mathjax/2.7.5/MathJax.js?config=TeX-AMS-MML_SVG\"></script><script type=\"text/javascript\">if (window.MathJax) {MathJax.Hub.Config({SVG: {font: \"STIX-Web\"}});}</script>\n",
              "                <script type=\"text/javascript\">window.PlotlyConfig = {MathJaxConfig: 'local'};</script>\n",
              "        <script src=\"https://cdn.plot.ly/plotly-latest.min.js\"></script>    \n",
              "            <div id=\"06df5402-90e0-4e1a-a8dd-336dd2aa27a0\" class=\"plotly-graph-div\" style=\"height:525px; width:100%;\"></div>\n",
              "            <script type=\"text/javascript\">\n",
              "                \n",
              "                    window.PLOTLYENV=window.PLOTLYENV || {};\n",
              "                    \n",
              "                if (document.getElementById(\"06df5402-90e0-4e1a-a8dd-336dd2aa27a0\")) {\n",
              "                    Plotly.newPlot(\n",
              "                        '06df5402-90e0-4e1a-a8dd-336dd2aa27a0',\n",
              "                        [{\"domain\": {\"x\": [0.0, 1.0], \"y\": [0.0, 1.0]}, \"hole\": 0.3, \"hoverlabel\": {\"namelength\": 0}, \"hovertemplate\": \"\\uc5f0\\ub839\\uce35=%{label}<br>\\ub204\\uc801 \\uc0ac\\ub9dd\\uc790 \\uc218=%{value}\", \"labels\": [\"\\ubbf8\\uc131\\ub144\\uc790\", \"\\ubbf8\\uc131\\ub144\\uc790\", \"\\uccad\\ub144\\uce35\", \"\\uccad\\ub144\\uce35\", \"\\uc911\\ub144\\uce35\", \"\\uc911\\ub144\\uce35\", \"\\uace0\\ub839\\uce35\", \"\\uace0\\ub839\\uce35\", \"\\uace0\\ub839\\uce35\"], \"legendgroup\": \"\", \"name\": \"\", \"showlegend\": true, \"textfont\": {\"size\": 13}, \"textinfo\": \"percent+label\", \"type\": \"pie\", \"values\": [0, 0, 0, 2, 3, 15, 41, 82, 139]}],\n",
              "                        {\"legend\": {\"tracegroupgap\": 0}, \"piecolorway\": [\"rgb(102,194,165)\", \"rgb(252,141,98)\", \"rgb(141,160,203)\", \"rgb(231,138,195)\", \"rgb(166,216,84)\", \"rgb(255,217,47)\", \"rgb(229,196,148)\", \"rgb(179,179,179)\"], \"template\": {\"data\": {\"bar\": [{\"error_x\": {\"color\": \"#2a3f5f\"}, \"error_y\": {\"color\": \"#2a3f5f\"}, \"marker\": {\"line\": {\"color\": \"#E5ECF6\", \"width\": 0.5}}, \"type\": \"bar\"}], \"barpolar\": [{\"marker\": {\"line\": {\"color\": \"#E5ECF6\", \"width\": 0.5}}, \"type\": \"barpolar\"}], \"carpet\": [{\"aaxis\": {\"endlinecolor\": \"#2a3f5f\", \"gridcolor\": \"white\", \"linecolor\": \"white\", \"minorgridcolor\": \"white\", \"startlinecolor\": \"#2a3f5f\"}, \"baxis\": {\"endlinecolor\": \"#2a3f5f\", \"gridcolor\": \"white\", \"linecolor\": \"white\", \"minorgridcolor\": \"white\", \"startlinecolor\": \"#2a3f5f\"}, \"type\": \"carpet\"}], \"choropleth\": [{\"colorbar\": {\"outlinewidth\": 0, \"ticks\": \"\"}, \"type\": \"choropleth\"}], \"contour\": [{\"colorbar\": {\"outlinewidth\": 0, \"ticks\": \"\"}, \"colorscale\": [[0.0, \"#0d0887\"], [0.1111111111111111, \"#46039f\"], [0.2222222222222222, \"#7201a8\"], [0.3333333333333333, \"#9c179e\"], [0.4444444444444444, \"#bd3786\"], [0.5555555555555556, \"#d8576b\"], [0.6666666666666666, \"#ed7953\"], [0.7777777777777778, \"#fb9f3a\"], [0.8888888888888888, \"#fdca26\"], [1.0, \"#f0f921\"]], \"type\": \"contour\"}], \"contourcarpet\": [{\"colorbar\": {\"outlinewidth\": 0, \"ticks\": \"\"}, \"type\": \"contourcarpet\"}], \"heatmap\": [{\"colorbar\": {\"outlinewidth\": 0, \"ticks\": \"\"}, \"colorscale\": [[0.0, \"#0d0887\"], [0.1111111111111111, \"#46039f\"], [0.2222222222222222, \"#7201a8\"], [0.3333333333333333, \"#9c179e\"], [0.4444444444444444, \"#bd3786\"], [0.5555555555555556, \"#d8576b\"], [0.6666666666666666, \"#ed7953\"], [0.7777777777777778, \"#fb9f3a\"], [0.8888888888888888, \"#fdca26\"], [1.0, \"#f0f921\"]], \"type\": \"heatmap\"}], \"heatmapgl\": [{\"colorbar\": {\"outlinewidth\": 0, \"ticks\": \"\"}, \"colorscale\": [[0.0, \"#0d0887\"], [0.1111111111111111, \"#46039f\"], [0.2222222222222222, \"#7201a8\"], [0.3333333333333333, \"#9c179e\"], [0.4444444444444444, \"#bd3786\"], [0.5555555555555556, \"#d8576b\"], [0.6666666666666666, \"#ed7953\"], [0.7777777777777778, \"#fb9f3a\"], [0.8888888888888888, \"#fdca26\"], [1.0, \"#f0f921\"]], \"type\": \"heatmapgl\"}], \"histogram\": [{\"marker\": {\"colorbar\": {\"outlinewidth\": 0, \"ticks\": \"\"}}, \"type\": \"histogram\"}], \"histogram2d\": [{\"colorbar\": {\"outlinewidth\": 0, \"ticks\": \"\"}, \"colorscale\": [[0.0, \"#0d0887\"], [0.1111111111111111, \"#46039f\"], [0.2222222222222222, \"#7201a8\"], [0.3333333333333333, \"#9c179e\"], [0.4444444444444444, \"#bd3786\"], [0.5555555555555556, \"#d8576b\"], [0.6666666666666666, \"#ed7953\"], [0.7777777777777778, \"#fb9f3a\"], [0.8888888888888888, \"#fdca26\"], [1.0, \"#f0f921\"]], \"type\": \"histogram2d\"}], \"histogram2dcontour\": [{\"colorbar\": {\"outlinewidth\": 0, \"ticks\": \"\"}, \"colorscale\": [[0.0, \"#0d0887\"], [0.1111111111111111, \"#46039f\"], [0.2222222222222222, \"#7201a8\"], [0.3333333333333333, \"#9c179e\"], [0.4444444444444444, \"#bd3786\"], [0.5555555555555556, \"#d8576b\"], [0.6666666666666666, \"#ed7953\"], [0.7777777777777778, \"#fb9f3a\"], [0.8888888888888888, \"#fdca26\"], [1.0, \"#f0f921\"]], \"type\": \"histogram2dcontour\"}], \"mesh3d\": [{\"colorbar\": {\"outlinewidth\": 0, \"ticks\": \"\"}, \"type\": \"mesh3d\"}], \"parcoords\": [{\"line\": {\"colorbar\": {\"outlinewidth\": 0, \"ticks\": \"\"}}, \"type\": \"parcoords\"}], \"pie\": [{\"automargin\": true, \"type\": \"pie\"}], \"scatter\": [{\"marker\": {\"colorbar\": {\"outlinewidth\": 0, \"ticks\": \"\"}}, \"type\": \"scatter\"}], \"scatter3d\": [{\"line\": {\"colorbar\": {\"outlinewidth\": 0, \"ticks\": \"\"}}, \"marker\": {\"colorbar\": {\"outlinewidth\": 0, \"ticks\": \"\"}}, \"type\": \"scatter3d\"}], \"scattercarpet\": [{\"marker\": {\"colorbar\": {\"outlinewidth\": 0, \"ticks\": \"\"}}, \"type\": \"scattercarpet\"}], \"scattergeo\": [{\"marker\": {\"colorbar\": {\"outlinewidth\": 0, \"ticks\": \"\"}}, \"type\": \"scattergeo\"}], \"scattergl\": [{\"marker\": {\"colorbar\": {\"outlinewidth\": 0, \"ticks\": \"\"}}, \"type\": \"scattergl\"}], \"scattermapbox\": [{\"marker\": {\"colorbar\": {\"outlinewidth\": 0, \"ticks\": \"\"}}, \"type\": \"scattermapbox\"}], \"scatterpolar\": [{\"marker\": {\"colorbar\": {\"outlinewidth\": 0, \"ticks\": \"\"}}, \"type\": \"scatterpolar\"}], \"scatterpolargl\": [{\"marker\": {\"colorbar\": {\"outlinewidth\": 0, \"ticks\": \"\"}}, \"type\": \"scatterpolargl\"}], \"scatterternary\": [{\"marker\": {\"colorbar\": {\"outlinewidth\": 0, \"ticks\": \"\"}}, \"type\": \"scatterternary\"}], \"surface\": [{\"colorbar\": {\"outlinewidth\": 0, \"ticks\": \"\"}, \"colorscale\": [[0.0, \"#0d0887\"], [0.1111111111111111, \"#46039f\"], [0.2222222222222222, \"#7201a8\"], [0.3333333333333333, \"#9c179e\"], [0.4444444444444444, \"#bd3786\"], [0.5555555555555556, \"#d8576b\"], [0.6666666666666666, \"#ed7953\"], [0.7777777777777778, \"#fb9f3a\"], [0.8888888888888888, \"#fdca26\"], [1.0, \"#f0f921\"]], \"type\": \"surface\"}], \"table\": [{\"cells\": {\"fill\": {\"color\": \"#EBF0F8\"}, \"line\": {\"color\": \"white\"}}, \"header\": {\"fill\": {\"color\": \"#C8D4E3\"}, \"line\": {\"color\": \"white\"}}, \"type\": \"table\"}]}, \"layout\": {\"annotationdefaults\": {\"arrowcolor\": \"#2a3f5f\", \"arrowhead\": 0, \"arrowwidth\": 1}, \"coloraxis\": {\"colorbar\": {\"outlinewidth\": 0, \"ticks\": \"\"}}, \"colorscale\": {\"diverging\": [[0, \"#8e0152\"], [0.1, \"#c51b7d\"], [0.2, \"#de77ae\"], [0.3, \"#f1b6da\"], [0.4, \"#fde0ef\"], [0.5, \"#f7f7f7\"], [0.6, \"#e6f5d0\"], [0.7, \"#b8e186\"], [0.8, \"#7fbc41\"], [0.9, \"#4d9221\"], [1, \"#276419\"]], \"sequential\": [[0.0, \"#0d0887\"], [0.1111111111111111, \"#46039f\"], [0.2222222222222222, \"#7201a8\"], [0.3333333333333333, \"#9c179e\"], [0.4444444444444444, \"#bd3786\"], [0.5555555555555556, \"#d8576b\"], [0.6666666666666666, \"#ed7953\"], [0.7777777777777778, \"#fb9f3a\"], [0.8888888888888888, \"#fdca26\"], [1.0, \"#f0f921\"]], \"sequentialminus\": [[0.0, \"#0d0887\"], [0.1111111111111111, \"#46039f\"], [0.2222222222222222, \"#7201a8\"], [0.3333333333333333, \"#9c179e\"], [0.4444444444444444, \"#bd3786\"], [0.5555555555555556, \"#d8576b\"], [0.6666666666666666, \"#ed7953\"], [0.7777777777777778, \"#fb9f3a\"], [0.8888888888888888, \"#fdca26\"], [1.0, \"#f0f921\"]]}, \"colorway\": [\"#636efa\", \"#EF553B\", \"#00cc96\", \"#ab63fa\", \"#FFA15A\", \"#19d3f3\", \"#FF6692\", \"#B6E880\", \"#FF97FF\", \"#FECB52\"], \"font\": {\"color\": \"#2a3f5f\"}, \"geo\": {\"bgcolor\": \"white\", \"lakecolor\": \"white\", \"landcolor\": \"#E5ECF6\", \"showlakes\": true, \"showland\": true, \"subunitcolor\": \"white\"}, \"hoverlabel\": {\"align\": \"left\"}, \"hovermode\": \"closest\", \"mapbox\": {\"style\": \"light\"}, \"paper_bgcolor\": \"white\", \"plot_bgcolor\": \"#E5ECF6\", \"polar\": {\"angularaxis\": {\"gridcolor\": \"white\", \"linecolor\": \"white\", \"ticks\": \"\"}, \"bgcolor\": \"#E5ECF6\", \"radialaxis\": {\"gridcolor\": \"white\", \"linecolor\": \"white\", \"ticks\": \"\"}}, \"scene\": {\"xaxis\": {\"backgroundcolor\": \"#E5ECF6\", \"gridcolor\": \"white\", \"gridwidth\": 2, \"linecolor\": \"white\", \"showbackground\": true, \"ticks\": \"\", \"zerolinecolor\": \"white\"}, \"yaxis\": {\"backgroundcolor\": \"#E5ECF6\", \"gridcolor\": \"white\", \"gridwidth\": 2, \"linecolor\": \"white\", \"showbackground\": true, \"ticks\": \"\", \"zerolinecolor\": \"white\"}, \"zaxis\": {\"backgroundcolor\": \"#E5ECF6\", \"gridcolor\": \"white\", \"gridwidth\": 2, \"linecolor\": \"white\", \"showbackground\": true, \"ticks\": \"\", \"zerolinecolor\": \"white\"}}, \"shapedefaults\": {\"line\": {\"color\": \"#2a3f5f\"}}, \"ternary\": {\"aaxis\": {\"gridcolor\": \"white\", \"linecolor\": \"white\", \"ticks\": \"\"}, \"baxis\": {\"gridcolor\": \"white\", \"linecolor\": \"white\", \"ticks\": \"\"}, \"bgcolor\": \"#E5ECF6\", \"caxis\": {\"gridcolor\": \"white\", \"linecolor\": \"white\", \"ticks\": \"\"}}, \"title\": {\"x\": 0.05}, \"xaxis\": {\"automargin\": true, \"gridcolor\": \"white\", \"linecolor\": \"white\", \"ticks\": \"\", \"title\": {\"standoff\": 15}, \"zerolinecolor\": \"white\", \"zerolinewidth\": 2}, \"yaxis\": {\"automargin\": true, \"gridcolor\": \"white\", \"linecolor\": \"white\", \"ticks\": \"\", \"title\": {\"standoff\": 15}, \"zerolinecolor\": \"white\", \"zerolinewidth\": 2}}}, \"title\": {\"text\": \"<b>\\uc5f0\\ub839\\ubcc4 \\uc0ac\\ub9dd\\uc790 \\uc218 (2020.06.30)</b>\"}},\n",
              "                        {\"responsive\": true}\n",
              "                    ).then(function(){\n",
              "                            \n",
              "var gd = document.getElementById('06df5402-90e0-4e1a-a8dd-336dd2aa27a0');\n",
              "var x = new MutationObserver(function (mutations, observer) {{\n",
              "        var display = window.getComputedStyle(gd).display;\n",
              "        if (!display || display === 'none') {{\n",
              "            console.log([gd, 'removed!']);\n",
              "            Plotly.purge(gd);\n",
              "            observer.disconnect();\n",
              "        }}\n",
              "}});\n",
              "\n",
              "// Listen for the removal of the full notebook cells\n",
              "var notebookContainer = gd.closest('#notebook-container');\n",
              "if (notebookContainer) {{\n",
              "    x.observe(notebookContainer, {childList: true});\n",
              "}}\n",
              "\n",
              "// Listen for the clearing of the current output cell\n",
              "var outputEl = gd.closest('.output');\n",
              "if (outputEl) {{\n",
              "    x.observe(outputEl, {childList: true});\n",
              "}}\n",
              "\n",
              "                        })\n",
              "                };\n",
              "                \n",
              "            </script>\n",
              "        </div>\n",
              "</body>\n",
              "</html>"
            ]
          },
          "metadata": {
            "tags": []
          }
        }
      ]
    },
    {
      "cell_type": "markdown",
      "metadata": {
        "id": "nu_m6kMd6OTV",
        "colab_type": "text"
      },
      "source": [
        "위의 결과를 확인하면 2020년 6월 30일을 기준으로 연령별 확진자수는 청년층 38%, 중년층 31%, 고령층 24%, 미성년자 7% 순서이다. 반면 6월 30일 기준으로 사망자수를 확인하면 고령층이 압도적임. 즉 고령층은 다른 연령보다 코로나가 생사에 더 치명적이다. 특히나 추석은 고령층과 장년층/청년층이 만날 확률이 높은 시기이므로 가장 조심해야할 때로 확인이 가능하다. \n"
      ]
    },
    {
      "cell_type": "markdown",
      "metadata": {
        "id": "th9U7xTJCZzs",
        "colab_type": "text"
      },
      "source": [
        "# 3. 감염 이유 분석"
      ]
    },
    {
      "cell_type": "code",
      "metadata": {
        "id": "pV6dDoY6CdcT",
        "colab_type": "code",
        "colab": {
          "base_uri": "https://localhost:8080/",
          "height": 411
        },
        "outputId": "78dca5c8-a7e6-43da-9a03-81c4a253f819"
      },
      "source": [
        "# 그래픽 크기 설정\n",
        "plt.rcParams[\"figure.figsize\"] = (15, 7)\n",
        "\n",
        "# 집단 감염 사례 상위 6개 확인\n",
        "groupcase = case_data.filter(['infection_case', 'confirmed'])\n",
        "groupcase_tmp = groupcase.groupby(['infection_case']).sum()\n",
        "\n",
        "groupcase_top6 = groupcase_tmp.sort_values('confirmed',ascending=False).head(6)\n",
        "\n",
        "# 신천지 사례는 이미 독보적이므로 그를 제외한 다섯 가지 사례에 대한 pie chart 생성\n",
        "groupcase_top = groupcase_top6.iloc[1:7,:]\n",
        "\n",
        "c_map = plt.get_cmap('Spectral')\n",
        "col = [c_map(i) for i in np.linspace(0, 1, 5)]\n",
        "\n",
        "#plt.title(\"집단 감염 사례 2위 - 6위\")\n",
        "plt.pie(groupcase_top.confirmed, labels=list(groupcase_top.index), autopct='%1.1f%%', shadow=True, colors=col)\n",
        "plt.show()"
      ],
      "execution_count": 87,
      "outputs": [
        {
          "output_type": "display_data",
          "data": {
            "image/png": "[encoded data removed]",
            "text/plain": [
              "<Figure size 1080x504 with 1 Axes>"
            ]
          },
          "metadata": {
            "tags": []
          }
        }
      ]
    },
    {
      "cell_type": "markdown",
      "metadata": {
        "id": "Kjc7rj4IEYL7",
        "colab_type": "text"
      },
      "source": [
        "감염이유를 확인해보면, 해외유입을 제외하면 대부분 집단감염이 가장 큰 원인이 되었음을 확인할 수 있음. 따라서 다가오는 추석이 집단 감염으로 COVID-19가 전파될 위험이 큼을 확인할 수 있었음. "
      ]
    },
    {
      "cell_type": "code",
      "metadata": {
        "id": "R6cOajJECqfl",
        "colab_type": "code",
        "colab": {
          "base_uri": "https://localhost:8080/",
          "height": 558
        },
        "outputId": "638f149a-7a59-4715-a971-26b62f26b77f"
      },
      "source": [
        "# 시,도 단위로 데이터 분할 저장\n",
        "state_data = case_data.filter(['province', 'confirmed'])\n",
        "state_data = state_data.groupby(['province'], as_index=False).sum()\n",
        "state_data"
      ],
      "execution_count": 89,
      "outputs": [
        {
          "output_type": "execute_result",
          "data": {
            "text/html": [
              "<div>\n",
              "<style scoped>\n",
              "    .dataframe tbody tr th:only-of-type {\n",
              "        vertical-align: middle;\n",
              "    }\n",
              "\n",
              "    .dataframe tbody tr th {\n",
              "        vertical-align: top;\n",
              "    }\n",
              "\n",
              "    .dataframe thead th {\n",
              "        text-align: right;\n",
              "    }\n",
              "</style>\n",
              "<table border=\"1\" class=\"dataframe\">\n",
              "  <thead>\n",
              "    <tr style=\"text-align: right;\">\n",
              "      <th></th>\n",
              "      <th>province</th>\n",
              "      <th>confirmed</th>\n",
              "    </tr>\n",
              "  </thead>\n",
              "  <tbody>\n",
              "    <tr>\n",
              "      <th>0</th>\n",
              "      <td>강원도</td>\n",
              "      <td>62</td>\n",
              "    </tr>\n",
              "    <tr>\n",
              "      <th>1</th>\n",
              "      <td>경기도</td>\n",
              "      <td>1000</td>\n",
              "    </tr>\n",
              "    <tr>\n",
              "      <th>2</th>\n",
              "      <td>경상남도</td>\n",
              "      <td>132</td>\n",
              "    </tr>\n",
              "    <tr>\n",
              "      <th>3</th>\n",
              "      <td>경상북도</td>\n",
              "      <td>1324</td>\n",
              "    </tr>\n",
              "    <tr>\n",
              "      <th>4</th>\n",
              "      <td>광주</td>\n",
              "      <td>43</td>\n",
              "    </tr>\n",
              "    <tr>\n",
              "      <th>5</th>\n",
              "      <td>대구</td>\n",
              "      <td>6680</td>\n",
              "    </tr>\n",
              "    <tr>\n",
              "      <th>6</th>\n",
              "      <td>대전</td>\n",
              "      <td>131</td>\n",
              "    </tr>\n",
              "    <tr>\n",
              "      <th>7</th>\n",
              "      <td>부산</td>\n",
              "      <td>156</td>\n",
              "    </tr>\n",
              "    <tr>\n",
              "      <th>8</th>\n",
              "      <td>서울</td>\n",
              "      <td>1280</td>\n",
              "    </tr>\n",
              "    <tr>\n",
              "      <th>9</th>\n",
              "      <td>세종</td>\n",
              "      <td>49</td>\n",
              "    </tr>\n",
              "    <tr>\n",
              "      <th>10</th>\n",
              "      <td>울산</td>\n",
              "      <td>51</td>\n",
              "    </tr>\n",
              "    <tr>\n",
              "      <th>11</th>\n",
              "      <td>인천</td>\n",
              "      <td>202</td>\n",
              "    </tr>\n",
              "    <tr>\n",
              "      <th>12</th>\n",
              "      <td>전라남도</td>\n",
              "      <td>25</td>\n",
              "    </tr>\n",
              "    <tr>\n",
              "      <th>13</th>\n",
              "      <td>전라북도</td>\n",
              "      <td>23</td>\n",
              "    </tr>\n",
              "    <tr>\n",
              "      <th>14</th>\n",
              "      <td>제주도</td>\n",
              "      <td>19</td>\n",
              "    </tr>\n",
              "    <tr>\n",
              "      <th>15</th>\n",
              "      <td>충청남도</td>\n",
              "      <td>158</td>\n",
              "    </tr>\n",
              "    <tr>\n",
              "      <th>16</th>\n",
              "      <td>충청북도</td>\n",
              "      <td>60</td>\n",
              "    </tr>\n",
              "  </tbody>\n",
              "</table>\n",
              "</div>"
            ],
            "text/plain": [
              "   province  confirmed\n",
              "0       강원도         62\n",
              "1       경기도       1000\n",
              "2      경상남도        132\n",
              "3      경상북도       1324\n",
              "4        광주         43\n",
              "5        대구       6680\n",
              "6        대전        131\n",
              "7        부산        156\n",
              "8        서울       1280\n",
              "9        세종         49\n",
              "10       울산         51\n",
              "11       인천        202\n",
              "12     전라남도         25\n",
              "13     전라북도         23\n",
              "14      제주도         19\n",
              "15     충청남도        158\n",
              "16     충청북도         60"
            ]
          },
          "metadata": {
            "tags": []
          },
          "execution_count": 89
        }
      ]
    },
    {
      "cell_type": "markdown",
      "metadata": {
        "id": "tSl62APsE1Gl",
        "colab_type": "text"
      },
      "source": [
        "# 4. 예측된 확진자수 기준으로 위험군 선정 \n",
        "- 기존의 확진자수 데이터를 기준으로 위험군 선정\n",
        "- 확진자수 예측 결과를 통해 위험군 선정 "
      ]
    },
    {
      "cell_type": "markdown",
      "metadata": {
        "id": "uQEnjX9YGSTw",
        "colab_type": "text"
      },
      "source": [
        "### 4.1. 기존의 확진자수 데이터 기준으로 위험군 선정 "
      ]
    },
    {
      "cell_type": "code",
      "metadata": {
        "id": "qPyR4p3LE11k",
        "colab_type": "code",
        "colab": {}
      },
      "source": [
        "province = pd.read_csv('TimeProvince.csv')"
      ],
      "execution_count": 22,
      "outputs": []
    },
    {
      "cell_type": "code",
      "metadata": {
        "id": "j5EJLmx4kVlV",
        "colab_type": "code",
        "colab": {
          "base_uri": "https://localhost:8080/",
          "height": 198
        },
        "outputId": "3af942d8-2368-418a-9def-d7a68c482ce3"
      },
      "source": [
        "province.tail() # 2020 01 ~ 2020 06  데이터 사용 "
      ],
      "execution_count": 23,
      "outputs": [
        {
          "output_type": "execute_result",
          "data": {
            "text/html": [
              "<div>\n",
              "<style scoped>\n",
              "    .dataframe tbody tr th:only-of-type {\n",
              "        vertical-align: middle;\n",
              "    }\n",
              "\n",
              "    .dataframe tbody tr th {\n",
              "        vertical-align: top;\n",
              "    }\n",
              "\n",
              "    .dataframe thead th {\n",
              "        text-align: right;\n",
              "    }\n",
              "</style>\n",
              "<table border=\"1\" class=\"dataframe\">\n",
              "  <thead>\n",
              "    <tr style=\"text-align: right;\">\n",
              "      <th></th>\n",
              "      <th>date</th>\n",
              "      <th>time</th>\n",
              "      <th>province</th>\n",
              "      <th>confirmed</th>\n",
              "      <th>released</th>\n",
              "      <th>deceased</th>\n",
              "    </tr>\n",
              "  </thead>\n",
              "  <tbody>\n",
              "    <tr>\n",
              "      <th>2766</th>\n",
              "      <td>2020-06-30</td>\n",
              "      <td>0</td>\n",
              "      <td>전라북도</td>\n",
              "      <td>27</td>\n",
              "      <td>21</td>\n",
              "      <td>0</td>\n",
              "    </tr>\n",
              "    <tr>\n",
              "      <th>2767</th>\n",
              "      <td>2020-06-30</td>\n",
              "      <td>0</td>\n",
              "      <td>전라남도</td>\n",
              "      <td>24</td>\n",
              "      <td>19</td>\n",
              "      <td>0</td>\n",
              "    </tr>\n",
              "    <tr>\n",
              "      <th>2768</th>\n",
              "      <td>2020-06-30</td>\n",
              "      <td>0</td>\n",
              "      <td>경상북도</td>\n",
              "      <td>1389</td>\n",
              "      <td>1328</td>\n",
              "      <td>54</td>\n",
              "    </tr>\n",
              "    <tr>\n",
              "      <th>2769</th>\n",
              "      <td>2020-06-30</td>\n",
              "      <td>0</td>\n",
              "      <td>경상남도</td>\n",
              "      <td>134</td>\n",
              "      <td>128</td>\n",
              "      <td>0</td>\n",
              "    </tr>\n",
              "    <tr>\n",
              "      <th>2770</th>\n",
              "      <td>2020-06-30</td>\n",
              "      <td>0</td>\n",
              "      <td>제주도</td>\n",
              "      <td>19</td>\n",
              "      <td>16</td>\n",
              "      <td>0</td>\n",
              "    </tr>\n",
              "  </tbody>\n",
              "</table>\n",
              "</div>"
            ],
            "text/plain": [
              "            date  time province  confirmed  released  deceased\n",
              "2766  2020-06-30     0     전라북도         27        21         0\n",
              "2767  2020-06-30     0     전라남도         24        19         0\n",
              "2768  2020-06-30     0     경상북도       1389      1328        54\n",
              "2769  2020-06-30     0     경상남도        134       128         0\n",
              "2770  2020-06-30     0      제주도         19        16         0"
            ]
          },
          "metadata": {
            "tags": []
          },
          "execution_count": 23
        }
      ]
    },
    {
      "cell_type": "code",
      "metadata": {
        "id": "o9MncVqKl321",
        "colab_type": "code",
        "colab": {
          "base_uri": "https://localhost:8080/",
          "height": 35
        },
        "outputId": "a2fd3d4c-dd3e-4f6c-d1a8-324f4ff5a430"
      },
      "source": [
        "print(province.shape)"
      ],
      "execution_count": 24,
      "outputs": [
        {
          "output_type": "stream",
          "text": [
            "(2771, 6)\n"
          ],
          "name": "stdout"
        }
      ]
    },
    {
      "cell_type": "code",
      "metadata": {
        "id": "vuG1J0-jkXl1",
        "colab_type": "code",
        "colab": {
          "base_uri": "https://localhost:8080/",
          "height": 407
        },
        "outputId": "52a74c63-0530-4473-fe99-596c91a903c6"
      },
      "source": [
        "province_sum = province.groupby(['date', 'province'])\n",
        "province_sum[['date', 'province', 'confirmed']].head()"
      ],
      "execution_count": 25,
      "outputs": [
        {
          "output_type": "execute_result",
          "data": {
            "text/html": [
              "<div>\n",
              "<style scoped>\n",
              "    .dataframe tbody tr th:only-of-type {\n",
              "        vertical-align: middle;\n",
              "    }\n",
              "\n",
              "    .dataframe tbody tr th {\n",
              "        vertical-align: top;\n",
              "    }\n",
              "\n",
              "    .dataframe thead th {\n",
              "        text-align: right;\n",
              "    }\n",
              "</style>\n",
              "<table border=\"1\" class=\"dataframe\">\n",
              "  <thead>\n",
              "    <tr style=\"text-align: right;\">\n",
              "      <th></th>\n",
              "      <th>date</th>\n",
              "      <th>province</th>\n",
              "      <th>confirmed</th>\n",
              "    </tr>\n",
              "  </thead>\n",
              "  <tbody>\n",
              "    <tr>\n",
              "      <th>0</th>\n",
              "      <td>2020-01-20</td>\n",
              "      <td>서울</td>\n",
              "      <td>0</td>\n",
              "    </tr>\n",
              "    <tr>\n",
              "      <th>1</th>\n",
              "      <td>2020-01-20</td>\n",
              "      <td>부산</td>\n",
              "      <td>0</td>\n",
              "    </tr>\n",
              "    <tr>\n",
              "      <th>2</th>\n",
              "      <td>2020-01-20</td>\n",
              "      <td>대구</td>\n",
              "      <td>0</td>\n",
              "    </tr>\n",
              "    <tr>\n",
              "      <th>3</th>\n",
              "      <td>2020-01-20</td>\n",
              "      <td>인천</td>\n",
              "      <td>1</td>\n",
              "    </tr>\n",
              "    <tr>\n",
              "      <th>4</th>\n",
              "      <td>2020-01-20</td>\n",
              "      <td>광주</td>\n",
              "      <td>0</td>\n",
              "    </tr>\n",
              "    <tr>\n",
              "      <th>...</th>\n",
              "      <td>...</td>\n",
              "      <td>...</td>\n",
              "      <td>...</td>\n",
              "    </tr>\n",
              "    <tr>\n",
              "      <th>2766</th>\n",
              "      <td>2020-06-30</td>\n",
              "      <td>전라북도</td>\n",
              "      <td>27</td>\n",
              "    </tr>\n",
              "    <tr>\n",
              "      <th>2767</th>\n",
              "      <td>2020-06-30</td>\n",
              "      <td>전라남도</td>\n",
              "      <td>24</td>\n",
              "    </tr>\n",
              "    <tr>\n",
              "      <th>2768</th>\n",
              "      <td>2020-06-30</td>\n",
              "      <td>경상북도</td>\n",
              "      <td>1389</td>\n",
              "    </tr>\n",
              "    <tr>\n",
              "      <th>2769</th>\n",
              "      <td>2020-06-30</td>\n",
              "      <td>경상남도</td>\n",
              "      <td>134</td>\n",
              "    </tr>\n",
              "    <tr>\n",
              "      <th>2770</th>\n",
              "      <td>2020-06-30</td>\n",
              "      <td>제주도</td>\n",
              "      <td>19</td>\n",
              "    </tr>\n",
              "  </tbody>\n",
              "</table>\n",
              "<p>2771 rows × 3 columns</p>\n",
              "</div>"
            ],
            "text/plain": [
              "            date province  confirmed\n",
              "0     2020-01-20       서울          0\n",
              "1     2020-01-20       부산          0\n",
              "2     2020-01-20       대구          0\n",
              "3     2020-01-20       인천          1\n",
              "4     2020-01-20       광주          0\n",
              "...          ...      ...        ...\n",
              "2766  2020-06-30     전라북도         27\n",
              "2767  2020-06-30     전라남도         24\n",
              "2768  2020-06-30     경상북도       1389\n",
              "2769  2020-06-30     경상남도        134\n",
              "2770  2020-06-30      제주도         19\n",
              "\n",
              "[2771 rows x 3 columns]"
            ]
          },
          "metadata": {
            "tags": []
          },
          "execution_count": 25
        }
      ]
    },
    {
      "cell_type": "code",
      "metadata": {
        "id": "Nt1z6rSUlVkK",
        "colab_type": "code",
        "colab": {
          "base_uri": "https://localhost:8080/",
          "height": 443
        },
        "outputId": "074263a8-fafa-4772-cf41-c8f8c24b8491"
      },
      "source": [
        "plt.figure(figsize=(12,6))\n",
        "sample_data = province[province['province']== \"인천\"] # 경상북도에서의 확진자수 변화 확인  \n",
        "pal = sns.color_palette(\"Blues_d\", sample_data.shape[0]) \n",
        "rank = sample_data['confirmed'].argsort().argsort() # 이용량에 따라 색을 다르게해 시각화된 이미지의 직관성을 높입니다.\n",
        "sns.barplot(x=\"date\",y=\"confirmed\",data=sample_data,palette=np.array(pal[::-1])[rank]) \n",
        "# plt.axvline(5.5,color='red',label='COIVD-19 era',linewidth=1)\n",
        "#plt.axvspan(5.5, 9.5, color='red', alpha=0.2)\n",
        "plt.legend()"
      ],
      "execution_count": 26,
      "outputs": [
        {
          "output_type": "stream",
          "text": [
            "No handles with labels found to put in legend.\n"
          ],
          "name": "stderr"
        },
        {
          "output_type": "execute_result",
          "data": {
            "text/plain": [
              "<matplotlib.legend.Legend at 0x7ffafae01c18>"
            ]
          },
          "metadata": {
            "tags": []
          },
          "execution_count": 26
        },
        {
          "output_type": "stream",
          "text": [
            "findfont: Font family ['Malgun Gothic'] not found. Falling back to DejaVu Sans.\n",
            "findfont: Font family ['Malgun Gothic'] not found. Falling back to DejaVu Sans.\n"
          ],
          "name": "stderr"
        },
        {
          "output_type": "display_data",
          "data": {
            "image/png": "[encoded data removed]",
            "text/plain": [
              "<Figure size 864x432 with 1 Axes>"
            ]
          },
          "metadata": {
            "tags": []
          }
        }
      ]
    },
    {
      "cell_type": "code",
      "metadata": {
        "id": "NM7Zr9KUmgI5",
        "colab_type": "code",
        "colab": {
          "base_uri": "https://localhost:8080/",
          "height": 425
        },
        "outputId": "10f4f6f9-58c0-427d-87b6-112994ec3ecb"
      },
      "source": [
        "plt.figure(figsize=(12,6))\n",
        "sample_data = province[province['province']== \"서울\"] # 경상북도에서의 확진자수 변화 확인  \n",
        "pal = sns.color_palette(\"Blues_d\", sample_data.shape[0]) \n",
        "rank = sample_data['confirmed'].argsort().argsort() # 이용량에 따라 색을 다르게해 시각화된 이미지의 직관성을 높입니다.\n",
        "sns.barplot(x=\"date\",y=\"confirmed\",data=sample_data,palette=np.array(pal[::-1])[rank]) \n",
        "# plt.axvline(5.5,color='red',label='COIVD-19 era',linewidth=1)\n",
        "#plt.axvspan(5.5, 9.5, color='red', alpha=0.2)\n",
        "plt.legend()"
      ],
      "execution_count": 27,
      "outputs": [
        {
          "output_type": "stream",
          "text": [
            "No handles with labels found to put in legend.\n"
          ],
          "name": "stderr"
        },
        {
          "output_type": "execute_result",
          "data": {
            "text/plain": [
              "<matplotlib.legend.Legend at 0x7ffafe6c7710>"
            ]
          },
          "metadata": {
            "tags": []
          },
          "execution_count": 27
        },
        {
          "output_type": "display_data",
          "data": {
            "image/png": "[encoded data removed]",
            "text/plain": [
              "<Figure size 864x432 with 1 Axes>"
            ]
          },
          "metadata": {
            "tags": []
          }
        }
      ]
    },
    {
      "cell_type": "code",
      "metadata": {
        "id": "pnXpTBq1ohTv",
        "colab_type": "code",
        "colab": {
          "base_uri": "https://localhost:8080/",
          "height": 425
        },
        "outputId": "18a22739-ba89-4966-c59c-9ededfa7e43a"
      },
      "source": [
        "plt.figure(figsize=(12,6))\n",
        "sample_data = province[province['province']== \"대구\"] # 경상북도에서의 확진자수 변화 확인  \n",
        "pal = sns.color_palette(\"Blues_d\", sample_data.shape[0]) \n",
        "rank = sample_data['confirmed'].argsort().argsort() # 이용량에 따라 색을 다르게해 시각화된 이미지의 직관성을 높입니다.\n",
        "sns.barplot(x=\"date\",y=\"confirmed\",data=sample_data,palette=np.array(pal[::-1])[rank]) \n",
        "# plt.axvline(5.5,color='red',label='COIVD-19 era',linewidth=1)\n",
        "#plt.axvspan(5.5, 9.5, color='red', alpha=0.2)\n",
        "plt.legend()"
      ],
      "execution_count": 31,
      "outputs": [
        {
          "output_type": "stream",
          "text": [
            "No handles with labels found to put in legend.\n"
          ],
          "name": "stderr"
        },
        {
          "output_type": "execute_result",
          "data": {
            "text/plain": [
              "<matplotlib.legend.Legend at 0x7ffafe57be10>"
            ]
          },
          "metadata": {
            "tags": []
          },
          "execution_count": 31
        },
        {
          "output_type": "display_data",
          "data": {
            "image/png": "[encoded data removed]",
            "text/plain": [
              "<Figure size 864x432 with 1 Axes>"
            ]
          },
          "metadata": {
            "tags": []
          }
        }
      ]
    },
    {
      "cell_type": "code",
      "metadata": {
        "id": "kya1XAg8505i",
        "colab_type": "code",
        "colab": {}
      },
      "source": [
        "# 시계열 데이터의 효율적인 클러스터링을 위한 normalization 진행\n",
        "def normalization_axis(feature):\n",
        "  sum_npy = np.array([x/np.sum(x) for x in feature])\n",
        "  return sum_npy"
      ],
      "execution_count": 38,
      "outputs": []
    },
    {
      "cell_type": "code",
      "metadata": {
        "id": "mRClvoKL5Z0L",
        "colab_type": "code",
        "colab": {}
      },
      "source": [
        "import datetime\n",
        "import collections\n",
        "import folium\n",
        "\n",
        "import pandas as pd\n",
        "import numpy as np\n",
        "\n",
        "import seaborn as sns\n",
        "import matplotlib.pyplot as plt\n",
        "\n",
        "from sklearn.cluster import KMeans\n",
        "from sklearn.preprocessing import MinMaxScaler\n",
        "from sklearn.decomposition import PCA\n",
        "\n",
        "from tslearn.clustering import TimeSeriesKMeans"
      ],
      "execution_count": 43,
      "outputs": []
    },
    {
      "cell_type": "code",
      "metadata": {
        "id": "xZckFXhU6fbN",
        "colab_type": "code",
        "colab": {
          "base_uri": "https://localhost:8080/",
          "height": 254
        },
        "outputId": "514a648c-2671-467e-c837-1a2dca52cf15"
      },
      "source": [
        "#!pip install tslearn"
      ],
      "execution_count": 42,
      "outputs": [
        {
          "output_type": "stream",
          "text": [
            "Collecting tslearn\n",
            "\u001b[?25l  Downloading https://files.pythonhosted.org/packages/a7/67/aa3149fdfef2582d881ce4a5117c9e6a465d5082dd57866904ca508a157c/tslearn-0.4.1-cp36-cp36m-manylinux2010_x86_64.whl (770kB)\n",
            "\u001b[K     |████████████████████████████████| 778kB 4.4MB/s \n",
            "\u001b[?25hRequirement already satisfied: scikit-learn in /usr/local/lib/python3.6/dist-packages (from tslearn) (0.22.2.post1)\n",
            "Requirement already satisfied: numpy in /usr/local/lib/python3.6/dist-packages (from tslearn) (1.18.5)\n",
            "Requirement already satisfied: joblib in /usr/local/lib/python3.6/dist-packages (from tslearn) (0.16.0)\n",
            "Requirement already satisfied: Cython in /usr/local/lib/python3.6/dist-packages (from tslearn) (0.29.21)\n",
            "Requirement already satisfied: scipy in /usr/local/lib/python3.6/dist-packages (from tslearn) (1.4.1)\n",
            "Requirement already satisfied: numba in /usr/local/lib/python3.6/dist-packages (from tslearn) (0.48.0)\n",
            "Requirement already satisfied: llvmlite<0.32.0,>=0.31.0dev0 in /usr/local/lib/python3.6/dist-packages (from numba->tslearn) (0.31.0)\n",
            "Requirement already satisfied: setuptools in /usr/local/lib/python3.6/dist-packages (from numba->tslearn) (49.6.0)\n",
            "Installing collected packages: tslearn\n",
            "Successfully installed tslearn-0.4.1\n"
          ],
          "name": "stdout"
        }
      ]
    },
    {
      "cell_type": "code",
      "metadata": {
        "id": "iZmNWjaR6sjg",
        "colab_type": "code",
        "colab": {}
      },
      "source": [
        "# 필요한 데이터셋 구성\n",
        "province.head()\n",
        "\n",
        "# province 기준으로 확진자 데이터(confirmed) 묶어버리기, 날짜별로도 같이 묶기\n",
        "province_df = province.loc[:, ['confirmed', 'time']]"
      ],
      "execution_count": 48,
      "outputs": []
    },
    {
      "cell_type": "code",
      "metadata": {
        "id": "nJR5vFCxogC2",
        "colab_type": "code",
        "colab": {}
      },
      "source": [
        "# 각 지역별 clusting을 통한 위험군 나눔 \n",
        "# random search 방법으로 n_cluster 지정 \n",
        "n_cluster = 5\n",
        "km = TimeSeriesKMeans(n_clusters=n_cluster, metric=\"euclidean\", max_iter=150).fit(province_df) # normalization 시계열 데이터를 활용해 euclidean 기반 클러스터링을 진행합니다.\n",
        "rlt_tsm = km.predict(province_df)"
      ],
      "execution_count": 73,
      "outputs": []
    },
    {
      "cell_type": "code",
      "metadata": {
        "id": "ADs152z1sOBD",
        "colab_type": "code",
        "colab": {}
      },
      "source": [
        "# 클러스터별 분포도를 시각화하기 위해 전처리 작업\n",
        "labels = []\n",
        "sizes = []\n",
        "for i in range(n_cluster):\n",
        "  labels.append(\"cluster_\"+str(i))\n",
        "  sizes.append(collections.Counter(rlt_tsm)[i])"
      ],
      "execution_count": 74,
      "outputs": []
    },
    {
      "cell_type": "code",
      "metadata": {
        "id": "3fs7LOfH7lgS",
        "colab_type": "code",
        "colab": {
          "base_uri": "https://localhost:8080/",
          "height": 575
        },
        "outputId": "b93f314a-012c-4434-e58a-e0851d42501c"
      },
      "source": [
        "plt.figure(figsize=(10,5))\n",
        "plt.pie(sizes,labels=labels,shadow=True,startangle=90,autopct='%1.1f%%')"
      ],
      "execution_count": 75,
      "outputs": [
        {
          "output_type": "execute_result",
          "data": {
            "text/plain": [
              "([<matplotlib.patches.Wedge at 0x7ffadf3247b8>,\n",
              "  <matplotlib.patches.Wedge at 0x7ffadf32e240>,\n",
              "  <matplotlib.patches.Wedge at 0x7ffadf32ec50>,\n",
              "  <matplotlib.patches.Wedge at 0x7ffadf3396a0>,\n",
              "  <matplotlib.patches.Wedge at 0x7ffadf3440f0>],\n",
              " [Text(-0.5349925698931005, -0.961136280742318, 'cluster_0'),\n",
              "  Text(0.8524092228301998, 0.6952686652179968, 'cluster_1'),\n",
              "  Text(0.5938463470624307, 0.9259300816371652, 'cluster_2'),\n",
              "  Text(0.40201342821777725, 1.023906833424111, 'cluster_3'),\n",
              "  Text(0.1996722976039189, 1.0817259234989112, 'cluster_4')],\n",
              " [Text(-0.29181412903260023, -0.5242561531321734, '83.8%'),\n",
              "  Text(0.46495048518010895, 0.3792374537552709, '4.1%'),\n",
              "  Text(0.3239161893067803, 0.5050527718020901, '6.0%'),\n",
              "  Text(0.2192800517551512, 0.5584946364131514, '0.3%'),\n",
              "  Text(0.1089121623294103, 0.590032321908497, '5.8%')])"
            ]
          },
          "metadata": {
            "tags": []
          },
          "execution_count": 75
        },
        {
          "output_type": "display_data",
          "data": {
            "image/png": "[encoded data removed]",
            "text/plain": [
              "<Figure size 720x360 with 1 Axes>"
            ]
          },
          "metadata": {
            "tags": []
          }
        }
      ]
    },
    {
      "cell_type": "code",
      "metadata": {
        "id": "TJBWedIU7oj2",
        "colab_type": "code",
        "colab": {
          "base_uri": "https://localhost:8080/",
          "height": 365
        },
        "outputId": "70c5328f-a6e3-48df-8a0b-aece4ace49d8"
      },
      "source": [
        "pca = PCA(n_components=2)  # pca를 진행해 클러스터가 얼마나 잘됐는지 검토합니다.\n",
        "rlt_pca = pca.fit_transform(province_df[~np.isnan(province_df).any(axis=1)])\n",
        "for i in range(n_cluster):\n",
        "  label_name = \"cluster \" +str(i)\n",
        "  plt.scatter(rlt_pca[[rlt_tsm==i]][:,0],rlt_pca[[rlt_tsm==i]][:,1],label=label_name)\n",
        "plt.legend()"
      ],
      "execution_count": 78,
      "outputs": [
        {
          "output_type": "execute_result",
          "data": {
            "text/plain": [
              "<matplotlib.legend.Legend at 0x7ffadf486550>"
            ]
          },
          "metadata": {
            "tags": []
          },
          "execution_count": 78
        },
        {
          "output_type": "display_data",
          "data": {
            "image/png": "[encoded data removed]",
            "text/plain": [
              "<Figure size 576x396 with 1 Axes>"
            ]
          },
          "metadata": {
            "tags": []
          }
        }
      ]
    },
    {
      "cell_type": "markdown",
      "metadata": {
        "id": "6y_415vrFCdj",
        "colab_type": "text"
      },
      "source": [
        "이제까지의 clustering은 기존의 확진자수 데이터를 기준으로 위험군 선정을 한 결과이나, 사실상 미래의 위험을 대비하기 위해서는 미래의 확진자를 기준으로 위험군 선정이 필요하므로, 확진자수를 먼저 예측한 이후에 다시 군집화(clustering)을 진행하여 위험군 선정하는 과정이 필요하다. "
      ]
    },
    {
      "cell_type": "markdown",
      "metadata": {
        "id": "-fGorgd5GM0j",
        "colab_type": "text"
      },
      "source": [
        "### 4.2. 예측된 확진자수 데이터 기반으로 위험군 선정 "
      ]
    },
    {
      "cell_type": "code",
      "metadata": {
        "id": "Uvc34T0SCFFl",
        "colab_type": "code",
        "colab": {}
      },
      "source": [
        "# 확진자수 예측을 위한 데이터\n",
        "patientInfo_data = pd.read_csv('PatientInfo.csv')"
      ],
      "execution_count": 94,
      "outputs": []
    },
    {
      "cell_type": "code",
      "metadata": {
        "id": "wrYy1hGAIf_e",
        "colab_type": "code",
        "colab": {
          "base_uri": "https://localhost:8080/",
          "height": 198
        },
        "outputId": "0cb6639b-b1a3-4d0d-cf35-4d3a71f32f3f"
      },
      "source": [
        "patientInfo_data.head()"
      ],
      "execution_count": 97,
      "outputs": [
        {
          "output_type": "execute_result",
          "data": {
            "text/html": [
              "<div>\n",
              "<style scoped>\n",
              "    .dataframe tbody tr th:only-of-type {\n",
              "        vertical-align: middle;\n",
              "    }\n",
              "\n",
              "    .dataframe tbody tr th {\n",
              "        vertical-align: top;\n",
              "    }\n",
              "\n",
              "    .dataframe thead th {\n",
              "        text-align: right;\n",
              "    }\n",
              "</style>\n",
              "<table border=\"1\" class=\"dataframe\">\n",
              "  <thead>\n",
              "    <tr style=\"text-align: right;\">\n",
              "      <th></th>\n",
              "      <th>patient_id</th>\n",
              "      <th>sex</th>\n",
              "      <th>age</th>\n",
              "      <th>country</th>\n",
              "      <th>province</th>\n",
              "      <th>city</th>\n",
              "      <th>infection_case</th>\n",
              "      <th>infected_by</th>\n",
              "      <th>contact_number</th>\n",
              "      <th>symptom_onset_date</th>\n",
              "      <th>confirmed_date</th>\n",
              "      <th>released_date</th>\n",
              "      <th>deceased_date</th>\n",
              "      <th>state</th>\n",
              "    </tr>\n",
              "  </thead>\n",
              "  <tbody>\n",
              "    <tr>\n",
              "      <th>0</th>\n",
              "      <td>1000000001</td>\n",
              "      <td>male</td>\n",
              "      <td>50s</td>\n",
              "      <td>Korea</td>\n",
              "      <td>서울</td>\n",
              "      <td>강서구</td>\n",
              "      <td>overseas inflow</td>\n",
              "      <td>NaN</td>\n",
              "      <td>75</td>\n",
              "      <td>2020-01-22</td>\n",
              "      <td>2020-01-23</td>\n",
              "      <td>2020-02-05</td>\n",
              "      <td>NaN</td>\n",
              "      <td>released</td>\n",
              "    </tr>\n",
              "    <tr>\n",
              "      <th>1</th>\n",
              "      <td>1000000002</td>\n",
              "      <td>male</td>\n",
              "      <td>30s</td>\n",
              "      <td>Korea</td>\n",
              "      <td>서울</td>\n",
              "      <td>중랑구</td>\n",
              "      <td>overseas inflow</td>\n",
              "      <td>NaN</td>\n",
              "      <td>31</td>\n",
              "      <td>NaN</td>\n",
              "      <td>2020-01-30</td>\n",
              "      <td>2020-03-02</td>\n",
              "      <td>NaN</td>\n",
              "      <td>released</td>\n",
              "    </tr>\n",
              "    <tr>\n",
              "      <th>2</th>\n",
              "      <td>1000000003</td>\n",
              "      <td>male</td>\n",
              "      <td>50s</td>\n",
              "      <td>Korea</td>\n",
              "      <td>서울</td>\n",
              "      <td>종로구</td>\n",
              "      <td>contact with patient</td>\n",
              "      <td>2002000001</td>\n",
              "      <td>17</td>\n",
              "      <td>NaN</td>\n",
              "      <td>2020-01-30</td>\n",
              "      <td>2020-02-19</td>\n",
              "      <td>NaN</td>\n",
              "      <td>released</td>\n",
              "    </tr>\n",
              "    <tr>\n",
              "      <th>3</th>\n",
              "      <td>1000000004</td>\n",
              "      <td>male</td>\n",
              "      <td>20s</td>\n",
              "      <td>Korea</td>\n",
              "      <td>서울</td>\n",
              "      <td>마포구</td>\n",
              "      <td>overseas inflow</td>\n",
              "      <td>NaN</td>\n",
              "      <td>9</td>\n",
              "      <td>2020-01-26</td>\n",
              "      <td>2020-01-30</td>\n",
              "      <td>2020-02-15</td>\n",
              "      <td>NaN</td>\n",
              "      <td>released</td>\n",
              "    </tr>\n",
              "    <tr>\n",
              "      <th>4</th>\n",
              "      <td>1000000005</td>\n",
              "      <td>female</td>\n",
              "      <td>20s</td>\n",
              "      <td>Korea</td>\n",
              "      <td>서울</td>\n",
              "      <td>성북구</td>\n",
              "      <td>contact with patient</td>\n",
              "      <td>1000000002</td>\n",
              "      <td>2</td>\n",
              "      <td>NaN</td>\n",
              "      <td>2020-01-31</td>\n",
              "      <td>2020-02-24</td>\n",
              "      <td>NaN</td>\n",
              "      <td>released</td>\n",
              "    </tr>\n",
              "  </tbody>\n",
              "</table>\n",
              "</div>"
            ],
            "text/plain": [
              "   patient_id     sex  age country province city        infection_case  \\\n",
              "0  1000000001    male  50s   Korea       서울  강서구       overseas inflow   \n",
              "1  1000000002    male  30s   Korea       서울  중랑구       overseas inflow   \n",
              "2  1000000003    male  50s   Korea       서울  종로구  contact with patient   \n",
              "3  1000000004    male  20s   Korea       서울  마포구       overseas inflow   \n",
              "4  1000000005  female  20s   Korea       서울  성북구  contact with patient   \n",
              "\n",
              "  infected_by contact_number symptom_onset_date confirmed_date released_date  \\\n",
              "0         NaN             75         2020-01-22     2020-01-23    2020-02-05   \n",
              "1         NaN             31                NaN     2020-01-30    2020-03-02   \n",
              "2  2002000001             17                NaN     2020-01-30    2020-02-19   \n",
              "3         NaN              9         2020-01-26     2020-01-30    2020-02-15   \n",
              "4  1000000002              2                NaN     2020-01-31    2020-02-24   \n",
              "\n",
              "  deceased_date     state  \n",
              "0           NaN  released  \n",
              "1           NaN  released  \n",
              "2           NaN  released  \n",
              "3           NaN  released  \n",
              "4           NaN  released  "
            ]
          },
          "metadata": {
            "tags": []
          },
          "execution_count": 97
        }
      ]
    },
    {
      "cell_type": "code",
      "metadata": {
        "id": "SUmQtZ6mGg1J",
        "colab_type": "code",
        "colab": {}
      },
      "source": [
        "# scaling \n"
      ],
      "execution_count": 93,
      "outputs": []
    },
    {
      "cell_type": "code",
      "metadata": {
        "id": "Iss1dNiqGX3Q",
        "colab_type": "code",
        "colab": {}
      },
      "source": [
        "# baseline model \n"
      ],
      "execution_count": 90,
      "outputs": []
    },
    {
      "cell_type": "code",
      "metadata": {
        "id": "xiG8hXOaGbTr",
        "colab_type": "code",
        "colab": {}
      },
      "source": [
        "# hyperparameter tuning \n"
      ],
      "execution_count": 91,
      "outputs": []
    },
    {
      "cell_type": "code",
      "metadata": {
        "id": "s_zQ_bBdGdaQ",
        "colab_type": "code",
        "colab": {}
      },
      "source": [
        "# visualization \n"
      ],
      "execution_count": 92,
      "outputs": []
    },
    {
      "cell_type": "code",
      "metadata": {
        "id": "eTgCjxYlGfg7",
        "colab_type": "code",
        "colab": {}
      },
      "source": [
        ""
      ],
      "execution_count": null,
      "outputs": []
    }
  ]
}